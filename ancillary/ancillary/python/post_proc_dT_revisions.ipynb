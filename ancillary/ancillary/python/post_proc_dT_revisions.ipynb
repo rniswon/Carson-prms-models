{
 "cells": [
  {
   "cell_type": "code",
   "execution_count": 9,
   "metadata": {},
   "outputs": [
    {
     "name": "stdout",
     "output_type": "stream",
     "text": [
      "flopy is installed in C:\\conda3x64\\envs\\p3x64\\lib\\site-packages\\flopy\n"
     ]
    }
   ],
   "source": [
    "import os\n",
    "import pyemu\n",
    "import CV_tools\n",
    "import pandas as pd\n",
    "import numpy as np\n",
    "import matplotlib.pyplot as plt\n",
    "import matplotlib.ticker as ticker\n",
    "import datetime\n",
    "import flopy.utils.binaryfile as bf\n",
    "from shutil import copyfile\n",
    "%matplotlib inline\n",
    "#%matplotlib notebook #allows zooming, but opens many figures"
   ]
  },
  {
   "cell_type": "code",
   "execution_count": 10,
   "metadata": {},
   "outputs": [],
   "source": [
    "cft2Mm3=1/(3.28084**3)/1.0e6\n",
    "\n",
    "extdir=r'S:\\kitlasten2020_wrr\\model\\external_files\\Carson_Valley'"
   ]
  },
  {
   "cell_type": "code",
   "execution_count": 11,
   "metadata": {},
   "outputs": [],
   "source": [
    "def get_scens():\n",
    "    outdir=r'S:\\kitlasten2020_wrr\\output'\n",
    "    scens={'0C':os.path.join(outdir,'output_MSGSF_0C'),\n",
    "                 '1C':os.path.join(outdir,'output_MSGSF_1C'),\n",
    "                 '2C':os.path.join(outdir,'output_MSGSF_2C'),\n",
    "                 '3C':os.path.join(outdir,'output_MSGSF_3C'),\n",
    "                 '4C':os.path.join(outdir,'output_MSGSF_4C'),\n",
    "                 '5C':os.path.join(outdir,'output_MSGSF_5C'),\n",
    "                 'hist':os.path.join(outdir,'output_MSGSF_hist')}\n",
    "    scenlist=['0C','1C','2C','3C','4C','5C','hist']\n",
    "    return(scenlist,scens)"
   ]
  },
  {
   "cell_type": "code",
   "execution_count": 12,
   "metadata": {},
   "outputs": [],
   "source": [
    "scenlist,scens=get_scens()\n",
    "simstart=datetime.date(1979,7,2)\n",
    "simstop=datetime.date(2015,9,30)\n",
    "irrmo=[4,5,6,7,8,9]\n",
    "scend8s=pd.date_range('1980-10-1','2015-9-30',freq='D')\n",
    "scenyrs=scend8s.year.unique()\n",
    "figsize=(10,5)"
   ]
  },
  {
   "cell_type": "code",
   "execution_count": 13,
   "metadata": {},
   "outputs": [],
   "source": [
    "#New WR acres\n",
    "#get irrigation acres from wr_cell_frac\n",
    "# cell frac in pandas\n",
    "celldf=pd.read_csv(os.path.join(extdir,'wr_cell_frac.txt'))\n",
    "celldf.columns=celldf.columns.str.lower()\n",
    "celldf.wrname=celldf.wrname.apply(lambda x: x.lower().replace('_',''))\n",
    "celldf.set_index('wrname',inplace=True)\n",
    "celldf.drop(['unnamed: 0'],axis=1,inplace=True)\n",
    "celldf['row']=celldf['row']-1\n",
    "celldf['col']=celldf['col']-1\n",
    "wracres=celldf.loc[:,'wr_acres']\n",
    "wracres=wracres.groupby(by='wrname').mean()"
   ]
  },
  {
   "cell_type": "code",
   "execution_count": 14,
   "metadata": {},
   "outputs": [],
   "source": [
    "def get_wrdf(irrfile,wracres):\n",
    "    with open(irrfile,'r') as f:\n",
    "        head=f.readline().replace('#','').strip().replace('  ',' ').replace('  ',' ').split(' ')\n",
    "    \n",
    "    irr=pd.read_csv(irrfile,skiprows=[0],names=head,delim_whitespace=True)\n",
    "    irr.index=irr.WRname.str.lower()\n",
    "    irr.drop('WRname',inplace=True,axis=1)\n",
    "#wrfile='CV-wes-8015trans-WRtable.txt'\n",
    "# ONLY do this if irr doesn't have wryr\n",
    "#with open(wrfile,'r') as f:\n",
    "#    head=f.readline().replace('#','').strip(' ').strip().replace('  ',' ').split(' ')\n",
    "#wr=pd.read_csv(wrfile,skiprows=[0],names=head,delim_whitespace=True)\n",
    "#wr.index=wr.WRname.str.lower()\n",
    "#wr.drop(['WRname','desc','acres','row','col'],inplace=True,axis=1)\n",
    "#wrdf=irr.merge(wr,left_on='WRname',right_on='WRname')\n",
    "#wrdf.to_csv(irrfile,sep=' ',na_rep=('NA'))\n",
    "    wrdf=irr.copy(deep=True)\n",
    "    wrdf=wrdf.groupby(['WRname']).mean() #gets rid of duplicates by averaging, also drops any non-numeric data not in by\n",
    "    wrdf.index=wrdf.index.str.lower()\n",
    "    wrdf['acres']=wracres\n",
    "    \n",
    "    # get proper CA WRYR\n",
    "    propwryr={'478-481': 1864,'487': 1891,'488-490': 1891,'491': 1893,'492-501': 1881,\n",
    "              '502-507': 1871,'508': 1890,'509-510': 1884,'511': 1893,'512': 1894,\n",
    "              '513-514': 1864,'515': 1864,'516-517': 1864,'517a': 1871,'518-519': 1864,\n",
    "              '520-522': 1892,'523-527': 1885,'528': 1894,'529-531': 1866,'532-533': 1865,'534': 1885,'535-536': 1859}\n",
    "    for wr in propwryr:\n",
    "        wrdf.loc[wr,'wryr']=propwryr[wr]\n",
    "\n",
    "    \n",
    "    \n",
    "    wrdf.head()\n",
    "    return(wrdf)"
   ]
  },
  {
   "cell_type": "code",
   "execution_count": 15,
   "metadata": {},
   "outputs": [],
   "source": [
    "def sumtab(pst,e,real='base'):\n",
    "    '''this is for ensembles only, i.e. pest during calibration period'''\n",
    "    pie=[]\n",
    "    plab=[]\n",
    "    res={}\n",
    "    ensemble=(pst.filename.replace('pst','.{}.{}.csv'.format(e,'obs')).replace('..','.').replace('..','.')) #double dot for noptmax=0\n",
    "    if os.path.exists(ensemble):\n",
    "        try:\n",
    "            pen=pd.read_csv(ensemble.replace('obs','par'),low_memory=False)\n",
    "            pen.set_index('real_name',inplace=True)\n",
    "            pen=pen.T\n",
    "        except:\n",
    "            pen=pd.read_csv(ensemble.replace('obs.csv','base.par'),index_col=0,\n",
    "                            low_memory=False,header=0,names=['parnme','base'],usecols=[0,1],delim_whitespace=True)\n",
    "            \n",
    "            \n",
    "        en=pd.read_csv(ensemble,low_memory=False)\n",
    "        en.set_index('real_name',inplace=True)\n",
    "        en=en.T\n",
    "        en.columns=en.columns.astype(str)\n",
    "        \n",
    "        print(ensemble)\n",
    "    elif 'rns'==e: #ensemble name is dumb\n",
    "        #try intermediate partial ensemble from rns\n",
    "        #does not contain lambda test results, only \"remaining ensemble\" reals\n",
    "        rns=pyemu.utils.read_pestpp_runstorage(pst.filename.replace('.pst','.rns'),irun='all')\n",
    "        done=[r for r in rns[1].index if rns[1].loc[r,:].mean()!=0]\n",
    "        pen=rns[0].loc[done,:]\n",
    "        en=rns[1].loc[done,:]\n",
    "        pen=pen.T\n",
    "        en=en.T\n",
    "        en.columns=en.columns.astype(str)\n",
    "        \n",
    "        print('using rns file {} with {} reals complete'.format(pst.filename.replace('.pst','.rns'),len(en.columns)))\n",
    "    if real=='base':\n",
    "        try:\n",
    "            sim=en.loc[:,'base']\n",
    "        except:\n",
    "            sim=en.loc[:,:].mean(axis=1)\n",
    "            print('cannot find base real, using mean')\n",
    "    elif real=='mean':\n",
    "        sim=en.loc[:,:].mean(axis=1)\n",
    "    tres=[]\n",
    "    print('GROUP CONTRIBUTIONS TO PHI ({})'.format(real))\n",
    "    for g in sorted(list(set(obs['obgnme']))):\n",
    "        mask=[o for o in obs.index if obs.loc[o,'obgnme']==g]\n",
    "        res[g]=(sim.loc[mask]-obs.loc[mask,'obsval']).to_frame()\n",
    "        res[g].columns=['res']\n",
    "        if 'less_' not in g:\n",
    "            wres=(res[g].loc[:,'res']*obs.loc[mask,'weight'])**2\n",
    "        else:\n",
    "            m=[i for i in mask if obs.loc[i,'obsval']<sim.loc[i]]\n",
    "            wres=(res[g].loc[m,'res']*obs.loc[m,'weight'])**2\n",
    "        print('{0:<20}: sum={1:>10.2e}, std={2:>10.2e}'.format(g,wres.sum(),wres.std()))\n",
    "        pie.append(wres.sum())\n",
    "        plab.append(g)\n",
    "        tres.append(wres.sum())\n",
    "    total=np.sum(tres)\n",
    "    print('total {0:.2e}, {1:.2e}'.format(total,np.std(tres)))\n",
    "    plt.pie(pie,labels=plab)\n",
    "    plt.show()\n",
    "    en['res_real']=sim\n",
    "    return(pen,en,res)\n",
    "    "
   ]
  },
  {
   "cell_type": "code",
   "execution_count": 16,
   "metadata": {},
   "outputs": [
    {
     "data": {
      "text/html": [
       "<div>\n",
       "<style scoped>\n",
       "    .dataframe tbody tr th:only-of-type {\n",
       "        vertical-align: middle;\n",
       "    }\n",
       "\n",
       "    .dataframe tbody tr th {\n",
       "        vertical-align: top;\n",
       "    }\n",
       "\n",
       "    .dataframe thead th {\n",
       "        text-align: right;\n",
       "    }\n",
       "</style>\n",
       "<table border=\"1\" class=\"dataframe\">\n",
       "  <thead>\n",
       "    <tr style=\"text-align: right;\">\n",
       "      <th></th>\n",
       "      <th>iseg</th>\n",
       "      <th>wellnum</th>\n",
       "      <th>welllay</th>\n",
       "      <th>wellrow</th>\n",
       "      <th>wellcol</th>\n",
       "      <th>startyr</th>\n",
       "      <th>dpt</th>\n",
       "      <th>swu</th>\n",
       "      <th>swufrac</th>\n",
       "      <th>pctsup</th>\n",
       "      <th>swfrfrac</th>\n",
       "      <th>swfr</th>\n",
       "      <th>welleff</th>\n",
       "      <th>wryr</th>\n",
       "      <th>row</th>\n",
       "      <th>col</th>\n",
       "      <th>acres</th>\n",
       "    </tr>\n",
       "    <tr>\n",
       "      <th>WRname</th>\n",
       "      <th></th>\n",
       "      <th></th>\n",
       "      <th></th>\n",
       "      <th></th>\n",
       "      <th></th>\n",
       "      <th></th>\n",
       "      <th></th>\n",
       "      <th></th>\n",
       "      <th></th>\n",
       "      <th></th>\n",
       "      <th></th>\n",
       "      <th></th>\n",
       "      <th></th>\n",
       "      <th></th>\n",
       "      <th></th>\n",
       "      <th></th>\n",
       "      <th></th>\n",
       "    </tr>\n",
       "  </thead>\n",
       "  <tbody>\n",
       "    <tr>\n",
       "      <th>056</th>\n",
       "      <td>998</td>\n",
       "      <td>NaN</td>\n",
       "      <td>NaN</td>\n",
       "      <td>NaN</td>\n",
       "      <td>NaN</td>\n",
       "      <td>NaN</td>\n",
       "      <td>0.010929</td>\n",
       "      <td>0.007726</td>\n",
       "      <td>0.767833</td>\n",
       "      <td>NaN</td>\n",
       "      <td>0.993391</td>\n",
       "      <td>0.999725</td>\n",
       "      <td>NaN</td>\n",
       "      <td>1880.0</td>\n",
       "      <td>158.0</td>\n",
       "      <td>84.0</td>\n",
       "      <td>1.9875</td>\n",
       "    </tr>\n",
       "    <tr>\n",
       "      <th>057a</th>\n",
       "      <td>1051</td>\n",
       "      <td>NaN</td>\n",
       "      <td>NaN</td>\n",
       "      <td>NaN</td>\n",
       "      <td>NaN</td>\n",
       "      <td>NaN</td>\n",
       "      <td>0.027982</td>\n",
       "      <td>0.051638</td>\n",
       "      <td>0.774693</td>\n",
       "      <td>NaN</td>\n",
       "      <td>0.907559</td>\n",
       "      <td>0.089143</td>\n",
       "      <td>NaN</td>\n",
       "      <td>1889.0</td>\n",
       "      <td>155.0</td>\n",
       "      <td>85.0</td>\n",
       "      <td>97.0679</td>\n",
       "    </tr>\n",
       "    <tr>\n",
       "      <th>058a</th>\n",
       "      <td>1157</td>\n",
       "      <td>NaN</td>\n",
       "      <td>NaN</td>\n",
       "      <td>NaN</td>\n",
       "      <td>NaN</td>\n",
       "      <td>NaN</td>\n",
       "      <td>0.022108</td>\n",
       "      <td>0.007892</td>\n",
       "      <td>0.855151</td>\n",
       "      <td>NaN</td>\n",
       "      <td>0.854737</td>\n",
       "      <td>0.108686</td>\n",
       "      <td>NaN</td>\n",
       "      <td>1916.0</td>\n",
       "      <td>150.0</td>\n",
       "      <td>86.0</td>\n",
       "      <td>99.7208</td>\n",
       "    </tr>\n",
       "    <tr>\n",
       "      <th>059</th>\n",
       "      <td>999</td>\n",
       "      <td>NaN</td>\n",
       "      <td>NaN</td>\n",
       "      <td>NaN</td>\n",
       "      <td>NaN</td>\n",
       "      <td>NaN</td>\n",
       "      <td>0.158524</td>\n",
       "      <td>0.020658</td>\n",
       "      <td>0.866762</td>\n",
       "      <td>NaN</td>\n",
       "      <td>0.872975</td>\n",
       "      <td>0.693674</td>\n",
       "      <td>NaN</td>\n",
       "      <td>1880.0</td>\n",
       "      <td>159.0</td>\n",
       "      <td>84.0</td>\n",
       "      <td>6.2327</td>\n",
       "    </tr>\n",
       "    <tr>\n",
       "      <th>060</th>\n",
       "      <td>1116</td>\n",
       "      <td>NaN</td>\n",
       "      <td>NaN</td>\n",
       "      <td>NaN</td>\n",
       "      <td>NaN</td>\n",
       "      <td>NaN</td>\n",
       "      <td>0.156815</td>\n",
       "      <td>0.024127</td>\n",
       "      <td>0.924215</td>\n",
       "      <td>NaN</td>\n",
       "      <td>0.857488</td>\n",
       "      <td>0.753628</td>\n",
       "      <td>NaN</td>\n",
       "      <td>1900.0</td>\n",
       "      <td>159.0</td>\n",
       "      <td>83.0</td>\n",
       "      <td>12.5040</td>\n",
       "    </tr>\n",
       "    <tr>\n",
       "      <th>061</th>\n",
       "      <td>1052</td>\n",
       "      <td>2.0</td>\n",
       "      <td>4.0</td>\n",
       "      <td>151.0</td>\n",
       "      <td>76.0</td>\n",
       "      <td>1981.333333</td>\n",
       "      <td>0.000052</td>\n",
       "      <td>0.092544</td>\n",
       "      <td>0.900002</td>\n",
       "      <td>0.81</td>\n",
       "      <td>0.878824</td>\n",
       "      <td>0.211569</td>\n",
       "      <td>0.367081</td>\n",
       "      <td>1889.0</td>\n",
       "      <td>152.0</td>\n",
       "      <td>78.0</td>\n",
       "      <td>38.3758</td>\n",
       "    </tr>\n",
       "    <tr>\n",
       "      <th>063</th>\n",
       "      <td>743</td>\n",
       "      <td>NaN</td>\n",
       "      <td>NaN</td>\n",
       "      <td>NaN</td>\n",
       "      <td>NaN</td>\n",
       "      <td>NaN</td>\n",
       "      <td>0.101008</td>\n",
       "      <td>0.031664</td>\n",
       "      <td>0.883223</td>\n",
       "      <td>NaN</td>\n",
       "      <td>0.791365</td>\n",
       "      <td>0.492795</td>\n",
       "      <td>NaN</td>\n",
       "      <td>1860.0</td>\n",
       "      <td>155.0</td>\n",
       "      <td>77.0</td>\n",
       "      <td>162.1254</td>\n",
       "    </tr>\n",
       "    <tr>\n",
       "      <th>064</th>\n",
       "      <td>762</td>\n",
       "      <td>5.0</td>\n",
       "      <td>4.0</td>\n",
       "      <td>151.0</td>\n",
       "      <td>76.0</td>\n",
       "      <td>1981.333333</td>\n",
       "      <td>0.015966</td>\n",
       "      <td>0.023146</td>\n",
       "      <td>0.797631</td>\n",
       "      <td>0.81</td>\n",
       "      <td>0.929672</td>\n",
       "      <td>0.963813</td>\n",
       "      <td>0.373743</td>\n",
       "      <td>1861.0</td>\n",
       "      <td>150.0</td>\n",
       "      <td>76.0</td>\n",
       "      <td>104.5396</td>\n",
       "    </tr>\n",
       "    <tr>\n",
       "      <th>065</th>\n",
       "      <td>905</td>\n",
       "      <td>8.0</td>\n",
       "      <td>4.0</td>\n",
       "      <td>151.0</td>\n",
       "      <td>76.0</td>\n",
       "      <td>1981.333333</td>\n",
       "      <td>0.018496</td>\n",
       "      <td>0.019191</td>\n",
       "      <td>0.850717</td>\n",
       "      <td>0.81</td>\n",
       "      <td>0.856266</td>\n",
       "      <td>0.979470</td>\n",
       "      <td>0.566241</td>\n",
       "      <td>1875.0</td>\n",
       "      <td>148.0</td>\n",
       "      <td>78.0</td>\n",
       "      <td>40.8601</td>\n",
       "    </tr>\n",
       "    <tr>\n",
       "      <th>066</th>\n",
       "      <td>1043</td>\n",
       "      <td>11.5</td>\n",
       "      <td>4.0</td>\n",
       "      <td>149.0</td>\n",
       "      <td>77.0</td>\n",
       "      <td>1985.250000</td>\n",
       "      <td>0.012967</td>\n",
       "      <td>0.020540</td>\n",
       "      <td>0.747601</td>\n",
       "      <td>0.81</td>\n",
       "      <td>0.789559</td>\n",
       "      <td>0.979944</td>\n",
       "      <td>0.809078</td>\n",
       "      <td>1888.0</td>\n",
       "      <td>148.0</td>\n",
       "      <td>76.0</td>\n",
       "      <td>25.6969</td>\n",
       "    </tr>\n",
       "  </tbody>\n",
       "</table>\n",
       "</div>"
      ],
      "text/plain": [
       "        iseg  wellnum  welllay  wellrow  wellcol      startyr       dpt  \\\n",
       "WRname                                                                    \n",
       "056      998      NaN      NaN      NaN      NaN          NaN  0.010929   \n",
       "057a    1051      NaN      NaN      NaN      NaN          NaN  0.027982   \n",
       "058a    1157      NaN      NaN      NaN      NaN          NaN  0.022108   \n",
       "059      999      NaN      NaN      NaN      NaN          NaN  0.158524   \n",
       "060     1116      NaN      NaN      NaN      NaN          NaN  0.156815   \n",
       "061     1052      2.0      4.0    151.0     76.0  1981.333333  0.000052   \n",
       "063      743      NaN      NaN      NaN      NaN          NaN  0.101008   \n",
       "064      762      5.0      4.0    151.0     76.0  1981.333333  0.015966   \n",
       "065      905      8.0      4.0    151.0     76.0  1981.333333  0.018496   \n",
       "066     1043     11.5      4.0    149.0     77.0  1985.250000  0.012967   \n",
       "\n",
       "             swu   swufrac  pctsup  swfrfrac      swfr   welleff    wryr  \\\n",
       "WRname                                                                     \n",
       "056     0.007726  0.767833     NaN  0.993391  0.999725       NaN  1880.0   \n",
       "057a    0.051638  0.774693     NaN  0.907559  0.089143       NaN  1889.0   \n",
       "058a    0.007892  0.855151     NaN  0.854737  0.108686       NaN  1916.0   \n",
       "059     0.020658  0.866762     NaN  0.872975  0.693674       NaN  1880.0   \n",
       "060     0.024127  0.924215     NaN  0.857488  0.753628       NaN  1900.0   \n",
       "061     0.092544  0.900002    0.81  0.878824  0.211569  0.367081  1889.0   \n",
       "063     0.031664  0.883223     NaN  0.791365  0.492795       NaN  1860.0   \n",
       "064     0.023146  0.797631    0.81  0.929672  0.963813  0.373743  1861.0   \n",
       "065     0.019191  0.850717    0.81  0.856266  0.979470  0.566241  1875.0   \n",
       "066     0.020540  0.747601    0.81  0.789559  0.979944  0.809078  1888.0   \n",
       "\n",
       "          row   col     acres  \n",
       "WRname                         \n",
       "056     158.0  84.0    1.9875  \n",
       "057a    155.0  85.0   97.0679  \n",
       "058a    150.0  86.0   99.7208  \n",
       "059     159.0  84.0    6.2327  \n",
       "060     159.0  83.0   12.5040  \n",
       "061     152.0  78.0   38.3758  \n",
       "063     155.0  77.0  162.1254  \n",
       "064     150.0  76.0  104.5396  \n",
       "065     148.0  78.0   40.8601  \n",
       "066     148.0  76.0   25.6969  "
      ]
     },
     "execution_count": 16,
     "metadata": {},
     "output_type": "execute_result"
    }
   ],
   "source": [
    "wrdf=get_wrdf(os.path.join(extdir,'CV-wes-8015trans-irrigation-fracsup.txt'),wracres)\n",
    "wrdf.head(10)"
   ]
  },
  {
   "cell_type": "markdown",
   "metadata": {},
   "source": [
    "## scenario results"
   ]
  },
  {
   "cell_type": "code",
   "execution_count": 17,
   "metadata": {},
   "outputs": [],
   "source": [
    "#run post procs, takes a while\n",
    "#sim_wrts_extract_final.py"
   ]
  },
  {
   "cell_type": "code",
   "execution_count": null,
   "metadata": {},
   "outputs": [],
   "source": []
  },
  {
   "cell_type": "markdown",
   "metadata": {},
   "source": [
    "# WARNING \"SW-RIGHT\" in swgag file does NOT match demand tabs or MODSIM demands"
   ]
  },
  {
   "cell_type": "code",
   "execution_count": null,
   "metadata": {},
   "outputs": [],
   "source": []
  },
  {
   "cell_type": "code",
   "execution_count": 18,
   "metadata": {
    "scrolled": false
   },
   "outputs": [
    {
     "name": "stdout",
     "output_type": "stream",
     "text": [
      "0C has 360.9 ft3 et by WR with rate > 4 ft/yr\n",
      "1C has 376.1 ft3 et by WR with rate > 4 ft/yr\n",
      "2C has 376.2 ft3 et by WR with rate > 4 ft/yr\n",
      "3C has 392.9 ft3 et by WR with rate > 4 ft/yr\n",
      "4C has 405.0 ft3 et by WR with rate > 4 ft/yr\n",
      "5C has 414.8 ft3 et by WR with rate > 4 ft/yr\n",
      "hist has 497.6 ft3 et by WR with rate > 4 ft/yr\n"
     ]
    }
   ],
   "source": [
    "# get ET data from post-proc\n",
    "etdf={}\n",
    "\n",
    "scenlist,scens=get_scens()\n",
    "\n",
    "resdir=r'S:\\kitlasten2020_wrr\\results_dT'\n",
    "if not os.path.exists(resdir):\n",
    "    os.mkdir(resdir)\n",
    "    \n",
    "#get et from post-processor annual cubic feet (pre-proc pcpet incorporated in same sim_wret_ts.txt file)\n",
    "for scen in scenlist:\n",
    "    if not os.path.exists(os.path.join(resdir,scen)):\n",
    "        os.mkdir(os.path.join(resdir,scen))\n",
    "    df=pd.read_csv(os.path.join(scens[scen],'sim_wret_ts.txt'),delim_whitespace=True,usecols=[0,1,2,3,4,5],index_col=False)\n",
    "    \n",
    "    d8str=df.loc[:,'obnme'].str.split('_').str.get(-1)+'0101'\n",
    "    df['yr']=pd.to_datetime(d8str,format='%y%m%d')\n",
    "    df['wr']=df.loc[:,'obnme'].str.split('_',1).str.get(1).str.rsplit('_',1).str.get(0)\n",
    "    df['wr_yr']=df.loc[:,'obnme'].str.split('_',1).str.get(1)\n",
    "    df=df.merge(wrdf,left_on='wr',right_on='WRname')\n",
    "    etdf[scen]=df.copy(deep=True)\n",
    "    \n",
    "#get deliv from post-processed file (annual cubic feet)\n",
    "for scen in scenlist:\n",
    "    df=pd.read_csv(os.path.join(scens[scen],'sim_swgag_ts.txt'),delim_whitespace=True,usecols=[0,1,2,3,4],index_col=False)\n",
    "    d8str=df.loc[:,'obnme'].str.split('_').str.get(-1)+'0101'\n",
    "    df['yr']=pd.to_datetime(d8str,format='%y%m%d')\n",
    "    df['wr']=df.loc[:,'obnme'].str.split('_',1).str.get(1).str.rsplit('_',1).str.get(0)\n",
    "    df['wr_yr']=df.loc[:,'obnme'].str.split('_',1).str.get(1)\n",
    "    df.drop(['obnme','yr','wr'],inplace=True,axis=1)\n",
    "    etdf[scen]=df.merge(etdf[scen],left_on='wr_yr',right_on='wr_yr')\n",
    "#     etdf[scen]=deliv.loc[:,['0C_del']].merge(etdf[scen],left_on='wr',right_on='wr')\n",
    "    \n",
    "    \n",
    "#data frame for each wr and each yr\n",
    "pd.set_option('precision', 3)\n",
    "for scen in scenlist:\n",
    "    #these now in feet per year\n",
    "    bscen='0C'\n",
    "    etdf[scen]['tot_et_fpy']=etdf[scen]['total_wr_et']/etdf[scen]['acres']/43560\n",
    "    etdf[scen]['tot_del_fpy']=etdf[scen]['tot_del']/etdf[scen]['acres']/43560\n",
    "    etdf[scen]['sw_del_fpy']=etdf[scen]['sw_del']/etdf[scen]['acres']/43560\n",
    "    etdf[scen]['well_del_fpy']=etdf[scen]['well_del']/etdf[scen]['acres']/43560\n",
    "\n",
    "    etdf[bscen]['tot_et_fpy']=etdf[bscen]['total_wr_et']/etdf[bscen]['acres']/43560\n",
    "    etdf[bscen]['tot_del_fpy']=etdf[bscen]['tot_del']/etdf[bscen]['acres']/43560\n",
    "    etdf[bscen]['sw_del_fpy']=etdf[bscen]['sw_del']/etdf[bscen]['acres']/43560\n",
    "    etdf[bscen]['well_del_fpy']=etdf[bscen]['well_del']/etdf[bscen]['acres']/43560\n",
    "    \n",
    "    # difference from 0C\n",
    "    etdf[scen].index=etdf[scen].obnme\n",
    "    etdf[bscen].index=etdf[bscen].obnme\n",
    "    etdf[scen]['tot_et_fpy_scen_0C']=etdf[scen]['tot_et_fpy']-etdf[bscen]['tot_et_fpy']\n",
    "    etdf[scen]['tot_et_volume_scen_0C']=etdf[scen]['total_wr_et']-etdf[bscen]['total_wr_et']\n",
    "    etdf[scen]['tot_del_scen_0C']=etdf[scen]['tot_del']-etdf[bscen]['tot_del']\n",
    "    etdf[scen]['sw_del_scen_0C']=etdf[scen]['sw_del']-etdf[bscen]['sw_del']\n",
    "    etdf[scen]['well_del_scen_0C']=etdf[scen]['well_del']-etdf[bscen]['well_del']\n",
    "    etdf[scen]['tot_del_fpy_scen_0C']=etdf[scen]['tot_del_fpy']-etdf[bscen]['tot_del_fpy']\n",
    "    etdf[scen]['sw_del_fpy_scen_0C']=etdf[scen]['sw_del_fpy']-etdf[bscen]['sw_del_fpy']\n",
    "    etdf[scen]['well_del_fpy_scen_0C']=etdf[scen]['well_del_fpy']-etdf[bscen]['well_del_fpy']\n",
    "    \n",
    "    etdf[scen].drop('wr_yr',inplace=True,axis=1)\n",
    "    \n",
    "    mask=[i for i in etdf[scen].index if etdf[scen].loc[i,'tot_et_fpy']>4]\n",
    "    print('{0} has {1:.1f} ft3 et by WR with rate > 4 ft/yr'.format(scen,etdf[scen].loc[mask,'total_wr_et'].divide(43560).mean())) #average volume leaving from WR with ET>4 in ac-ft/yr\n"
   ]
  },
  {
   "cell_type": "code",
   "execution_count": 19,
   "metadata": {},
   "outputs": [
    {
     "data": {
      "image/png": "[encoded data removed]",
      "text/plain": [
       "<Figure size 432x288 with 1 Axes>"
      ]
     },
     "metadata": {
      "needs_background": "light"
     },
     "output_type": "display_data"
    },
    {
     "data": {
      "image/png": "[encoded data removed]",
      "text/plain": [
       "<Figure size 432x288 with 1 Axes>"
      ]
     },
     "metadata": {
      "needs_background": "light"
     },
     "output_type": "display_data"
    },
    {
     "data": {
      "image/png": "[encoded data removed]",
      "text/plain": [
       "<Figure size 432x288 with 1 Axes>"
      ]
     },
     "metadata": {
      "needs_background": "light"
     },
     "output_type": "display_data"
    },
    {
     "data": {
      "image/png": "[encoded data removed]",
      "text/plain": [
       "<Figure size 432x288 with 1 Axes>"
      ]
     },
     "metadata": {
      "needs_background": "light"
     },
     "output_type": "display_data"
    },
    {
     "data": {
      "image/png": "[encoded data removed]",
      "text/plain": [
       "<Figure size 432x288 with 1 Axes>"
      ]
     },
     "metadata": {
      "needs_background": "light"
     },
     "output_type": "display_data"
    },
    {
     "data": {
      "image/png": "[encoded data removed]",
      "text/plain": [
       "<Figure size 432x288 with 1 Axes>"
      ]
     },
     "metadata": {
      "needs_background": "light"
     },
     "output_type": "display_data"
    },
    {
     "data": {
      "image/png": "[encoded data removed]",
      "text/plain": [
       "<Figure size 432x288 with 1 Axes>"
      ]
     },
     "metadata": {
      "needs_background": "light"
     },
     "output_type": "display_data"
    }
   ],
   "source": [
    "# get results from pest to compare obs\n",
    "pestname='CV_cal_finalpars.pst'\n",
    "pst=pyemu.Pst(os.path.join(r'S:\\kitlasten2020_wrr\\ancillary\\pest',pestname))\n",
    "obs=pst.observation_data\n",
    "for scen in scenlist:\n",
    "    etdf[scen].hist('tot_et_fpy',bins=np.arange(etdf[scen]['tot_et_fpy'].min(),etdf[scen]['tot_et_fpy'].max(),0.25))\n",
    "    plt.title('ET rate for all WR: {}'.format(scen))\n",
    "    plt.xlabel('ET rate (ft/yr)')\n",
    "    wrrtobs=[o for o in obs.index if obs.loc[o,'obgnme']=='wrrt']\n",
    "    obs.loc[wrrtobs,'obsval'].hist(bins=np.arange(etdf[scen]['tot_et_fpy'].min(),etdf[scen]['tot_et_fpy'].max(),0.25),alpha=0.6)\n",
    "    plt.legend([scen,'obs'])\n",
    "    plt.show()"
   ]
  },
  {
   "cell_type": "code",
   "execution_count": 20,
   "metadata": {},
   "outputs": [
    {
     "name": "stdout",
     "output_type": "stream",
     "text": [
      "0C\n",
      "1C\n",
      "2C\n",
      "3C\n",
      "4C\n",
      "5C\n",
      "hist\n"
     ]
    }
   ],
   "source": [
    "#write etdf file, copy inflow results (check agains intabs), build df of mean values for each WR\n",
    "mdflist=[]\n",
    "wrcols=['acres','tot_del','sw_del','well_del','total_wr_et','swet','wellet','gwet','pcpet','pctsup','wryr',\n",
    "        'tot_del_scen_0C','sw_del_scen_0C','well_del_scen_0C',\n",
    "        'tot_del_fpy_scen_0C','sw_del_fpy_scen_0C','well_del_fpy_scen_0C',\n",
    "        'tot_et_fpy_scen_0C','tot_et_volume_scen_0C']\n",
    "for scen in scenlist:\n",
    "    print(scen)\n",
    "    etdf[scen].to_csv(os.path.join(resdir,scen,scen+'_etdf.csv'),columns=[c for c in wrcols])\n",
    "    mdf=etdf[scen].groupby('wr').mean() #wr becomes index, don't include in cols\n",
    "    mdf.to_csv(os.path.join(resdir,scen,scen+'_mean_etdf.csv'),columns=[c for c in wrcols])\n",
    "    copyfile(os.path.join('..\\\\','runs',scens[scen],'CV-wes-8015trans-10311000.sgag'),os.path.join(resdir,scen,scen+'-10311000.sgag'))\n",
    "    copyfile(os.path.join('..\\\\','runs',scens[scen],'CV-wes-8015trans-10309000.sgag'),os.path.join(resdir,scen,scen+'-10309000.sgag'))\n",
    "    copyfile(os.path.join('..\\\\','runs',scens[scen],'CV-wes-8015trans-10310000.sgag'),os.path.join(resdir,scen,scen+'-10310000.sgag'))\n",
    "    \n",
    "    mdf.columns=['dT'+scen+'_'+c for c in mdf.columns]\n",
    "    mdflist.append(mdf[['dT'+scen+'_sw_del_fpy_scen_0C','dT'+scen+'_well_del_fpy_scen_0C','dT'+scen+'_tot_del_fpy_scen_0C','dT'+scen+'_tot_et_fpy_scen_0C']])"
   ]
  },
  {
   "cell_type": "code",
   "execution_count": 21,
   "metadata": {},
   "outputs": [],
   "source": [
    "#define wr decades and WR with rotations\n",
    "wrdec=[0,1850,1860,1870,1880,1890,1900,2000]\n",
    "wrdeclab=['1850s\\nand prior','1860s','1870s','1880s','1890s','1900s\\nand later']\n",
    "rotwr=['544','578','559','532-533','604','555','554','557','556','553','516-517','492-501','491','529-531','542','558','535-536','523-527','543','540','534','546','508','545','528','561','513-514','568','540a','560','518-519','562','563','564','502-507','566','565','517a','487','567','478-481','520-522','537','488-490','539','511','512','515','509-510','538']\n",
    "etdf[scen]['wrdec']=False\n",
    "for scen in etdf:\n",
    "    for i,d in enumerate(wrdec):\n",
    "        mask=[x for x in etdf[scen].index if wrdec[i]<=etdf[scen].loc[x,'wryr']<wrdec[i+1]]\n",
    "        #leave \"real\" decade, lump prior to 1850 into 1850\n",
    "        etdf[scen].loc[mask,'wrdecade']=d\n",
    "        etdf[scen].loc[mask,'wrdec']=max(1850,d)"
   ]
  },
  {
   "cell_type": "code",
   "execution_count": 22,
   "metadata": {},
   "outputs": [
    {
     "data": {
      "text/plain": [
       "368394.524265521"
      ]
     },
     "execution_count": 22,
     "metadata": {},
     "output_type": "execute_result"
    }
   ],
   "source": [
    "etdf['0C'].loc[:,'sw_dmd'].sum()/1000000"
   ]
  },
  {
   "cell_type": "code",
   "execution_count": 23,
   "metadata": {},
   "outputs": [
    {
     "data": {
      "text/plain": [
       "416810.3547485831"
      ]
     },
     "execution_count": 23,
     "metadata": {},
     "output_type": "execute_result"
    }
   ],
   "source": [
    "etdf['1C'].loc[:,'sw_dmd'].sum()/1000000"
   ]
  },
  {
   "cell_type": "code",
   "execution_count": 24,
   "metadata": {},
   "outputs": [],
   "source": [
    "#construct intermediate dfs for rates, volumes, and percentages of sw, wells, and total\n",
    "nyrs=36.22221218331232\n",
    "sw={}\n",
    "well={}\n",
    "tot={}\n",
    "vsw={}\n",
    "vwell={}\n",
    "vtot={}\n",
    "psw={}\n",
    "pwell={}\n",
    "ptot={}\n",
    "for scen in ['1C','2C','3C','4C','5C']:\n",
    "    #depth based, mean (already normalized by acres)\n",
    "    decdf=etdf[scen].loc[:,:].groupby('wrdec').mean()\n",
    "    \n",
    "    well[scen]=decdf.loc[:,'well_del_fpy_scen_0C']\n",
    "    sw[scen]=decdf.loc[:,'sw_del_fpy_scen_0C']\n",
    "    tot[scen]=decdf.loc[:,'tot_del_fpy_scen_0C']\n",
    "\n",
    "#volume based total delivery, sum all in decade, divide by years for average volume\n",
    "basedf=etdf['0C'].loc[:,:].groupby('wrdec').sum()\n",
    "for scen in ['1C','2C','3C','4C','5C']:\n",
    "    decdf=etdf[scen].loc[:,:].groupby('wrdec').sum()/43560/nyrs #is in cf, convert to ac-ft on the fly, divide by 36 year sim period\n",
    "    \n",
    "    vwell[scen]=decdf.loc[:,'well_del_scen_0C']\n",
    "    vsw[scen]=decdf.loc[:,'sw_del_scen_0C']\n",
    "    vtot[scen]=decdf.loc[:,'tot_del_scen_0C']\n",
    "    \n",
    "    pwell[scen]=(decdf.loc[:,'well_del_scen_0C'].divide(basedf.loc[:,'well_del']))*100\n",
    "    psw[scen]=(decdf.loc[:,'sw_del_scen_0C'].divide(basedf.loc[:,'sw_del']))*100\n",
    "    ptot[scen]=(decdf.loc[:,'tot_del_scen_0C'].divide(basedf.loc[:,'tot_del']))*100\n",
    "    "
   ]
  },
  {
   "cell_type": "code",
   "execution_count": 25,
   "metadata": {},
   "outputs": [
    {
     "data": {
      "text/plain": [
       "Text(0.5, 0, 'priority decade')"
      ]
     },
     "execution_count": 25,
     "metadata": {},
     "output_type": "execute_result"
    },
    {
     "data": {
      "image/png": "[encoded data removed]",
      "text/plain": [
       "<Figure size 288x648 with 3 Axes>"
      ]
     },
     "metadata": {
      "needs_background": "light"
     },
     "output_type": "display_data"
    }
   ],
   "source": [
    "# Change in deliveries figure\n",
    "fs=8\n",
    "fig,ax=plt.subplots(3,1,figsize=(4,9),gridspec_kw = {'wspace':0, 'hspace':0.05})\n",
    "for i,(t,m) in enumerate(zip(['Average difference in water\\ndelivery rate (feet per year)',\n",
    "                              'Average difference in total water\\ndelivery (acre-feet per year)',\n",
    "                              'Average percent difference\\nin deliveries'],[[well,sw,tot],[vwell,vsw,vtot],[pwell,psw,ptot]])):\n",
    "    pd.DataFrame(m[0]).plot(kind='bar',ax=ax[i],legend=False,color='b',edgecolor='k',sharex=True,fontsize=fs,width=0.75)\n",
    "    pd.DataFrame(m[1]).plot(kind='bar',ax=ax[i],legend=False,color='c',edgecolor='k',sharex=True,fontsize=fs,width=0.75)\n",
    "    pd.DataFrame(m[2]).plot(kind='bar',ax=ax[i],legend=False,color='c',edgecolor='k',hatch='//',sharex=True,fontsize=fs,width=0.75)\n",
    "\n",
    "    ax[i].grid(True,which='major',axis='y')\n",
    "    ax[i].set_axisbelow(True)\n",
    "    \n",
    "    ax[i].set_ylabel(t,fontsize=fs)\n",
    "\n",
    "#ax[0].set_title('Difference in deliveries to water rights by decade',fontsize=fs+2)\n",
    "for x,y,dtlab in zip([-0.45,-0.3,-0.15,0,0.16],[-0.23,-0.27,-0.31,-0.35,-0.39],['1C','2C','3C','4C','5C']):\n",
    "    ax[0].text(x,y,dtlab,fontsize=fs-2,rotation=0)\n",
    "h,l = ax[0].get_legend_handles_labels()\n",
    "ax[0].legend(h[0:len(h):5],['well delivery','surface delivery','total delivery'],loc=3,fontsize=fs)\n",
    "ax[i].xaxis.set_major_formatter(ticker.FixedFormatter(wrdeclab))        \n",
    "plt.setp(ax[i].get_xticklabels(), rotation=0)\n",
    "ax[i].set_xlabel('priority decade',fontsize=fs,labelpad=0)\n",
    "#plt.savefig(r'S:\\CarsonValley\\manuscripts\\kitlasten_2020_final_figures\\Figure 6 priority decade fpy.eps', format='eps')"
   ]
  },
  {
   "cell_type": "markdown",
   "metadata": {},
   "source": [
    "# get demand time series for each scenario\n",
    "dmd={}\n",
    "for scen in scenlist:\n",
    "    for fn in os.listdir(os.path.join(modir,'MSGSF','MSGSF_'+scen,'tabfiles_'+scen)):\n",
    "        if 'demand' in fn:\n",
    "            data=fn.split('-')\n",
    "            if len(data)==7:\n",
    "                wr=data[4].lower()\n",
    "            elif len(data)==8:\n",
    "                wr='-'.join(data[4:6]).lower()\n",
    "            else:\n",
    "                print('yerdum {}'.format(derp))\n",
    "            ts=pd.read_csv(os.path.join(modir,'MSGSF','MSGSF_'+scen,'tabfiles_'+scen,fn),delim_whitespace=True, usecols=[0,1,3],names=['simday','dmd','date'])\n",
    "            ts['date']=pd.to_datetime(ts['date'])\n",
    "            ts.set_index('date',inplace=True)\n",
    "            ats=ts.resample('D').interpolate(method='backfill')\n",
    "            dmd[wr]=ats['dmd'].mean()\n",
    "dmddf=pd.DataFrame.from_dict(dmd,orient='index',columns=['dmd'])"
   ]
  },
  {
   "cell_type": "code",
   "execution_count": 26,
   "metadata": {
    "scrolled": true
   },
   "outputs": [],
   "source": [
    "# convert to Mm3\n",
    "hmdflist=[]\n",
    "Metdf={}\n",
    "cuft2Mm3=1/((3.28084**3)*1.0e6)\n",
    "wrcols=['acres','tot_del','sw_del','well_del','total_wr_et','swet','wellet','gwet','pcpet','pctsup','wryr','wrdec',\n",
    "        'tot_del_scen_0C','sw_del_scen_0C','well_del_scen_0C',\n",
    "        'tot_del_mpy_scen_0C','sw_del_mpy_scen_0C','sw_del_pct_scen_0C','well_del_mpy_scen_0C',\n",
    "        'tot_et_mpy_scen_0C','tot_et_volume_scen_0C','tot_et_pct_scen_0C']\n",
    "\n",
    "for scen in scenlist:\n",
    "    Metdf[scen]=etdf[scen].copy(deep=True)\n",
    "    Metdf[scen]['Mm2']=etdf[scen]['acres'].multiply(43560/(3.28084**2)/1.0e6) #convert acres to Mm^2\n",
    "    Metdf[scen][['tot_del','sw_del','sw_dmd','well_del','total_wr_et','swet','wellet','gwet','pcpet',\n",
    "                'tot_del_scen_0C','sw_del_scen_0C','well_del_scen_0C',\n",
    "                'tot_et_volume_scen_0C']]=etdf[scen][['tot_del','sw_del','sw_dmd','well_del',\n",
    "                'total_wr_et','swet','wellet','gwet','pcpet',\n",
    "                'tot_del_scen_0C','sw_del_scen_0C','well_del_scen_0C',\n",
    "                'tot_et_volume_scen_0C']].multiply(cuft2Mm3)\n",
    "    Metdf[scen][['tot_del_mpy_scen_0C','sw_del_mpy_scen_0C','well_del_mpy_scen_0C',\n",
    "                'tot_et_mpy_scen_0C']]=etdf[scen][['tot_del_fpy_scen_0C','sw_del_fpy_scen_0C',\n",
    "                'well_del_fpy_scen_0C','tot_et_fpy_scen_0C']].divide(3.28084)\n",
    "    \n",
    "for scen in scenlist:\n",
    "    Metdf[scen]['sw_del_pct_scen_0C']=Metdf[scen]['sw_del_scen_0C'].divide(Metdf['0C']['sw_del'])\n",
    "    Metdf[scen]['tot_et_pct_scen_0C']=Metdf[scen]['tot_et_volume_scen_0C'].divide(Metdf['0C']['total_wr_et'])\n",
    "    Metdf[scen].to_csv(os.path.join(resdir,scen,'dT'+scen+'_etdf_Mcmy.csv'),columns=[c for c in wrcols])\n",
    "    hmdf=Metdf[scen].groupby('wr').mean() # mean value for wr. wr becomes index, don't include in cols\n",
    "    \n",
    "    \n",
    "    \n",
    "    hmdf.to_csv(os.path.join(resdir,scen,'dT'+scen+'_mean_etdf_Mm3y.csv'),float_format='%.4f',columns=[c for c in wrcols])\n",
    "    hmdf.columns=['dT'+scen+'_'+c for c in hmdf.columns]\n",
    "    hmdflist.append(hmdf[['dT'+scen+'_sw_del_mpy_scen_0C','dT'+scen+'_sw_del_pct_scen_0C','dT'+scen+'_tot_et_pct_scen_0C','dT'+scen+'_well_del_mpy_scen_0C','dT'+scen+'_tot_del_mpy_scen_0C','dT'+scen+'_tot_et_mpy_scen_0C']])"
   ]
  },
  {
   "cell_type": "code",
   "execution_count": 71,
   "metadata": {},
   "outputs": [],
   "source": [
    "decreed=[i.lower() for i in wrdf.index if wrdf.loc[i,'wryr']>1800]\n",
    "decet=[i for i in Metdf[scen].index if Metdf[scen].loc[i,'wr'].lower() in decreed]"
   ]
  },
  {
   "cell_type": "code",
   "execution_count": 85,
   "metadata": {},
   "outputs": [
    {
     "name": "stdout",
     "output_type": "stream",
     "text": [
      "\n",
      "mean annual sw_del\n",
      "\n",
      "118.27490002175523\n",
      "116.40713680218202\n",
      "112.8020654247079\n",
      "108.70677612621004\n",
      "104.37418461437838\n",
      "100.05810639152055\n",
      "95.63135581384078\n",
      "\n",
      "mean annual swet\n",
      "\n",
      "27.531570851485682\n",
      "26.420991465021157\n",
      "25.598474418341564\n",
      "24.753287446942288\n",
      "23.986295244784497\n",
      "23.071366951128404\n",
      "22.14455592474815\n",
      "\n",
      "mean annual tot_del\n",
      "\n",
      "125.57129083600333\n",
      "130.99649308799863\n",
      "128.32033062619135\n",
      "125.24827035710524\n",
      "122.01156763492071\n",
      "118.72402699362296\n",
      "115.37872662501248\n",
      "\n",
      "mean annual total_wr_et\n",
      "\n",
      "131.353904799905\n",
      "104.2363903793681\n",
      "101.98152128726979\n",
      "99.45028484495559\n",
      "96.7520577955127\n",
      "93.91767947706833\n",
      "90.95578090895268\n",
      "\n",
      "mean annual well_del\n",
      "\n",
      "7.29639081425108\n",
      "14.58935628581373\n",
      "15.51826520154456\n",
      "16.541494230895182\n",
      "17.637383020542327\n",
      "18.66592060210237\n",
      "19.747370811171688\n",
      "\n",
      "mean annual wellet\n",
      "\n",
      "2.256962877764209\n",
      "6.583761021672271\n",
      "6.972265989112029\n",
      "7.412630634986495\n",
      "7.886226369442813\n",
      "8.32916263903297\n",
      "8.79811619102257\n",
      "\n",
      "mean annual gwet\n",
      "\n",
      "74.356915120027\n",
      "68.85246653028655\n",
      "67.03160951742443\n",
      "64.90519540063505\n",
      "62.500364818893644\n",
      "60.137978524515184\n",
      "57.6339374307902\n",
      "\n",
      "mean annual sw_dmd\n",
      "\n",
      "161.55701299010434\n",
      "161.47215633386017\n",
      "199.55503168448303\n",
      "198.22202244617057\n",
      "196.86613248712615\n",
      "195.28031565006702\n",
      "193.7590881252698\n"
     ]
    }
   ],
   "source": [
    "for q in ['sw_del','swet','tot_del','total_wr_et','well_del','wellet','gwet','sw_dmd']:    \n",
    "    print('\\nmean annual {}\\n'.format(q))\n",
    "    for scen in ['hist','0C','1C','2C','3C','4C','5C']:\n",
    "        print('{}'.format(float(Metdf[scen].loc[decet,['yr',q]].groupby('yr').sum().mean())))#,float(Metdf[scen].loc[:,['yr',q]].groupby('yr').sum().max()),float(Metdf[scen].loc[:,['yr',q]].groupby('yr').sum().min())))"
   ]
  },
  {
   "cell_type": "markdown",
   "metadata": {},
   "source": [
    "# WARNING \"SW-RIGHT\" in swgag file does NOT match demand tabs or MODSIM demands"
   ]
  },
  {
   "cell_type": "code",
   "execution_count": 73,
   "metadata": {},
   "outputs": [
    {
     "name": "stdout",
     "output_type": "stream",
     "text": [
      "hist 158.52142860497756\n",
      "0C 158.52142860497756\n",
      "1C 157.9075806925763\n",
      "2C 157.16242382898588\n",
      "3C 156.3832828630719\n",
      "4C 155.52839155026152\n",
      "5C 154.76750298146692\n"
     ]
    }
   ],
   "source": [
    "# get dmds from tabfiles dir\n",
    "dmd={}\n",
    "for scen in ['hist','0C','1C','2C','3C','4C','5C']:\n",
    "    wrdmd=[]\n",
    "    for fname in os.listdir(os.path.join('..\\\\..\\\\','model','MSGSF_'+scen,'tabfiles_'+scen)):\n",
    "        if 'demand' in fname:\n",
    "            wr=fname.split('-',4)[-1].rsplit('-',2)[0].lower()\n",
    "            if wr.replace('_rot','') in [w.lower() for w in decreed]:\n",
    "                wrdmd.append(pd.read_csv(os.path.join('..\\\\..\\\\','model','MSGSF_'+scen,'tabfiles_'+scen,fname),\n",
    "                                usecols=[0,1],delim_whitespace=True,index_col=0,names=['day',wr]))\n",
    "            else:\n",
    "                pass#print(wr)\n",
    "    dmd[scen]=pd.concat(wrdmd,axis=1)\n",
    "    dmd[scen]['simstart']=pd.to_datetime(simstart)\n",
    "    dmd[scen]['day']=dmd[scen].index.astype(int)\n",
    "    dmd[scen]['date']=dmd[scen]['simstart']+dmd[scen]['day'].apply(lambda x:datetime.timedelta(days=x))\n",
    "    dmd[scen].set_index(pd.DatetimeIndex(dmd[scen]['date']),inplace=True)\n",
    "    dmd[scen].drop(['simstart','day','date'],inplace=True,axis=1)\n",
    "    dmd[scen]=dmd[scen].resample('D').fillna(method='bfill')\n",
    "    print(scen,(dmd[scen].loc[scend8s,:].sum(axis=1).mean())*365.25*cft2Mm3)"
   ]
  },
  {
   "cell_type": "code",
   "execution_count": null,
   "metadata": {},
   "outputs": [],
   "source": []
  },
  {
   "cell_type": "code",
   "execution_count": null,
   "metadata": {},
   "outputs": [],
   "source": []
  },
  {
   "cell_type": "code",
   "execution_count": null,
   "metadata": {},
   "outputs": [],
   "source": []
  },
  {
   "cell_type": "code",
   "execution_count": 30,
   "metadata": {},
   "outputs": [],
   "source": [
    "sw={}\n",
    "well={}\n",
    "tot={}\n",
    "vsw={}\n",
    "vwell={}\n",
    "vtot={}\n",
    "psw={}\n",
    "pwell={}\n",
    "ptot={}\n",
    "for scen in ['1C','2C','3C','4C','5C']:\n",
    "    #depth based, mean of all WR in decade\n",
    "    decdf=Metdf[scen].loc[:,:].groupby('wrdec').mean()\n",
    "    \n",
    "    well[scen]=decdf.loc[:,'well_del_mpy_scen_0C']\n",
    "    sw[scen]=decdf.loc[:,'sw_del_mpy_scen_0C']\n",
    "    tot[scen]=decdf.loc[:,'tot_del_mpy_scen_0C']\n",
    "    \n",
    "#volumne based total delivery, sum of all WR in decade\n",
    "basedf=Metdf['0C'].loc[:,:].groupby('wrdec').sum()/nyrs\n",
    "for scen in ['1C','2C','3C','4C','5C']:\n",
    "    decdf=Metdf[scen].loc[:,:].groupby('wrdec').sum()/nyrs #Metdf in Mm3, divide sum by 36 year sim period\n",
    "    \n",
    "    vwell[scen]=decdf.loc[:,'well_del_scen_0C']\n",
    "    vsw[scen]=decdf.loc[:,'sw_del_scen_0C']\n",
    "    vtot[scen]=decdf.loc[:,'tot_del_scen_0C']\n",
    "\n",
    "    pwell[scen]=(decdf.loc[:,'well_del_scen_0C'].divide(basedf.loc[:,'well_del']))*100\n",
    "    psw[scen]=(decdf.loc[:,'sw_del_scen_0C'].divide(basedf.loc[:,'sw_del']))*100\n",
    "    ptot[scen]=(decdf.loc[:,'tot_del_scen_0C'].divide(basedf.loc[:,'tot_del']))*100\n"
   ]
  },
  {
   "cell_type": "code",
   "execution_count": 31,
   "metadata": {},
   "outputs": [
    {
     "data": {
      "text/plain": [
       "{'1C': wrdec\n",
       " 1850.0   -0.924\n",
       " 1860.0   -1.038\n",
       " 1870.0   -0.543\n",
       " 1880.0   -0.298\n",
       " 1890.0   -0.897\n",
       " 1900.0   -0.399\n",
       " Name: sw_del_scen_0C, dtype: float64,\n",
       " '2C': wrdec\n",
       " 1850.0   -1.968\n",
       " 1860.0   -2.162\n",
       " 1870.0   -1.105\n",
       " 1880.0   -0.688\n",
       " 1890.0   -2.007\n",
       " 1900.0   -0.821\n",
       " Name: sw_del_scen_0C, dtype: float64,\n",
       " '3C': wrdec\n",
       " 1850.0   -3.120\n",
       " 1860.0   -3.417\n",
       " 1870.0   -1.683\n",
       " 1880.0   -1.083\n",
       " 1890.0   -3.183\n",
       " 1900.0   -1.218\n",
       " Name: sw_del_scen_0C, dtype: float64,\n",
       " '4C': wrdec\n",
       " 1850.0   -4.386\n",
       " 1860.0   -4.643\n",
       " 1870.0   -2.276\n",
       " 1880.0   -1.495\n",
       " 1890.0   -4.281\n",
       " 1900.0   -1.647\n",
       " Name: sw_del_scen_0C, dtype: float64,\n",
       " '5C': wrdec\n",
       " 1850.0   -5.612\n",
       " 1860.0   -5.974\n",
       " 1870.0   -2.897\n",
       " 1880.0   -1.938\n",
       " 1890.0   -5.332\n",
       " 1900.0   -2.111\n",
       " Name: sw_del_scen_0C, dtype: float64}"
      ]
     },
     "execution_count": 31,
     "metadata": {},
     "output_type": "execute_result"
    }
   ],
   "source": [
    "vsw"
   ]
  },
  {
   "cell_type": "code",
   "execution_count": null,
   "metadata": {},
   "outputs": [],
   "source": []
  },
  {
   "cell_type": "code",
   "execution_count": 32,
   "metadata": {
    "scrolled": true
   },
   "outputs": [
    {
     "name": "stderr",
     "output_type": "stream",
     "text": [
      "The PostScript backend does not support transparency; partially transparent artists will be rendered opaque.\n",
      "The PostScript backend does not support transparency; partially transparent artists will be rendered opaque.\n",
      "The PostScript backend does not support transparency; partially transparent artists will be rendered opaque.\n",
      "The PostScript backend does not support transparency; partially transparent artists will be rendered opaque.\n"
     ]
    },
    {
     "data": {
      "image/png": "[encoded data removed]",
      "text/plain": [
       "<Figure size 360x576 with 3 Axes>"
      ]
     },
     "metadata": {
      "needs_background": "light"
     },
     "output_type": "display_data"
    }
   ],
   "source": [
    "# Change in deliveries Mm3/yr\n",
    "fs=8\n",
    "fig,ax=plt.subplots(3,1,figsize=(5,8),gridspec_kw = {'wspace':0.0, 'hspace':0.05})\n",
    "for i,(t,m) in enumerate(zip(['Average difference in\\nwater delivery rates\\n(meters per year)',\n",
    "                              'Average percent difference\\nin deliveries\\n',\n",
    "                              'Average difference in\\ntotal water delivery\\n(million cubic meters per year)'],[[well,sw,tot],[pwell,psw,ptot],[vwell,vsw,vtot]])):\n",
    "    pd.DataFrame(m[0]).plot(kind='bar',ax=ax[i],legend=False,color='b',edgecolor='k',sharex=True,fontsize=fs,width=0.75)\n",
    "    pd.DataFrame(m[1]).plot(kind='bar',ax=ax[i],legend=False,color='c',edgecolor='k',sharex=True,fontsize=fs,width=0.75)\n",
    "    pd.DataFrame(m[2]).plot(kind='bar',ax=ax[i],legend=False,color='c',edgecolor='k',hatch='//',sharex=True,fontsize=fs,width=0.75)\n",
    "\n",
    "    ax[i].grid(True,which='major',axis='y')\n",
    "    ax[i].set_axisbelow(True)\n",
    "    \n",
    "    ax[i].set_ylabel(t,fontsize=fs,labelpad=0)\n",
    "\n",
    "#ax[0].set_title('Difference in deliveries to water rights by decade',fontsize=fs+2)\n",
    "xstart=-0.46\n",
    "xinc=0.165\n",
    "ystart=-0.038\n",
    "yinc=0.018\n",
    "for x,y,dtlab in zip([xstart+i*xinc for i in range(0,5)],[ystart-j*yinc for j in range(0,5)],['1C','2C','3C','4C','5C']):\n",
    "    t=ax[0].text(x,y,dtlab,fontsize=fs-2,rotation=0,bbox=dict(boxstyle='square,pad=0',facecolor='white',edgecolor='white'))\n",
    "h,l = ax[0].get_legend_handles_labels()\n",
    "ax[0].legend(h[0:len(h):5],['well delivery','surface delivery','total delivery'],loc=3,fontsize=fs)\n",
    "ax[i].xaxis.set_major_formatter(ticker.FixedFormatter(wrdeclab))        \n",
    "plt.setp(ax[i].get_xticklabels(), rotation=0)\n",
    "ax[i].set_xlabel('priority decade',fontsize=fs,labelpad=0)\n",
    "fig.savefig(r'S:\\CarsonValley\\manuscripts\\2020WR027924_final_figures\\2020WR027924-f6.eps', format='eps', dpi=600,bbox_inches='tight')"
   ]
  },
  {
   "cell_type": "code",
   "execution_count": 33,
   "metadata": {},
   "outputs": [
    {
     "name": "stdout",
     "output_type": "stream",
     "text": [
      "1C 5391.345097502011 104.00241837916565\n",
      "2C 5222.869422376492 -316.9471739931723\n",
      "3C 5043.41684850756 -347.9282489944517\n",
      "4C 4861.458762253156 -361.41066012333613\n",
      "5C 4675.412069529842 -368.00477897771816\n",
      "hist 5287.342679122846 425.88391686968953\n"
     ]
    }
   ],
   "source": [
    "a=[]\n",
    "for i,scen in enumerate(scenlist[1:]):\n",
    "    a.append(Metdf[scen]['sw_del'].sum()-Metdf[scenlist[i-1]]['sw_del'].sum())\n",
    "    print(scen,Metdf[scen]['sw_del'].sum(),(Metdf[scen]['sw_del'].sum()-Metdf[scenlist[i-1]]['sw_del'].sum()))"
   ]
  },
  {
   "cell_type": "code",
   "execution_count": 34,
   "metadata": {},
   "outputs": [],
   "source": [
    "# concat and save select means\n",
    "mdf=pd.concat(mdflist,axis=1,sort=True)\n",
    "hmdf=pd.concat(hmdflist,axis=1,sort=True)\n",
    "hmdf['wr']=hmdf.index\n",
    "hmdf['wr']=hmdf['wr'].apply(lambda x:'wr_'+x)\n",
    "hmdf.set_index('wr',inplace=True)\n",
    "\n",
    "mdf.to_csv(os.path.join(resdir,'mean_wrdf.csv'))\n",
    "hmdf.to_csv(os.path.join(resdir,'mean_wrdf_Mm3y.csv'))"
   ]
  },
  {
   "cell_type": "code",
   "execution_count": 35,
   "metadata": {},
   "outputs": [],
   "source": [
    "#difference in total_wr_et to explain wells mitigating SW shortfalls\n",
    "# sum for each wr, divide by years\n",
    "df={}\n",
    "wdel={}\n",
    "wet={}\n",
    "tet={}\n",
    "nyrs=36.22221218331232\n",
    "for scen in scenlist:\n",
    "    # get average annual depths\n",
    "    dfsum=Metdf[scen].loc[:,['wr','well_del','wellet','total_wr_et']].groupby('wr').mean()\n",
    "    dfsum['Mm2']=Metdf[scen].loc[:,['wr','Mm2']].groupby('wr').mean()\n",
    "    df[scen]=dfsum[['well_del','wellet','total_wr_et']].divide(dfsum.Mm2,axis=0)\n",
    "for scen in scenlist:\n",
    "    # difference average annual volumes from historical average annual volumes\n",
    "    wdel[scen]=(df[scen]['well_del']-df['0C']['well_del'])\n",
    "    wet[scen]=(df[scen]['wellet']-df['0C']['wellet'])\n",
    "    tet[scen]=(df[scen]['total_wr_et']-df['0C']['total_wr_et'])\n",
    "welldel=pd.concat(wdel,axis=1)\n",
    "wellet=pd.concat(wet,axis=1)\n",
    "totalet=pd.concat(tet,axis=1)"
   ]
  },
  {
   "cell_type": "code",
   "execution_count": 36,
   "metadata": {
    "scrolled": false
   },
   "outputs": [
    {
     "name": "stdout",
     "output_type": "stream",
     "text": [
      "['061', '067', '078', '102', '148', '255', '258', '292', '625', '628', 'monument']\n",
      "153 499\n",
      "\n",
      "0C\n",
      "mean decrease in total_wr_et\n",
      "pmp: 0.0, nopmp: 0.0\n",
      "decrease in pmp et is nan of nopmp\n",
      "nan\n"
     ]
    },
    {
     "name": "stderr",
     "output_type": "stream",
     "text": [
      "C:\\conda3x64\\envs\\p3x64\\lib\\site-packages\\pandas\\core\\indexing.py:947: FutureWarning: \n",
      "Passing list-likes to .loc or [] with any missing label will raise\n",
      "KeyError in the future, you can use .reindex() as an alternative.\n",
      "\n",
      "See the documentation here:\n",
      "https://pandas.pydata.org/pandas-docs/stable/user_guide/indexing.html#deprecate-loc-reindex-listlike\n",
      "  return getattr(section, self.name)[new_key]\n"
     ]
    },
    {
     "name": "stdout",
     "output_type": "stream",
     "text": [
      "\n",
      "1C\n",
      "mean decrease in total_wr_et\n",
      "pmp: -0.014647967239749097, nopmp: -0.018506350944566485\n",
      "decrease in pmp et is 0.7915102919870748 of nopmp\n",
      "-22.936824268841328\n",
      "\n",
      "2C\n",
      "mean decrease in total_wr_et\n",
      "pmp: -0.030887190073715654, nopmp: -0.03845404709982102\n",
      "decrease in pmp et is 0.8032233900774365 of nopmp\n",
      "-0.6044686336287315\n",
      "\n",
      "3C\n",
      "mean decrease in total_wr_et\n",
      "pmp: -0.04782567764316074, nopmp: -0.05977135657963757\n",
      "decrease in pmp et is 0.8001437541314498 of nopmp\n",
      "-0.6990430557483281\n",
      "\n",
      "4C\n",
      "mean decrease in total_wr_et\n",
      "pmp: -0.0656743857130504, nopmp: -0.08172150330399168\n",
      "decrease in pmp et is 0.8036365345452785 of nopmp\n",
      "-0.6733441885111113\n",
      "\n",
      "5C\n",
      "mean decrease in total_wr_et\n",
      "pmp: -0.08403304928341522, nopmp: -0.1046959053523369\n",
      "decrease in pmp et is 0.8026393104927626 of nopmp\n",
      "-0.3959147047130899\n",
      "\n",
      "hist\n",
      "mean decrease in total_wr_et\n",
      "pmp: 0.09742436712565503, nopmp: -0.041951149522179876\n",
      "decrease in pmp et is -2.3223289048169242 of nopmp\n",
      "0.3349158452880591\n"
     ]
    },
    {
     "data": {
      "image/png": "[encoded data removed]",
      "text/plain": [
       "<Figure size 432x288 with 1 Axes>"
      ]
     },
     "metadata": {
      "needs_background": "light"
     },
     "output_type": "display_data"
    }
   ],
   "source": [
    "out=[w for w in totalet.index if totalet.loc[w,['1C','2C','3C','4C','5C']].max()>0.01] #outliers\n",
    "print(out)\n",
    "pmask=[w for w in wrdf.index if wrdf.loc[w,'wellnum']>0 and w not in out and 'gw' not in w]\n",
    "npmask=[w for w in wrdf.index if w not in pmask and w not in out]\n",
    "print(len(pmask),len(npmask))\n",
    "\n",
    "for scen in scenlist:\n",
    "    print('\\n'+scen)\n",
    "    df=pd.concat([wellet.loc[:,scen],totalet.loc[:,scen]],axis=1)\n",
    "    df.columns=['wellet','total_wr_et']\n",
    "    print('mean decrease in total_wr_et')\n",
    "    print('pmp: {}, nopmp: {}'.format(df.loc[pmask,'total_wr_et'].mean(),df.loc[npmask,'total_wr_et'].mean()))\n",
    "    print('decrease in pmp et is {} of nopmp'.format(df.loc[pmask,'total_wr_et'].mean()/df.loc[npmask,'total_wr_et'].mean()))\n",
    "    \n",
    "    \n",
    "    \n",
    "    p=df.loc[pmask,'wellet'].divide(df.loc[pmask,'total_wr_et'])\n",
    "    print(p.loc[pmask].mean())\n",
    "    p.hist()\n",
    "    \n"
   ]
  },
  {
   "cell_type": "code",
   "execution_count": 37,
   "metadata": {},
   "outputs": [],
   "source": [
    "#ratio of wellet and total_wr_et to explain wells mitigating SW shortfalls\n",
    "# sum for each wr, divide by years\n",
    "wdel={}\n",
    "wet={}\n",
    "tet={}\n",
    "nyrs=36.22221218331232\n",
    "  \n",
    "for scen in scenlist:\n",
    "    df=Metdf[scen].loc[:,['wr','well_del','wellet','total_wr_et']].groupby('wr').sum()\n",
    "    wdel[scen]=df['well_del']/nyrs\n",
    "    wet[scen]=df['wellet']/nyrs\n",
    "    tet[scen]=df['total_wr_et']/nyrs\n",
    "welldel=pd.concat(wdel,axis=1)\n",
    "wellet=pd.concat(wet,axis=1)\n",
    "totalet=pd.concat(tet,axis=1)"
   ]
  },
  {
   "cell_type": "code",
   "execution_count": 38,
   "metadata": {},
   "outputs": [
    {
     "name": "stdout",
     "output_type": "stream",
     "text": [
      "0C 0.0\n",
      "1C 0.01723196053798322\n",
      "2C 0.036640045564596775\n",
      "3C 0.057009933730436356\n",
      "4C 0.07924662543722101\n",
      "5C 0.10227986877298366\n",
      "hist -0.15352941152787047\n"
     ]
    }
   ],
   "source": [
    "for scen in scenlist:\n",
    "    print(scen,(totalet['0C'].sum()-totalet[scen].sum())/totalet['0C'].sum())"
   ]
  },
  {
   "cell_type": "code",
   "execution_count": 39,
   "metadata": {
    "scrolled": false
   },
   "outputs": [
    {
     "name": "stdout",
     "output_type": "stream",
     "text": [
      "[]\n",
      "164 499\n",
      " fraction of total_wr_et from wellet\n",
      "0.9799817107094235 0.16711481051978452 0.0\n",
      " fraction of total_wr_et from wellet\n",
      "0.9803928793697769 0.17768838361803674 0.0\n",
      " fraction of total_wr_et from wellet\n",
      "0.9807432991031877 0.1895067832856858 0.0\n",
      " fraction of total_wr_et from wellet\n",
      "0.9810457049353427 0.20253750794315767 0.0\n",
      " fraction of total_wr_et from wellet\n",
      "0.9813785869487531 0.21623294094175224 0.0\n",
      " fraction of total_wr_et from wellet\n",
      "0.9818114453203102 0.23147984181575393 0.0\n",
      " fraction of total_wr_et from wellet\n",
      "0.8681790292048778 0.06360760141376302 0.0\n"
     ]
    },
    {
     "data": {
      "image/png": "[encoded data removed]",
      "text/plain": [
       "<Figure size 720x360 with 2 Axes>"
      ]
     },
     "metadata": {
      "needs_background": "light"
     },
     "output_type": "display_data"
    },
    {
     "data": {
      "image/png": "[encoded data removed]",
      "text/plain": [
       "<Figure size 720x360 with 2 Axes>"
      ]
     },
     "metadata": {
      "needs_background": "light"
     },
     "output_type": "display_data"
    },
    {
     "data": {
      "image/png": "[encoded data removed]",
      "text/plain": [
       "<Figure size 720x360 with 2 Axes>"
      ]
     },
     "metadata": {
      "needs_background": "light"
     },
     "output_type": "display_data"
    },
    {
     "data": {
      "image/png": "[encoded data removed]",
      "text/plain": [
       "<Figure size 720x360 with 2 Axes>"
      ]
     },
     "metadata": {
      "needs_background": "light"
     },
     "output_type": "display_data"
    },
    {
     "data": {
      "image/png": "[encoded data removed]",
      "text/plain": [
       "<Figure size 720x360 with 2 Axes>"
      ]
     },
     "metadata": {
      "needs_background": "light"
     },
     "output_type": "display_data"
    },
    {
     "data": {
      "image/png": "[encoded data removed]",
      "text/plain": [
       "<Figure size 720x360 with 2 Axes>"
      ]
     },
     "metadata": {
      "needs_background": "light"
     },
     "output_type": "display_data"
    },
    {
     "data": {
      "image/png": "[encoded data removed]",
      "text/plain": [
       "<Figure size 720x360 with 2 Axes>"
      ]
     },
     "metadata": {
      "needs_background": "light"
     },
     "output_type": "display_data"
    }
   ],
   "source": [
    "out=[]#[w for w in totalet.index if totalet.loc[w,['1C','2C','3C','4C','5C']].max()>300] #outliers\n",
    "print(out)\n",
    "pmask=[w for w in wrdf.index if wrdf.loc[w,'wellnum']>0 and w not in out and 'gw' not in w]\n",
    "npmask=[w for w in wrdf.index if w not in pmask and w not in out]\n",
    "print(len(pmask),len(npmask))\n",
    "\n",
    "for scen in scenlist:\n",
    "    \n",
    "    fig,ax=plt.subplots(1,2,figsize=(10,5))\n",
    "    df=pd.concat([wellet.loc[:,scen],totalet.loc[:,scen]],axis=1)\n",
    "    df.columns=['wellet','total_wr_et']\n",
    "    \n",
    "    print(' fraction of total_wr_et from wellet')\n",
    "    p=df.loc[pmask,'wellet'].divide(df.loc[pmask,'total_wr_et'])\n",
    "    print(p.loc[pmask].max(),p.loc[pmask].mean(),p.loc[pmask].min())\n",
    "    \n",
    "    df.plot(x='total_wr_et',y='wellet',kind='scatter',ax=ax[0],color='g',title=scen+' with pmp',grid='on')\n",
    "    p.hist(ax=ax[1])\n",
    "    "
   ]
  },
  {
   "cell_type": "code",
   "execution_count": null,
   "metadata": {},
   "outputs": [],
   "source": []
  },
  {
   "cell_type": "code",
   "execution_count": 40,
   "metadata": {},
   "outputs": [],
   "source": [
    "#ET in fpy by decade\n",
    "wrdec=[1,1000,1850,1860,1870,1880,1890,1900,2000]\n",
    "\n",
    "dic={}\n",
    "for i,wd in enumerate(wrdec[:-1]):\n",
    "    dic[wd]={}\n",
    "    for scen in scenlist:\n",
    "        #mask=[o for o in etdf[scen].index]# if etdf[scen].loc[o,'wr'] not in rotwr]\n",
    "        wryr=etdf[scen].groupby('wryr').mean()\n",
    "        mask=[d for d in wryr.index if wrdec[i]<=d<wrdec[i+1]]\n",
    "        dic[wd][scen]=wryr.loc[mask,'tot_del_fpy_scen_0C'].mean()"
   ]
  },
  {
   "cell_type": "code",
   "execution_count": 41,
   "metadata": {},
   "outputs": [
    {
     "data": {
      "text/plain": [
       "Text(0.5, 0, 'priority decade')"
      ]
     },
     "execution_count": 41,
     "metadata": {},
     "output_type": "execute_result"
    },
    {
     "data": {
      "image/png": "[encoded data removed]",
      "text/plain": [
       "<Figure size 432x288 with 1 Axes>"
      ]
     },
     "metadata": {
      "needs_background": "light"
     },
     "output_type": "display_data"
    }
   ],
   "source": [
    "pd.DataFrame(dic).T.plot(kind='bar')\n",
    "plt.grid()\n",
    "plt.title('ET by priority decade')\n",
    "plt.ylabel('ET (feet per year)')\n",
    "plt.xlabel('priority decade')"
   ]
  },
  {
   "cell_type": "code",
   "execution_count": 42,
   "metadata": {},
   "outputs": [
    {
     "data": {
      "text/html": [
       "<div>\n",
       "<style scoped>\n",
       "    .dataframe tbody tr th:only-of-type {\n",
       "        vertical-align: middle;\n",
       "    }\n",
       "\n",
       "    .dataframe tbody tr th {\n",
       "        vertical-align: top;\n",
       "    }\n",
       "\n",
       "    .dataframe thead th {\n",
       "        text-align: right;\n",
       "    }\n",
       "</style>\n",
       "<table border=\"1\" class=\"dataframe\">\n",
       "  <thead>\n",
       "    <tr style=\"text-align: right;\">\n",
       "      <th></th>\n",
       "      <th>tot_del_scen_0C</th>\n",
       "      <th>sw_del_scen_0C</th>\n",
       "      <th>well_del_scen_0C</th>\n",
       "      <th>tot_del_fpy_scen_0C</th>\n",
       "      <th>sw_del_fpy_scen_0C</th>\n",
       "      <th>well_del_fpy_scen_0C</th>\n",
       "      <th>tot_et_fpy_scen_0C</th>\n",
       "      <th>tot_et_volume_scen_0C</th>\n",
       "    </tr>\n",
       "    <tr>\n",
       "      <th>obnme</th>\n",
       "      <th></th>\n",
       "      <th></th>\n",
       "      <th></th>\n",
       "      <th></th>\n",
       "      <th></th>\n",
       "      <th></th>\n",
       "      <th></th>\n",
       "      <th></th>\n",
       "    </tr>\n",
       "  </thead>\n",
       "  <tbody>\n",
       "    <tr>\n",
       "      <th>et_dcsid02_80</th>\n",
       "      <td>1.900e-06</td>\n",
       "      <td>0.000e+00</td>\n",
       "      <td>1.900e-06</td>\n",
       "      <td>2.138e-12</td>\n",
       "      <td>0.000e+00</td>\n",
       "      <td>2.138e-12</td>\n",
       "      <td>-2.001e-01</td>\n",
       "      <td>-1.779e+05</td>\n",
       "    </tr>\n",
       "    <tr>\n",
       "      <th>et_dcsid03_80</th>\n",
       "      <td>-5.468e+02</td>\n",
       "      <td>0.000e+00</td>\n",
       "      <td>-5.468e+02</td>\n",
       "      <td>-2.082e-05</td>\n",
       "      <td>0.000e+00</td>\n",
       "      <td>-2.082e-05</td>\n",
       "      <td>-6.642e-03</td>\n",
       "      <td>-1.745e+05</td>\n",
       "    </tr>\n",
       "    <tr>\n",
       "      <th>et_dcsid05_80</th>\n",
       "      <td>-2.000e-09</td>\n",
       "      <td>0.000e+00</td>\n",
       "      <td>-2.000e-09</td>\n",
       "      <td>-1.292e-14</td>\n",
       "      <td>0.000e+00</td>\n",
       "      <td>-1.292e-14</td>\n",
       "      <td>3.183e-04</td>\n",
       "      <td>4.925e+01</td>\n",
       "    </tr>\n",
       "    <tr>\n",
       "      <th>et_dcsid06_80</th>\n",
       "      <td>-5.972e+04</td>\n",
       "      <td>-5.972e+04</td>\n",
       "      <td>0.000e+00</td>\n",
       "      <td>-4.500e-04</td>\n",
       "      <td>-4.500e-04</td>\n",
       "      <td>0.000e+00</td>\n",
       "      <td>-2.202e-03</td>\n",
       "      <td>-2.922e+05</td>\n",
       "    </tr>\n",
       "    <tr>\n",
       "      <th>et_dvn_80</th>\n",
       "      <td>-1.471e+06</td>\n",
       "      <td>-1.471e+06</td>\n",
       "      <td>0.000e+00</td>\n",
       "      <td>-2.312e-01</td>\n",
       "      <td>-2.312e-01</td>\n",
       "      <td>0.000e+00</td>\n",
       "      <td>-1.640e-01</td>\n",
       "      <td>-1.044e+06</td>\n",
       "    </tr>\n",
       "  </tbody>\n",
       "</table>\n",
       "</div>"
      ],
      "text/plain": [
       "               tot_del_scen_0C  sw_del_scen_0C  well_del_scen_0C  \\\n",
       "obnme                                                              \n",
       "et_dcsid02_80        1.900e-06       0.000e+00         1.900e-06   \n",
       "et_dcsid03_80       -5.468e+02       0.000e+00        -5.468e+02   \n",
       "et_dcsid05_80       -2.000e-09       0.000e+00        -2.000e-09   \n",
       "et_dcsid06_80       -5.972e+04      -5.972e+04         0.000e+00   \n",
       "et_dvn_80           -1.471e+06      -1.471e+06         0.000e+00   \n",
       "\n",
       "               tot_del_fpy_scen_0C  sw_del_fpy_scen_0C  well_del_fpy_scen_0C  \\\n",
       "obnme                                                                          \n",
       "et_dcsid02_80            2.138e-12           0.000e+00             2.138e-12   \n",
       "et_dcsid03_80           -2.082e-05           0.000e+00            -2.082e-05   \n",
       "et_dcsid05_80           -1.292e-14           0.000e+00            -1.292e-14   \n",
       "et_dcsid06_80           -4.500e-04          -4.500e-04             0.000e+00   \n",
       "et_dvn_80               -2.312e-01          -2.312e-01             0.000e+00   \n",
       "\n",
       "               tot_et_fpy_scen_0C  tot_et_volume_scen_0C  \n",
       "obnme                                                     \n",
       "et_dcsid02_80          -2.001e-01             -1.779e+05  \n",
       "et_dcsid03_80          -6.642e-03             -1.745e+05  \n",
       "et_dcsid05_80           3.183e-04              4.925e+01  \n",
       "et_dcsid06_80          -2.202e-03             -2.922e+05  \n",
       "et_dvn_80              -1.640e-01             -1.044e+06  "
      ]
     },
     "execution_count": 42,
     "metadata": {},
     "output_type": "execute_result"
    }
   ],
   "source": [
    "mask=[o for o in etdf[scen].index if etdf[scen].loc[o,'wryr']<1000]\n",
    "etdf['1C'].loc[mask,['tot_del_scen_0C','sw_del_scen_0C','well_del_scen_0C',\n",
    "        'tot_del_fpy_scen_0C','sw_del_fpy_scen_0C','well_del_fpy_scen_0C',\n",
    "        'tot_et_fpy_scen_0C','tot_et_volume_scen_0C']].head()"
   ]
  },
  {
   "cell_type": "markdown",
   "metadata": {},
   "source": [
    "# precip"
   ]
  },
  {
   "cell_type": "code",
   "execution_count": 43,
   "metadata": {},
   "outputs": [],
   "source": [
    "# finf files are precip in 1/1000th of a foot and some sp's are missing\n",
    "for scen in scenlist:\n",
    "    arr=[]\n",
    "    modir=os.path.join('..\\\\..\\\\','model','external_files','Carson_Valley','arrays','uzf')\n",
    "    for f in os.listdir(modir):\n",
    "        if f.endswith('.finf'): #list of all sp finf\n",
    "            arr.append(np.loadtxt(os.path.join(modir,f)).sum())"
   ]
  },
  {
   "cell_type": "code",
   "execution_count": 44,
   "metadata": {},
   "outputs": [],
   "source": [
    "nsp=1891\n",
    "finffact=np.mean([1.6689684211000E-4,1.0987977895000E-4]) #*precip = what goes in"
   ]
  },
  {
   "cell_type": "code",
   "execution_count": 45,
   "metadata": {},
   "outputs": [],
   "source": [
    "#arr is list of total model wide precip for each stress period in 1/1000th of fpd\n",
    "mean_sp_vol=np.sum(arr)*550*550/(3.28**3)/1000000/nsp #in 1000th of Mm3 per day\n",
    "mean_ann_vol=mean_sp_vol/1000*365\n",
    "#finffact * precip = into ground\n",
    "#ET + into ground = precip\n",
    "# ET = precip (1 - finfact)\n",
    "mean_ann_pcpet = mean_ann_vol * (1-finffact*1000)"
   ]
  },
  {
   "cell_type": "code",
   "execution_count": 46,
   "metadata": {},
   "outputs": [
    {
     "data": {
      "text/plain": [
       "210.8584716215805"
      ]
     },
     "execution_count": 46,
     "metadata": {},
     "output_type": "execute_result"
    }
   ],
   "source": [
    "mean_ann_vol"
   ]
  },
  {
   "cell_type": "code",
   "execution_count": 47,
   "metadata": {},
   "outputs": [
    {
     "data": {
      "text/plain": [
       "181.678123972932"
      ]
     },
     "execution_count": 47,
     "metadata": {},
     "output_type": "execute_result"
    }
   ],
   "source": [
    "mean_ann_pcpet"
   ]
  },
  {
   "cell_type": "code",
   "execution_count": null,
   "metadata": {},
   "outputs": [],
   "source": []
  },
  {
   "cell_type": "markdown",
   "metadata": {},
   "source": [
    "# ssf flow"
   ]
  },
  {
   "cell_type": "code",
   "execution_count": 49,
   "metadata": {},
   "outputs": [
    {
     "name": "stdout",
     "output_type": "stream",
     "text": [
      "bodieflatq 78\n",
      "clearcreeq 21\n",
      "daggettcaq 13\n",
      "eaglevallq 7\n",
      "eastforkcq 42\n",
      "frederickq 24\n",
      "indiancreq 33\n",
      "jacksvallq 23\n",
      "jobscanyoq 23\n",
      "larsoncanq 39\n",
      "luthercanq 23\n",
      "millberryq 123\n",
      "mottsvillq 39\n",
      "oldclearcq 14\n",
      "sierracanq 80\n",
      "bodieflatq 78\n",
      "clearcreeq 21\n",
      "daggettcaq 13\n",
      "eaglevallq 7\n",
      "eastforkcq 42\n",
      "frederickq 24\n",
      "indiancreq 33\n",
      "jacksvallq 23\n",
      "jobscanyoq 23\n",
      "larsoncanq 39\n",
      "luthercanq 23\n",
      "millberryq 123\n",
      "mottsvillq 39\n",
      "oldclearcq 14\n",
      "sierracanq 80\n",
      "bodieflatq 78\n",
      "clearcreeq 21\n",
      "daggettcaq 13\n",
      "eaglevallq 7\n",
      "eastforkcq 42\n",
      "frederickq 24\n",
      "indiancreq 33\n",
      "jacksvallq 23\n",
      "jobscanyoq 23\n",
      "larsoncanq 39\n",
      "luthercanq 23\n",
      "millberryq 123\n",
      "mottsvillq 39\n",
      "oldclearcq 14\n",
      "sierracanq 80\n",
      "bodieflatq 78\n",
      "clearcreeq 21\n",
      "daggettcaq 13\n",
      "eaglevallq 7\n",
      "eastforkcq 42\n",
      "frederickq 24\n",
      "indiancreq 33\n",
      "jacksvallq 23\n",
      "jobscanyoq 23\n",
      "larsoncanq 39\n",
      "luthercanq 23\n",
      "millberryq 123\n",
      "mottsvillq 39\n",
      "oldclearcq 14\n",
      "sierracanq 80\n",
      "bodieflatq 78\n",
      "clearcreeq 21\n",
      "daggettcaq 13\n",
      "eaglevallq 7\n",
      "eastforkcq 42\n",
      "frederickq 24\n",
      "indiancreq 33\n",
      "jacksvallq 23\n",
      "jobscanyoq 23\n",
      "larsoncanq 39\n",
      "luthercanq 23\n",
      "millberryq 123\n",
      "mottsvillq 39\n",
      "oldclearcq 14\n",
      "sierracanq 80\n",
      "bodieflatq 78\n",
      "clearcreeq 21\n",
      "daggettcaq 13\n",
      "eaglevallq 7\n",
      "eastforkcq 42\n",
      "frederickq 24\n",
      "indiancreq 33\n",
      "jacksvallq 23\n",
      "jobscanyoq 23\n",
      "larsoncanq 39\n",
      "luthercanq 23\n",
      "millberryq 123\n",
      "mottsvillq 39\n",
      "oldclearcq 14\n",
      "sierracanq 80\n",
      "bodieflatq 78\n",
      "clearcreeq 21\n",
      "daggettcaq 13\n",
      "eaglevallq 7\n",
      "eastforkcq 42\n",
      "frederickq 24\n",
      "indiancreq 33\n",
      "jacksvallq 23\n",
      "jobscanyoq 23\n",
      "larsoncanq 39\n",
      "luthercanq 23\n",
      "millberryq 123\n",
      "mottsvillq 39\n",
      "oldclearcq 14\n",
      "sierracanq 80\n"
     ]
    }
   ],
   "source": [
    "for scen in scenlist:\n",
    "    ssf=[]\n",
    "    modir=os.path.join('..\\\\..\\\\','model','MSGSF_'+scen,'Carson_Valley')\n",
    "    for fname in os.listdir(os.path.join(modir,'pmptabs')):\n",
    "        count=0\n",
    "        if len(fname.split('-'))>4 and fname.split('-')[3]=='ssf': #should be 2 line file w [day ssf]\n",
    "            site=fname.split('-')[4]\n",
    "            with open (os.path.join(modir,'pmptabs',fname),'r') as f:\n",
    "                val=float(f.readline().strip().split()[1])\n",
    "            with open (os.path.join(modir,'CV-wes-8015trans.wel'),'r') as f:\n",
    "                wellines=f.readlines()\n",
    "            for line in wellines:\n",
    "                if site in line:\n",
    "                    count=count+1\n",
    "            print(site,count)\n",
    "            ssf.append(val*count)"
   ]
  },
  {
   "cell_type": "code",
   "execution_count": 50,
   "metadata": {},
   "outputs": [
    {
     "data": {
      "text/plain": [
       "16.24657965023226"
      ]
     },
     "execution_count": 50,
     "metadata": {},
     "output_type": "execute_result"
    }
   ],
   "source": [
    "tot_ssf=np.sum(ssf)*365/(3.28**3)/1000000\n",
    "tot_ssf"
   ]
  },
  {
   "cell_type": "code",
   "execution_count": null,
   "metadata": {},
   "outputs": [],
   "source": []
  },
  {
   "cell_type": "code",
   "execution_count": null,
   "metadata": {},
   "outputs": [],
   "source": []
  },
  {
   "cell_type": "markdown",
   "metadata": {},
   "source": [
    "# Now do wells"
   ]
  },
  {
   "cell_type": "code",
   "execution_count": 74,
   "metadata": {},
   "outputs": [],
   "source": [
    "# get well areas\n",
    "welltable=os.path.join(extdir,'CV_PMP_POU_area.csv')\n",
    "wellarea=pd.read_csv(welltable, dtype={'app': 'object'})\n",
    "wellarea.app='pmp_'+wellarea.app.str.rjust(5,'0')\n",
    "wellarea.set_index(wellarea.app,inplace=True)\n",
    "wellarea.drop('app',inplace=True,axis=1)\n"
   ]
  },
  {
   "cell_type": "code",
   "execution_count": 75,
   "metadata": {},
   "outputs": [],
   "source": [
    "welldf={}\n",
    "outdir=r'S:\\kitlasten2020_wrr\\output'\n",
    "scenlist,scens=get_scens()\n",
    "    \n",
    "#get well deliveries from post-processor\n",
    "for scen in scenlist:\n",
    "    if not os.path.exists(os.path.join(outdir,scen)):\n",
    "        os.mkdir(os.path.join(outdir,scen))\n",
    "    df=pd.read_csv(os.path.join(scens[scen],'sim_pmp_ts.txt'),delim_whitespace=True,index_col=False)\n",
    "    d8str=df.loc[:,'obnme'].str.split('_').str.get(-1)+'0101'\n",
    "    df['yr']=pd.to_datetime(d8str,format='%y%m%d')\n",
    "    df['well']='pmp_'+df.loc[:,'obnme'].str.split('_',1).str.get(0)\n",
    "    welldf[scen]=df.copy(deep=True)\n"
   ]
  },
  {
   "cell_type": "code",
   "execution_count": 76,
   "metadata": {},
   "outputs": [
    {
     "name": "stdout",
     "output_type": "stream",
     "text": [
      "0C\n",
      "1C\n",
      "2C\n",
      "3C\n",
      "4C\n",
      "5C\n",
      "hist\n"
     ]
    }
   ],
   "source": [
    "# group and write\n",
    "mdflist=[]\n",
    "whmdflist=[]\n",
    "for scen in scenlist:\n",
    "    print(scen)\n",
    "    if 'MAR' in scen:\n",
    "        #base scenario... ie no mar\n",
    "        bscen=scen.replace('MAR','')\n",
    "        \n",
    "        welldf[scen].index=welldf[scen].obnme\n",
    "        welldf[bscen].index=welldf[bscen].obnme\n",
    "        welldf[scen]['wypmp_mar_nomar']=welldf[scen]['wypmp']-welldf[bscen]['wypmp']\n",
    "        \n",
    "        mdf=welldf[scen].loc[:,['well','wypmp','wypmp_scen_0C']].groupby('well').mean() #well becomes index, don't include in cols\n",
    "        mdf.columns=['dT'+scen+'_'+c for c in mdf.columns]\n",
    "        mdflist.append(mdf) #well becomes index, don't include in cols\n",
    "        \n",
    "        # convert wrpmp to Mm3\n",
    "        whmdf=mdf.divide((3.28084**3)*1.0e6)\n",
    "        whmdf['area']= wellarea['Shape_Area_m2']\n",
    "        whmdf['dT'+scen+'_wypmp_mpy_mar_nomar']=mdf['dT'+scen+'_wypmp_mar_nomar'].divide(whmdf['area'])\n",
    "        whmdflist.append(whmdf)\n",
    "    if 'MAR' not in scen:\n",
    "        #base scenario... ie 0C\n",
    "        bscen='0C'\n",
    "        \n",
    "        welldf[scen].index=welldf[scen].obnme\n",
    "        welldf[bscen].index=welldf[bscen].obnme\n",
    "        welldf[scen]['wypmp_scen_0C']=welldf[scen]['wypmp']-welldf[bscen]['wypmp']\n",
    "        \n",
    "        mdf=welldf[scen].loc[:,['well','wypmp','wypmp_scen_0C']].groupby('well').mean() #well becomes index, don't include in cols\n",
    "        mdf.columns=['dT'+scen+'_'+c for c in mdf.columns]\n",
    "        mdflist.append(mdf)\n",
    "        \n",
    "        # convert wrpmp to Mm3\n",
    "        whmdf=mdf.divide((3.28084**3)*1.0e6)\n",
    "        whmdf['area']= wellarea['Shape_Area_m2']\n",
    "        whmdf['dT'+scen+'_wypmp_mpy_scen_0C']=mdf['dT'+scen+'_wypmp_scen_0C'].divide(whmdf['area'])\n",
    "        whmdflist.append(whmdf)\n",
    "        \n"
   ]
  },
  {
   "cell_type": "code",
   "execution_count": 77,
   "metadata": {},
   "outputs": [],
   "source": [
    "# concat and save means\n",
    "mdf=pd.concat(mdflist,axis=1,sort=True)\n",
    "whmdf=pd.concat(whmdflist,axis=1,sort=True)\n",
    "\n",
    "mdf.to_csv(os.path.join(outdir,'mean_welldf.csv'))\n",
    "whmdf.to_csv(os.path.join(outdir,'mean_welldf_Mm3y.csv'))"
   ]
  },
  {
   "cell_type": "code",
   "execution_count": 83,
   "metadata": {},
   "outputs": [
    {
     "data": {
      "text/plain": [
       "Index(['pmp_07862', 'pmp_08494', 'pmp_08771', 'pmp_09244', 'pmp_11853',\n",
       "       'pmp_12026', 'pmp_12532', 'pmp_13896', 'pmp_14565', 'pmp_15388',\n",
       "       ...\n",
       "       'pmp_83900', 'pmp_84232', 'pmp_84860t', 'pmp_84862t', 'pmp_85189t',\n",
       "       'pmp_85285t', 'pmp_v02881', 'pmp_v05080', 'pmp_v09062', 'pmp_wypmp'],\n",
       "      dtype='object', name='well', length=208)"
      ]
     },
     "execution_count": 83,
     "metadata": {},
     "output_type": "execute_result"
    }
   ],
   "source": [
    "whmdf.index"
   ]
  },
  {
   "cell_type": "code",
   "execution_count": 81,
   "metadata": {},
   "outputs": [
    {
     "data": {
      "text/plain": [
       "dT0C_wypmp      38.297\n",
       "dT1C_wypmp      39.335\n",
       "dT2C_wypmp      40.488\n",
       "dT3C_wypmp      41.699\n",
       "dT4C_wypmp      42.869\n",
       "dT5C_wypmp      44.108\n",
       "dThist_wypmp    18.589\n",
       "dtype: float64"
      ]
     },
     "execution_count": 81,
     "metadata": {},
     "output_type": "execute_result"
    }
   ],
   "source": [
    "mask=[c for c in whmdf.columns if 'dT' in c and 'scen' not in c and 'area' not in c]\n",
    "mi=[i for i in whmdf.index if 'pmp_wypmp' not in i]\n",
    "whmdf.loc[mi,mask].sum()"
   ]
  },
  {
   "cell_type": "code",
   "execution_count": 58,
   "metadata": {},
   "outputs": [
    {
     "name": "stdout",
     "output_type": "stream",
     "text": [
      "0C 18.73671124069695 18.93862106736094\n",
      "1C 18.73671124069695 18.93862106736094\n",
      "2C 18.73671124069695 18.93862106736094\n",
      "3C 18.73671124069695 18.93862106736094\n",
      "4C 18.73671124069695 18.93862106736094\n",
      "5C 18.73671124069695 18.93862106736094\n",
      "hist 12.416728028561442 12.063165510091236\n"
     ]
    }
   ],
   "source": [
    "#effluent flows\n",
    "for scen in scenlist:\n",
    "    amf=[]\n",
    "    momf=[] #monthly mean flow\n",
    "    names=[]\n",
    "    datadir=os.path.join('..\\\\..\\\\','model','MSGSF_'+scen,'tabfiles_'+scen)\n",
    "    for f in os.listdir(datadir):\n",
    "        if 'effluent' in f and 'DCSIDE' not in f and 'DCSIDW' not in f:\n",
    "            site=f.split('-')[2]\n",
    "            df=pd.read_csv(os.path.join(datadir,f),names=['day','flow'],usecols=[0,1],delim_whitespace=True)\n",
    "            df['simstart']=pd.to_datetime(simstart)\n",
    "            df['datetime']=df['simstart']+pd.to_timedelta(df['day'],unit='days')\n",
    "            df.index=df.datetime\n",
    "            df.drop_duplicates(inplace=True)\n",
    "            df=df.resample('D').bfill()\n",
    "\n",
    "            df['month']=df.index.month\n",
    "            df['year']=df.index.year\n",
    "\n",
    "            mo=df.loc[scend8s,['flow','month']].groupby('month').mean()# mean monthly value in cfd\n",
    "            ann=df.loc[scend8s,['flow','year']].groupby('year').sum()#summed to give annual total\n",
    "            momf.append(mo)\n",
    "            amf.append(ann.loc[scenyrs,:])\n",
    "            names.append(site)\n",
    "    maf=pd.concat(amf,axis=1)\n",
    "    maf.columns=names\n",
    "    mmof=pd.concat(momf,axis=1)\n",
    "    mmof.columns=names\n",
    "\n",
    "    totmaf=maf.loc[scenyrs,names].sum(axis=1).mean()\n",
    "    totmmof=mmof.loc[irrmo].sum().sum()*30\n",
    "    print(scen,totmaf*cft2Mm3,totmmof*cft2Mm3)"
   ]
  },
  {
   "cell_type": "code",
   "execution_count": 62,
   "metadata": {},
   "outputs": [
    {
     "data": {
      "text/plain": [
       "12.416728028561442"
      ]
     },
     "execution_count": 62,
     "metadata": {},
     "output_type": "execute_result"
    }
   ],
   "source": [
    "maf.sum(axis=1).mean()*cft2Mm3"
   ]
  },
  {
   "cell_type": "code",
   "execution_count": null,
   "metadata": {},
   "outputs": [],
   "source": []
  },
  {
   "cell_type": "markdown",
   "metadata": {},
   "source": [
    "# Surface water analysis - baseline (w PRMS and without)\n",
    "Accretion/depletion (outflow-(EF+WF))\n",
    "\n",
    "Cummulative measured and simulated\n",
    "    \n",
    "    A couple sites throughout the basin, but not enough continuous record at any given site \n",
    "\n",
    "Average monthly outflows"
   ]
  },
  {
   "cell_type": "markdown",
   "metadata": {},
   "source": [
    "# historical data inflows"
   ]
  },
  {
   "cell_type": "code",
   "execution_count": 87,
   "metadata": {},
   "outputs": [
    {
     "name": "stdout",
     "output_type": "stream",
     "text": [
      "10309000 E FK CARSON RV NR GARDNERVILLE, NV.txt\n",
      "10309025 INDIAN CK AT WOODFORDS, CA.txt\n",
      "10310000 W FK CARSON RV AT WOODFORDS, CA.txt\n",
      "10310300 FREDERICKSBURG CYN CK NR FREDERICKSBURG, CA.txt\n",
      "10310330 LUTHER CK NR FREDRICKSBURG, CA.txt\n",
      "10310350 MILLER SPGS NR SHERIDAN, NV.txt\n",
      "10310360 JOBS CYN CK NR MINDEN, NV.txt\n",
      "10310370 SHERIDAN CK NR MINDEN, NV.txt\n",
      "10310375 STUTLER CYN CK NR MINDEN, NV.txt\n",
      "10310380 MONUMENT CK NR MINDEN, NV.txt\n",
      "10310385 MOTT CYN CK NR MINDEN, NV.txt\n",
      "10310400 DAGGETT CK NR GENOA, NV.txt\n",
      "10310410 GENOA CYN CK AT GENOA, NV.txt\n",
      "10310415 SIERRA CYN CK NR GENOA, NV.txt\n",
      "10310425 JAMES CYN CK NR GENOA, NV.txt\n",
      "10310430 WATER CYN NR GENOA, NV.txt\n",
      "10310500 CLEAR CK NR CARSON CITY, NV.txt\n"
     ]
    }
   ],
   "source": [
    "# read stream gage files\n",
    "\n",
    "# record based inflows are flawed due to lack of regression, use Maurer\n",
    "\n",
    "\n",
    "\n",
    "datadir=r'S:\\CarsonValley\\flows\\carsonstreamflow\\in'\n",
    "gage={}\n",
    "insite=[]\n",
    "for fname in os.listdir(datadir):\n",
    "    if 'ipynb' not in fname:\n",
    "        print(fname)\n",
    "        skip=0\n",
    "        site=fname.split()[0]\n",
    "        insite.append(site)\n",
    "        with open(os.path.join(datadir,fname),'r') as f:\n",
    "            lines=f.readlines()\n",
    "        for i,line in enumerate(lines[:100]):\n",
    "            data=line.strip().split()\n",
    "            if 'agency_cd' == data[0]:\n",
    "                header=data\n",
    "                for j,h in enumerate(header):\n",
    "                    if h in ['02_00060_00003','discharge_va','04_00060_00003','01_00060_00003']:\n",
    "                        header[j]='flow'\n",
    "                    if h in ['measurement_dt']:\n",
    "                        header[j]='datetime'\n",
    "                if 'flow' not in header:                        \n",
    "                    print('no flow key in {}'.format(site))\n",
    "            if 'USGS' == data[0] and site == data[1] and skip==0:\n",
    "                skip=i\n",
    "        gage[site]=pd.read_csv(os.path.join(datadir,fname),skiprows=skip,names=header,sep='\\t',comment='_')\n",
    "        gage[site]['flow']=gage[site]['flow']*86400 #to cfd\n",
    "        gage[site]['datetime']=pd.to_datetime(gage[site]['datetime'])\n",
    "        gage[site] = gage[site].set_index(pd.DatetimeIndex(gage[site]['datetime']))"
   ]
  },
  {
   "cell_type": "code",
   "execution_count": 88,
   "metadata": {},
   "outputs": [],
   "source": [
    "gage['efwf']=pd.DataFrame(gage['10309000'].loc[:,'flow']+gage['10310000'].loc[:,'flow'])\n",
    "gage['efwf']['month']=gage['efwf'].index.month\n",
    "gage['efwf']['year']=gage['efwf'].index.year"
   ]
  },
  {
   "cell_type": "markdown",
   "metadata": {},
   "source": [
    "# historical data outflows"
   ]
  },
  {
   "cell_type": "code",
   "execution_count": 136,
   "metadata": {},
   "outputs": [],
   "source": [
    "header=[]\n",
    "# read outflow gage\n",
    "datadir=r'S:\\CarsonValley\\flows\\carsonstreamflow\\obs\\DATA'\n",
    "for fname in os.listdir(datadir):\n",
    "    if '10311000' == fname.split()[0]:\n",
    "        skip=0\n",
    "        site=fname.split()[0]\n",
    "        with open(os.path.join(datadir,fname),'r') as f:\n",
    "            lines=f.readlines()\n",
    "        for i,line in enumerate(lines[:100]):\n",
    "            data=line.strip().split()\n",
    "            if 'agency_cd' == data[0]:\n",
    "                header=data\n",
    "                for j,h in enumerate(header):\n",
    "                    if h in ['02_00060_00003','discharge_va','04_00060_00003','01_00060_00003']:\n",
    "                        header[j]='flow'\n",
    "                if 'flow' not in header:\n",
    "                    print('no flow key in {}'.format(site))\n",
    "            if 'USGS' == data[0] and site == data[1] and skip==0:\n",
    "                skip=i\n",
    "        gage[site]=pd.read_csv(os.path.join(datadir,fname),skiprows=skip,names=header,sep='\\t',comment='_')\n",
    "        gage[site]['flow']=gage[site]['flow']*86400 #to cfd\n",
    "        gage[site]['datetime']=pd.to_datetime(gage[site]['datetime'])\n",
    "        gage[site] = gage[site].set_index(pd.DatetimeIndex(gage[site]['datetime']))\n",
    "        gage[site]=gage[site].resample('D').interpolate(method='linear')"
   ]
  },
  {
   "cell_type": "code",
   "execution_count": 137,
   "metadata": {},
   "outputs": [],
   "source": [
    "for site in gage:\n",
    "    gage[site]['month']=gage[site].index.month\n",
    "    gage[site]['year']=gage[site].index.year"
   ]
  },
  {
   "cell_type": "code",
   "execution_count": 138,
   "metadata": {},
   "outputs": [
    {
     "name": "stdout",
     "output_type": "stream",
     "text": [
      "mean historical annual outflows: 332.50541678175784\n",
      "mean historical irrigation season outlows: 212.9402858395811\n"
     ]
    }
   ],
   "source": [
    "#aggregate flows to get mean annual inflows, sum of all sites\n",
    "amf=[]\n",
    "momf=[] #monthly mean flow\n",
    "names=[]\n",
    "for site in ['10311000']:\n",
    "    df=gage[site].copy()\n",
    "    if 'datetime' in df.columns:\n",
    "        df['datetime'] = pd.to_datetime(df['datetime'])\n",
    "        df = df.set_index(pd.DatetimeIndex(df['datetime']))\n",
    "    oidx = df.index\n",
    "    nidx = pd.date_range(oidx.min(), oidx.max(), freq='D')\n",
    "    rdf=df.reindex(nidx, method='nearest', limit=30).interpolate()#limit interp to 30 days\n",
    "    rdf['month']=rdf.index.month\n",
    "    rdf['year']=rdf.index.year\n",
    "    \n",
    "    mo=rdf.loc[scend8s,['flow','month']].groupby('month').mean()# mean monthly value in cfd\n",
    "    ann=rdf.loc[scend8s,['flow','year']].groupby('year').sum()#summed to give annual total\n",
    "    momf.append(mo)\n",
    "    amf.append(ann.loc[scenyrs,:])\n",
    "    names.append(site)\n",
    "    maf=pd.concat(amf,axis=1)\n",
    "    maf.columns=names\n",
    "    mmof=pd.concat(momf,axis=1)\n",
    "    mmof.columns=names\n",
    "\n",
    "    totmaf=maf.loc[scenyrs,names].sum(axis=1).mean()\n",
    "    totmmof=mmof.loc[irrmo].sum().sum()*30\n",
    "    print('mean historical annual outflows: {}'.format(totmaf*cft2Mm3))\n",
    "    print('mean historical irrigation season outlows: {}'.format(totmmof*cft2Mm3))"
   ]
  },
  {
   "cell_type": "code",
   "execution_count": 139,
   "metadata": {},
   "outputs": [
    {
     "data": {
      "text/plain": [
       "flow    332.505\n",
       "dtype: float64"
      ]
     },
     "execution_count": 139,
     "metadata": {},
     "output_type": "execute_result"
    }
   ],
   "source": [
    "gage['10311000'].loc[scend8s,['year','flow']].groupby('year').sum().mean()*cft2Mm3"
   ]
  },
  {
   "cell_type": "code",
   "execution_count": null,
   "metadata": {},
   "outputs": [],
   "source": []
  },
  {
   "cell_type": "code",
   "execution_count": 101,
   "metadata": {},
   "outputs": [
    {
     "name": "stdout",
     "output_type": "stream",
     "text": [
      "mean historical annual outflows: 332.50541678175784\n",
      "mean historical irrigation season outlows: 212.9402858395811\n"
     ]
    }
   ],
   "source": [
    "#aggregate flows to get mean annual outflows\n",
    "amf=[]\n",
    "momf=[] #monthly mean flow\n",
    "names=[]\n",
    "for site in ['10311000']:\n",
    "    df=gage[site].copy()\n",
    "    if 'datetime' in df.columns:\n",
    "        df['datetime'] = pd.to_datetime(df['datetime'])\n",
    "        df = df.set_index(pd.DatetimeIndex(df['datetime']))\n",
    "    oidx = df.index\n",
    "    nidx = pd.date_range(oidx.min(), oidx.max(), freq='D')\n",
    "    rdf=df.reindex(nidx, method='nearest', limit=30).interpolate()#limit interp to 30 days\n",
    "    rdf['month']=rdf.index.month\n",
    "    rdf['year']=rdf.index.year\n",
    "    \n",
    "    mo=rdf.loc[scend8s,['flow','month']].groupby('month').mean()# mean monthly value in cfd\n",
    "    ann=rdf.loc[scend8s,['flow','year']].groupby('year').sum()#summed to give annual total\n",
    "    momf.append(mo)\n",
    "    amf.append(ann.loc[scenyrs,:])\n",
    "    names.append(site)\n",
    "    maf=pd.concat(amf,axis=1)\n",
    "    maf.columns=names\n",
    "    mmof=pd.concat(momf,axis=1)\n",
    "    mmof.columns=names\n",
    "\n",
    "    totmaf=maf.loc[scenyrs,names].sum(axis=1).mean()\n",
    "    totmmof=mmof.loc[irrmo].sum().sum()*30\n",
    "    print('mean historical annual outflows: {}'.format(totmaf*cft2Mm3))\n",
    "    print('mean historical irrigation season outlows: {}'.format(totmmof*cft2Mm3))"
   ]
  },
  {
   "cell_type": "markdown",
   "metadata": {},
   "source": [
    "## the following is useless due to missing records, unless linear regression was used, but that sucks anyway\n",
    "#aggregate flows to get mean annual flows for each site\n",
    "#can't use simulation period (scend8s) due to missing records, fill with mean values, then sample over scenyrs\n",
    "amf=[]\n",
    "momf=[] #monthly mean flow\n",
    "names=[]\n",
    "for site in gage.keys():\n",
    "    df=gage[site].copy()\n",
    "    df = df.set_index(pd.DatetimeIndex(df['datetime']))\n",
    "    oidx = df.index\n",
    "    nidx = pd.date_range(oidx.min(), oidx.max(), freq='D')\n",
    "    rdf=df.reindex(nidx, method='nearest', limit=2)\n",
    "    rdf.interpolate(method='time',inplace=True)\n",
    "    rdf.index=pd.DatetimeIndex(rdf.index.date)\n",
    "    rdf.fillna(value=rdf.loc[scend8s,'flow'].mean())\n",
    "    rdf['month']=rdf.index.month\n",
    "    rdf['year']=rdf.index.year   \n",
    "    \n",
    "    mo=rdf.loc[scend8s,['flow','month']].groupby('month').mean()# mean monthly value in cfd\n",
    "    ann=rdf.loc[scend8s,['flow','year']].groupby('year').sum()#summed to give annual total\n",
    "    momf.append(mo)\n",
    "    amf.append(ann)\n",
    "    names.append(site)\n",
    "maf=pd.concat(amf,axis=1)\n",
    "maf.columns=names\n",
    "mmof=pd.concat(momf,axis=1)\n",
    "mmof.columns=names\n",
    "\n",
    "totmaf=maf.loc[scenyrs,names].sum(axis=1).mean()\n",
    "totmmof=mmof.loc[irrmo].sum().sum()*30\n",
    "print('mean historical annual inflows {}'.format(totmaf*cft2Mm3))\n",
    "print('mean historical irrigation season inflows {}'.format(totmmof*cft2Mm3))"
   ]
  },
  {
   "cell_type": "markdown",
   "metadata": {},
   "source": [
    "# simulation inflows"
   ]
  },
  {
   "cell_type": "code",
   "execution_count": 102,
   "metadata": {},
   "outputs": [],
   "source": [
    "def inflow_tabfiles():\n",
    "    # read stream intab files\n",
    "    sdf={}\n",
    "    for scen in scenlist:\n",
    "        dflist=[]\n",
    "        names=[]\n",
    "        datadir=os.path.join('..\\\\..\\\\','model','MSGSF_'+scen,'tabfiles_'+scen)\n",
    "        for fname in os.listdir(datadir):\n",
    "            site=fname.split('-')[3][0:8]\n",
    "            if site in insite:\n",
    "                df=pd.read_csv(os.path.join(datadir,fname),names=['day','flow'],delim_whitespace=True)\n",
    "                df['simstart']=pd.to_datetime(simstart)\n",
    "                df['datetime']=df['simstart']+pd.to_timedelta(df['day'],unit='days')\n",
    "                df.index=df.datetime\n",
    "                df=df.resample('D').bfill()\n",
    "                dflist.append(df.loc[:,['flow']])\n",
    "                names.append(site)\n",
    "        sdf[scen]=pd.concat(dflist,axis=1)\n",
    "        sdf[scen].columns=names\n",
    "        sdf[scen]['month']=sdf[scen].index.month\n",
    "        sdf[scen]['year']=sdf[scen].index.year\n",
    "    return(sdf)"
   ]
  },
  {
   "cell_type": "code",
   "execution_count": 103,
   "metadata": {},
   "outputs": [],
   "source": [
    "inflow=inflow_tabfiles()"
   ]
  },
  {
   "cell_type": "code",
   "execution_count": 104,
   "metadata": {},
   "outputs": [
    {
     "name": "stdout",
     "output_type": "stream",
     "text": [
      "hist 3614\n",
      "0C 3614\n",
      "1C 3481\n",
      "2C 3312\n",
      "3C 3143\n",
      "4C 2960\n",
      "5C 2794\n"
     ]
    }
   ],
   "source": [
    "for s in ['hist','0C','1C','2C','3C','4C','5C']:\n",
    "    ef=pd.DataFrame(inflow[s].loc[:,'10309000'].copy())\n",
    "    ef['month']=ef.index.month\n",
    "    mask=[i for i in ef.index if ef.loc[i,'10309000']>200*86400 and ef.loc[i,'month'] in irrmo]\n",
    "    print(s,len(mask))"
   ]
  },
  {
   "cell_type": "code",
   "execution_count": null,
   "metadata": {},
   "outputs": [],
   "source": []
  },
  {
   "cell_type": "code",
   "execution_count": 105,
   "metadata": {},
   "outputs": [
    {
     "name": "stdout",
     "output_type": "stream",
     "text": [
      "hist 0.0\n",
      "0C 0.0\n",
      "1C 0.0\n",
      "2C 0.0\n",
      "3C 0.0\n",
      "4C 0.0\n",
      "5C 0.0\n"
     ]
    },
    {
     "name": "stderr",
     "output_type": "stream",
     "text": [
      "C:\\conda3x64\\envs\\p3x64\\lib\\site-packages\\pandas\\core\\indexing.py:1404: FutureWarning: \n",
      "Passing list-likes to .loc or [] with any missing label will raise\n",
      "KeyError in the future, you can use .reindex() as an alternative.\n",
      "\n",
      "See the documentation here:\n",
      "https://pandas.pydata.org/pandas-docs/stable/user_guide/indexing.html#deprecate-loc-reindex-listlike\n",
      "  return self._getitem_tuple(key)\n"
     ]
    }
   ],
   "source": [
    "#simulated inflows\n",
    "incols=[c for c in inflow[scen].columns if c not in ['month','year','datetime','inflow']]\n",
    "for scen in ['hist','0C','1C','2C','3C','4C','5C']:\n",
    "    ann=inflow[scen].loc[scend8s,['inflow','year']].groupby('year').sum().mean().mean()*cft2Mm3\n",
    "    print(scen,ann)"
   ]
  },
  {
   "cell_type": "code",
   "execution_count": 106,
   "metadata": {},
   "outputs": [],
   "source": [
    "for scen in inflow:\n",
    "    inflow[scen]['inflow']=inflow[scen].loc[:,incols].sum(axis=1)"
   ]
  },
  {
   "cell_type": "code",
   "execution_count": 107,
   "metadata": {},
   "outputs": [
    {
     "name": "stdout",
     "output_type": "stream",
     "text": [
      "hist 356.78993760714707\n",
      "0C 356.78993760714707\n",
      "1C 341.0995970456593\n",
      "2C 324.1210530715378\n",
      "3C 305.843213055383\n",
      "4C 286.3877381617557\n",
      "5C 265.93874911826776\n"
     ]
    }
   ],
   "source": [
    "#simulated irrigation season inflows\n",
    "incols=[c for c in inflow[scen].columns if c not in ['month','year','datetime','inflow']]\n",
    "for scen in ['hist','0C','1C','2C','3C','4C','5C']:\n",
    "    mo=inflow[scen].loc[scend8s,['inflow','month']].groupby('month').mean()*cft2Mm3*30.5\n",
    "    imo=mo.loc[irrmo].sum().sum()\n",
    "    print(scen,imo)"
   ]
  },
  {
   "cell_type": "code",
   "execution_count": null,
   "metadata": {},
   "outputs": [],
   "source": []
  },
  {
   "cell_type": "code",
   "execution_count": null,
   "metadata": {},
   "outputs": [],
   "source": []
  },
  {
   "cell_type": "markdown",
   "metadata": {},
   "source": [
    "# simulation outflows"
   ]
  },
  {
   "cell_type": "code",
   "execution_count": 143,
   "metadata": {},
   "outputs": [],
   "source": [
    "def outflow_sgag():\n",
    "    # read stream gage files for outflow\n",
    "    sdf={}\n",
    "    for scen in scenlist:\n",
    "        dflist=[]\n",
    "        names=[]\n",
    "        datadir=os.path.join('..\\\\..\\\\','output','output_MSGSF_'+scen)\n",
    "        for fname in os.listdir(datadir):\n",
    "            if '10311000.sgag' in fname:\n",
    "                site=fname.split('-')[3].replace('.sgag','')\n",
    "                df=pd.read_csv(os.path.join(datadir,fname),usecols=[0,2],skiprows=3,names=['day','flow'],delim_whitespace=True)\n",
    "                df['simstart']=pd.to_datetime(simstart)\n",
    "                df['datetime']=df['simstart']+pd.to_timedelta(df['day'],unit='days')\n",
    "                df.index=df.datetime\n",
    "                df=df.resample('D').bfill().ffill()\n",
    "                dflist.append(df)\n",
    "                names.append(site)\n",
    "        sdf[scen]=pd.concat(dflist,axis=1,names=names)\n",
    "        sdf[scen]['month']=sdf[scen].index.month\n",
    "        sdf[scen]['year']=sdf[scen].index.year\n",
    "    return(sdf)\n",
    "                "
   ]
  },
  {
   "cell_type": "code",
   "execution_count": 144,
   "metadata": {},
   "outputs": [],
   "source": [
    "outflow=outflow_sgag()"
   ]
  },
  {
   "cell_type": "code",
   "execution_count": 146,
   "metadata": {},
   "outputs": [
    {
     "data": {
      "text/plain": [
       "DatetimeIndex(['2015-09-29', '2015-09-30'], dtype='datetime64[ns]', freq=None)"
      ]
     },
     "execution_count": 146,
     "metadata": {},
     "output_type": "execute_result"
    }
   ],
   "source": [
    "scend8s.difference(outflow['0C'].index)"
   ]
  },
  {
   "cell_type": "code",
   "execution_count": 147,
   "metadata": {},
   "outputs": [
    {
     "name": "stdout",
     "output_type": "stream",
     "text": [
      "hist 287.6236802633177\n",
      "0C 292.9551553617122\n",
      "1C 293.1219660572699\n",
      "2C 294.94025988106137\n",
      "3C 298.15190927293173\n",
      "4C 302.3599818979667\n",
      "5C 307.27884954598255\n"
     ]
    }
   ],
   "source": [
    "#annual outflow\n",
    "for scen in ['hist','0C','1C','2C','3C','4C','5C']:\n",
    "    ann=outflow[scen].loc[scend8s,['year','flow']].groupby('year').sum().mean()['flow']*cft2Mm3\n",
    "    print(scen,ann)"
   ]
  },
  {
   "cell_type": "code",
   "execution_count": 119,
   "metadata": {},
   "outputs": [
    {
     "name": "stdout",
     "output_type": "stream",
     "text": [
      "hist 253.01071865124518\n",
      "0C 255.28406013378037\n",
      "1C 241.87389984378342\n",
      "2C 227.54501900291027\n",
      "3C 212.0964776763119\n",
      "4C 195.5086641536576\n",
      "5C 177.96633157824147\n"
     ]
    }
   ],
   "source": [
    "#irrigation season outflow\n",
    "for scen in ['hist','0C','1C','2C','3C','4C','5C']:\n",
    "    mo=outflow[scen].loc[scend8s,['month','flow']].groupby('month').sum()*cft2Mm3/30.5\n",
    "    imo=mo.loc[irrmo].sum()['flow']\n",
    "    print(scen,imo)"
   ]
  },
  {
   "cell_type": "code",
   "execution_count": 120,
   "metadata": {},
   "outputs": [
    {
     "name": "stderr",
     "output_type": "stream",
     "text": [
      "The PostScript backend does not support transparency; partially transparent artists will be rendered opaque.\n",
      "The PostScript backend does not support transparency; partially transparent artists will be rendered opaque.\n"
     ]
    },
    {
     "data": {
      "image/png": "[encoded data removed]",
      "text/plain": [
       "<Figure size 720x360 with 1 Axes>"
      ]
     },
     "metadata": {
      "needs_background": "light"
     },
     "output_type": "display_data"
    }
   ],
   "source": [
    "leg=['1C','2C','3C','4C','5C']\n",
    "colors=['b','g','c','m','r']\n",
    "fig,ax=plt.subplots(1,1,figsize=figsize)\n",
    "for s,c in zip(leg,colors):\n",
    "    d=(outflow[s].loc[:,'flow']-outflow['0C'].loc[:,'flow'])*cft2Mm3\n",
    "    d.cumsum().plot(ax=ax,color=c)\n",
    "ytick = range(-50,800,100)\n",
    "ax.set_ylim(0,700)\n",
    "ax.set_xlim(datetime.date(1981,12,1),datetime.date(2015,9,30))\n",
    "ax.set_yticks(ytick, minor=True )\n",
    "ax.grid('on', which='both', axis='both' )\n",
    "ax.tick_params(labelsize=12)\n",
    "ax.set_axisbelow(True)\n",
    "ax.legend(leg,loc=(0.15,0.65))\n",
    "ax.set_xlabel('Simulation year',fontsize=12)\n",
    "ax.set_ylabel('Difference in cumulative outflow from baseline\\nUSGS gage 10311000 (million cubic meters)',fontsize=12)\n",
    "plt.savefig(r'S:\\CarsonValley\\manuscripts\\2020WR027924_final_figures\\2020WR027924-f12.eps', format='eps')"
   ]
  },
  {
   "cell_type": "code",
   "execution_count": 121,
   "metadata": {},
   "outputs": [
    {
     "name": "stdout",
     "output_type": "stream",
     "text": [
      "10.56672032755034\n",
      "87.43196769003193\n",
      "219.56157799904958\n",
      "391.0212970817569\n",
      "591.9588517616093\n"
     ]
    },
    {
     "data": {
      "image/png": "[encoded data removed]",
      "text/plain": [
       "<Figure size 720x360 with 1 Axes>"
      ]
     },
     "metadata": {
      "needs_background": "light"
     },
     "output_type": "display_data"
    }
   ],
   "source": [
    "leg=['1C','2C','3C','4C','5C']\n",
    "colors=['b','g','c','m','r']\n",
    "fig,ax=plt.subplots(1,1,figsize=figsize)\n",
    "for s,c in zip(leg,colors):\n",
    "    d=(outflow[s].loc[:,'flow']-outflow['0C'].loc[:,'flow'])*cft2Mm3\n",
    "    d.hist(ax=ax,color=c,alpha=0.2)\n",
    "    print(d.sum())"
   ]
  },
  {
   "cell_type": "code",
   "execution_count": null,
   "metadata": {},
   "outputs": [],
   "source": []
  },
  {
   "cell_type": "code",
   "execution_count": 125,
   "metadata": {},
   "outputs": [],
   "source": [
    "# calculate monthly mean dif\n",
    "mlst=[]\n",
    "for scen in ['1C','2C','3C','4C','5C']:\n",
    "    mlst.append((outflow[scen].loc[:,['flow','month']].groupby('month').mean()-outflow['0C'].loc[:,['flow','month']].groupby('month').mean())*cft2Mm3*30)\n",
    "\n",
    "modif=pd.concat(mlst,axis=1)\n",
    "modif.columns=['1C','2C','3C','4C','5C']"
   ]
  },
  {
   "cell_type": "code",
   "execution_count": 126,
   "metadata": {},
   "outputs": [
    {
     "data": {
      "text/html": [
       "<div>\n",
       "<style scoped>\n",
       "    .dataframe tbody tr th:only-of-type {\n",
       "        vertical-align: middle;\n",
       "    }\n",
       "\n",
       "    .dataframe tbody tr th {\n",
       "        vertical-align: top;\n",
       "    }\n",
       "\n",
       "    .dataframe thead th {\n",
       "        text-align: right;\n",
       "    }\n",
       "</style>\n",
       "<table border=\"1\" class=\"dataframe\">\n",
       "  <thead>\n",
       "    <tr style=\"text-align: right;\">\n",
       "      <th></th>\n",
       "      <th>1C</th>\n",
       "      <th>2C</th>\n",
       "      <th>3C</th>\n",
       "      <th>4C</th>\n",
       "      <th>5C</th>\n",
       "    </tr>\n",
       "    <tr>\n",
       "      <th>month</th>\n",
       "      <th></th>\n",
       "      <th></th>\n",
       "      <th></th>\n",
       "      <th></th>\n",
       "      <th></th>\n",
       "    </tr>\n",
       "  </thead>\n",
       "  <tbody>\n",
       "    <tr>\n",
       "      <th>1</th>\n",
       "      <td>1.988</td>\n",
       "      <td>4.470</td>\n",
       "      <td>7.487</td>\n",
       "      <td>11.085</td>\n",
       "      <td>15.263</td>\n",
       "    </tr>\n",
       "    <tr>\n",
       "      <th>2</th>\n",
       "      <td>2.808</td>\n",
       "      <td>6.248</td>\n",
       "      <td>10.345</td>\n",
       "      <td>15.017</td>\n",
       "      <td>20.276</td>\n",
       "    </tr>\n",
       "    <tr>\n",
       "      <th>3</th>\n",
       "      <td>6.920</td>\n",
       "      <td>14.804</td>\n",
       "      <td>23.521</td>\n",
       "      <td>32.775</td>\n",
       "      <td>42.070</td>\n",
       "    </tr>\n",
       "    <tr>\n",
       "      <th>4</th>\n",
       "      <td>7.165</td>\n",
       "      <td>14.272</td>\n",
       "      <td>20.475</td>\n",
       "      <td>25.033</td>\n",
       "      <td>27.568</td>\n",
       "    </tr>\n",
       "    <tr>\n",
       "      <th>5</th>\n",
       "      <td>-2.400</td>\n",
       "      <td>-6.659</td>\n",
       "      <td>-12.657</td>\n",
       "      <td>-20.118</td>\n",
       "      <td>-28.620</td>\n",
       "    </tr>\n",
       "    <tr>\n",
       "      <th>6</th>\n",
       "      <td>-9.905</td>\n",
       "      <td>-19.922</td>\n",
       "      <td>-29.531</td>\n",
       "      <td>-38.265</td>\n",
       "      <td>-45.801</td>\n",
       "    </tr>\n",
       "    <tr>\n",
       "      <th>7</th>\n",
       "      <td>-4.652</td>\n",
       "      <td>-8.677</td>\n",
       "      <td>-11.965</td>\n",
       "      <td>-14.480</td>\n",
       "      <td>-16.343</td>\n",
       "    </tr>\n",
       "    <tr>\n",
       "      <th>8</th>\n",
       "      <td>-1.426</td>\n",
       "      <td>-2.508</td>\n",
       "      <td>-3.295</td>\n",
       "      <td>-3.873</td>\n",
       "      <td>-4.308</td>\n",
       "    </tr>\n",
       "    <tr>\n",
       "      <th>9</th>\n",
       "      <td>-0.691</td>\n",
       "      <td>-1.177</td>\n",
       "      <td>-1.524</td>\n",
       "      <td>-1.737</td>\n",
       "      <td>-1.856</td>\n",
       "    </tr>\n",
       "    <tr>\n",
       "      <th>10</th>\n",
       "      <td>-0.462</td>\n",
       "      <td>-0.833</td>\n",
       "      <td>-1.122</td>\n",
       "      <td>-1.365</td>\n",
       "      <td>-1.561</td>\n",
       "    </tr>\n",
       "    <tr>\n",
       "      <th>11</th>\n",
       "      <td>0.058</td>\n",
       "      <td>0.244</td>\n",
       "      <td>0.574</td>\n",
       "      <td>1.034</td>\n",
       "      <td>1.583</td>\n",
       "    </tr>\n",
       "    <tr>\n",
       "      <th>12</th>\n",
       "      <td>1.116</td>\n",
       "      <td>2.601</td>\n",
       "      <td>4.414</td>\n",
       "      <td>6.556</td>\n",
       "      <td>9.141</td>\n",
       "    </tr>\n",
       "  </tbody>\n",
       "</table>\n",
       "</div>"
      ],
      "text/plain": [
       "          1C      2C      3C      4C      5C\n",
       "month                                       \n",
       "1      1.988   4.470   7.487  11.085  15.263\n",
       "2      2.808   6.248  10.345  15.017  20.276\n",
       "3      6.920  14.804  23.521  32.775  42.070\n",
       "4      7.165  14.272  20.475  25.033  27.568\n",
       "5     -2.400  -6.659 -12.657 -20.118 -28.620\n",
       "6     -9.905 -19.922 -29.531 -38.265 -45.801\n",
       "7     -4.652  -8.677 -11.965 -14.480 -16.343\n",
       "8     -1.426  -2.508  -3.295  -3.873  -4.308\n",
       "9     -0.691  -1.177  -1.524  -1.737  -1.856\n",
       "10    -0.462  -0.833  -1.122  -1.365  -1.561\n",
       "11     0.058   0.244   0.574   1.034   1.583\n",
       "12     1.116   2.601   4.414   6.556   9.141"
      ]
     },
     "execution_count": 126,
     "metadata": {},
     "output_type": "execute_result"
    }
   ],
   "source": [
    "modif"
   ]
  },
  {
   "cell_type": "code",
   "execution_count": 127,
   "metadata": {},
   "outputs": [
    {
     "name": "stderr",
     "output_type": "stream",
     "text": [
      "The PostScript backend does not support transparency; partially transparent artists will be rendered opaque.\n",
      "The PostScript backend does not support transparency; partially transparent artists will be rendered opaque.\n"
     ]
    },
    {
     "data": {
      "image/png": "[encoded data removed]",
      "text/plain": [
       "<Figure size 720x360 with 1 Axes>"
      ]
     },
     "metadata": {
      "needs_background": "light"
     },
     "output_type": "display_data"
    }
   ],
   "source": [
    "leg=['1C','2C','3C','4C','5C']\n",
    "colors=['b','g','c','m','r']\n",
    "fig,ax=plt.subplots(1,1,figsize=figsize)\n",
    "modif.plot(kind='bar',width=1,ax=ax,figsize=figsize,color=colors)\n",
    "ax.set_xlabel('Simulation month',fontsize=12)\n",
    "ax.set_ylabel('Differences in mean monthly outflow\\n(scenario minus baseline)\\nUSGS gage 10311000 (million cubic meters)',fontsize=12)\n",
    "ytick = range(-50,45,5)\n",
    "ax.set_ylim(-45,45)\n",
    "ax.set_yticks(ytick, minor=True )\n",
    "ax.grid('on', which='both', axis='both' )\n",
    "ax.tick_params(labelsize=14)\n",
    "ax.set_axisbelow(True)\n",
    "ax.legend(leg)\n",
    "plt.savefig(r'S:\\CarsonValley\\manuscripts\\2020WR027924_final_figures\\2020WR027924-f13.eps', format='eps')"
   ]
  },
  {
   "cell_type": "code",
   "execution_count": 546,
   "metadata": {},
   "outputs": [
    {
     "data": {
      "text/html": [
       "<div>\n",
       "<style scoped>\n",
       "    .dataframe tbody tr th:only-of-type {\n",
       "        vertical-align: middle;\n",
       "    }\n",
       "\n",
       "    .dataframe tbody tr th {\n",
       "        vertical-align: top;\n",
       "    }\n",
       "\n",
       "    .dataframe thead th {\n",
       "        text-align: right;\n",
       "    }\n",
       "</style>\n",
       "<table border=\"1\" class=\"dataframe\">\n",
       "  <thead>\n",
       "    <tr style=\"text-align: right;\">\n",
       "      <th></th>\n",
       "      <th>1C</th>\n",
       "      <th>2C</th>\n",
       "      <th>3C</th>\n",
       "      <th>4C</th>\n",
       "      <th>5C</th>\n",
       "    </tr>\n",
       "    <tr>\n",
       "      <th>month</th>\n",
       "      <th></th>\n",
       "      <th></th>\n",
       "      <th></th>\n",
       "      <th></th>\n",
       "      <th></th>\n",
       "    </tr>\n",
       "  </thead>\n",
       "  <tbody>\n",
       "    <tr>\n",
       "      <th>1</th>\n",
       "      <td>1.988</td>\n",
       "      <td>4.470</td>\n",
       "      <td>7.487</td>\n",
       "      <td>11.085</td>\n",
       "      <td>15.263</td>\n",
       "    </tr>\n",
       "    <tr>\n",
       "      <th>2</th>\n",
       "      <td>2.808</td>\n",
       "      <td>6.248</td>\n",
       "      <td>10.345</td>\n",
       "      <td>15.017</td>\n",
       "      <td>20.276</td>\n",
       "    </tr>\n",
       "    <tr>\n",
       "      <th>3</th>\n",
       "      <td>6.920</td>\n",
       "      <td>14.804</td>\n",
       "      <td>23.521</td>\n",
       "      <td>32.775</td>\n",
       "      <td>42.070</td>\n",
       "    </tr>\n",
       "    <tr>\n",
       "      <th>4</th>\n",
       "      <td>7.165</td>\n",
       "      <td>14.272</td>\n",
       "      <td>20.475</td>\n",
       "      <td>25.033</td>\n",
       "      <td>27.568</td>\n",
       "    </tr>\n",
       "    <tr>\n",
       "      <th>5</th>\n",
       "      <td>-2.400</td>\n",
       "      <td>-6.659</td>\n",
       "      <td>-12.657</td>\n",
       "      <td>-20.118</td>\n",
       "      <td>-28.620</td>\n",
       "    </tr>\n",
       "    <tr>\n",
       "      <th>6</th>\n",
       "      <td>-9.905</td>\n",
       "      <td>-19.922</td>\n",
       "      <td>-29.531</td>\n",
       "      <td>-38.265</td>\n",
       "      <td>-45.801</td>\n",
       "    </tr>\n",
       "    <tr>\n",
       "      <th>7</th>\n",
       "      <td>-4.652</td>\n",
       "      <td>-8.677</td>\n",
       "      <td>-11.965</td>\n",
       "      <td>-14.480</td>\n",
       "      <td>-16.343</td>\n",
       "    </tr>\n",
       "    <tr>\n",
       "      <th>8</th>\n",
       "      <td>-1.426</td>\n",
       "      <td>-2.508</td>\n",
       "      <td>-3.295</td>\n",
       "      <td>-3.873</td>\n",
       "      <td>-4.308</td>\n",
       "    </tr>\n",
       "    <tr>\n",
       "      <th>9</th>\n",
       "      <td>-0.691</td>\n",
       "      <td>-1.177</td>\n",
       "      <td>-1.524</td>\n",
       "      <td>-1.737</td>\n",
       "      <td>-1.856</td>\n",
       "    </tr>\n",
       "    <tr>\n",
       "      <th>10</th>\n",
       "      <td>-0.462</td>\n",
       "      <td>-0.833</td>\n",
       "      <td>-1.122</td>\n",
       "      <td>-1.365</td>\n",
       "      <td>-1.561</td>\n",
       "    </tr>\n",
       "    <tr>\n",
       "      <th>11</th>\n",
       "      <td>0.058</td>\n",
       "      <td>0.244</td>\n",
       "      <td>0.574</td>\n",
       "      <td>1.034</td>\n",
       "      <td>1.583</td>\n",
       "    </tr>\n",
       "    <tr>\n",
       "      <th>12</th>\n",
       "      <td>1.116</td>\n",
       "      <td>2.601</td>\n",
       "      <td>4.414</td>\n",
       "      <td>6.556</td>\n",
       "      <td>9.141</td>\n",
       "    </tr>\n",
       "  </tbody>\n",
       "</table>\n",
       "</div>"
      ],
      "text/plain": [
       "          1C      2C      3C      4C      5C\n",
       "month                                       \n",
       "1      1.988   4.470   7.487  11.085  15.263\n",
       "2      2.808   6.248  10.345  15.017  20.276\n",
       "3      6.920  14.804  23.521  32.775  42.070\n",
       "4      7.165  14.272  20.475  25.033  27.568\n",
       "5     -2.400  -6.659 -12.657 -20.118 -28.620\n",
       "6     -9.905 -19.922 -29.531 -38.265 -45.801\n",
       "7     -4.652  -8.677 -11.965 -14.480 -16.343\n",
       "8     -1.426  -2.508  -3.295  -3.873  -4.308\n",
       "9     -0.691  -1.177  -1.524  -1.737  -1.856\n",
       "10    -0.462  -0.833  -1.122  -1.365  -1.561\n",
       "11     0.058   0.244   0.574   1.034   1.583\n",
       "12     1.116   2.601   4.414   6.556   9.141"
      ]
     },
     "execution_count": 546,
     "metadata": {},
     "output_type": "execute_result"
    }
   ],
   "source": [
    "modif"
   ]
  },
  {
   "cell_type": "code",
   "execution_count": 212,
   "metadata": {},
   "outputs": [],
   "source": [
    "lst=[]\n",
    "for g in ['10309000','10310000','10311000']:\n",
    "    lst.append(gage[g].loc[scend8s,'flow'])\n",
    "df=pd.concat(lst,axis=1)\n",
    "df.fillna(method='ffill',inplace=True)\n",
    "df.columns=['10309000','10310000','10311000']\n",
    "df.to_csv('Carson Valley gage data.csv')"
   ]
  },
  {
   "cell_type": "code",
   "execution_count": 213,
   "metadata": {},
   "outputs": [],
   "source": [
    "lst=[]\n",
    "for g in ['10311000']:\n",
    "    lst.append(outflow['hist'].loc[scend8s,'flow'])\n",
    "df=pd.concat(lst,axis=1)\n",
    "df.columns=['10311000']\n",
    "df.fillna(method='ffill',inplace=True)\n",
    "df.to_csv('Carson Valley simulated outflow.csv')"
   ]
  },
  {
   "cell_type": "markdown",
   "metadata": {},
   "source": [
    "# Validation"
   ]
  },
  {
   "cell_type": "code",
   "execution_count": 221,
   "metadata": {},
   "outputs": [],
   "source": [
    "# Eric did the fit stats for streamflow, NSE is wrong here, skip to heads"
   ]
  },
  {
   "cell_type": "code",
   "execution_count": null,
   "metadata": {},
   "outputs": [],
   "source": []
  },
  {
   "cell_type": "code",
   "execution_count": 239,
   "metadata": {},
   "outputs": [
    {
     "name": "stdout",
     "output_type": "stream",
     "text": [
      "month/nrmse nse bias\n",
      "0.26431045849301\n",
      "0.8774484016575634\n",
      "flow    -0.126416\n",
      "month    0.000000\n",
      "dtype: float64\n",
      "year/nrmse nse bias\n",
      "0.22371207614535826\n",
      "0.9014861165785304\n",
      "flow   -0.126416\n",
      "year    0.000000\n",
      "dtype: float64\n"
     ]
    }
   ],
   "source": [
    "#outflow validation\n",
    "# average over period, then difference\n",
    "for p in ['month','year']:\n",
    "    sf=outflow['hist'].loc[scend8s,['flow',p]].groupby(p).mean()\n",
    "    gf=gage['10311000'].loc[scend8s,['flow',p]].groupby(p).mean()\n",
    "    rmse=(((sf-gf)**2).mean()**0.5)*cft2Mm3\n",
    "    \n",
    "    nse=1-((sf-gf).values**2).sum()/((gf.loc[:,'flow']-gf.loc[:,'flow'].mean())**2).sum()\n",
    "    \n",
    "    print(p+'/nrmse nse bias')\n",
    "    print('{}'.format(rmse['flow']))\n",
    "    print('{}'.format(nse))\n",
    "    print('{}'.format((outflow['hist'].loc[scend8s,['flow',p]]-gage['10311000'].loc[scend8s,['flow',p]]).mean()*cft2Mm3))"
   ]
  },
  {
   "cell_type": "code",
   "execution_count": 240,
   "metadata": {},
   "outputs": [
    {
     "name": "stdout",
     "output_type": "stream",
     "text": [
      "rmse\n",
      "1.1056003850525213\n",
      "0.9295425735368142\n",
      "0.49368750222815827\n",
      "0.9183499134057778\n",
      "1.1620007092995852\n",
      "0.9920782948170254\n",
      "0.37493647109117245\n",
      "0.3497767578120145\n",
      "0.16747892984688742\n",
      "0.2046036014381479\n",
      "0.3440296783051961\n",
      "0.48816061689421286\n",
      "nse\n",
      "0.27009607346953557\n",
      "0.023566429485180174\n",
      "0.656517910382782\n",
      "-0.025471278347016568\n",
      "0.6160875388788132\n",
      "0.8208327353883188\n",
      "0.8811643820731557\n",
      "-0.46605634070588686\n",
      "-0.15025866242357688\n",
      "0.4091562524712775\n",
      "0.4093296430360043\n",
      "0.10532062350349736\n"
     ]
    }
   ],
   "source": [
    "# outflow validation\n",
    "#average over period, then difference\n",
    "rlist=[]\n",
    "nlist=[]\n",
    "\n",
    "for m in range(1,13):\n",
    "    #sf simulated total monthly flow\n",
    "    \n",
    "    pout=outflow['hist'].loc[scend8s,['flow','month','year']]\n",
    "    sf=pout.loc[pout['month']==m,['flow','year']].groupby('year').mean()\n",
    "    pgag=gage['10311000'].loc[scend8s,['month','flow','year']]\n",
    "    gf=pgag.loc[pgag['month']==m,['flow','year']].groupby('year').mean()\n",
    "    rmse=(((sf-gf)**2).mean()**0.5)*cft2Mm3\n",
    "\n",
    "    nse=1-((sf-gf).values**2).sum()/((gf.loc[:,'flow']-gf.loc[:,'flow'].mean())**2).sum()\n",
    "\n",
    "    rlist.append(rmse['flow'])\n",
    "    nlist.append(nse)\n",
    "print('rmse')\n",
    "for r in rlist:\n",
    "    print(r)\n",
    "print('nse')\n",
    "for n in nlist:\n",
    "    print(n)"
   ]
  },
  {
   "cell_type": "code",
   "execution_count": 270,
   "metadata": {},
   "outputs": [
    {
     "name": "stdout",
     "output_type": "stream",
     "text": [
      "10310000\n",
      "site_no    103.641064\n",
      "flow        86.798763\n",
      "month        0.000066\n",
      "dtype: float64\n",
      "rmse\n",
      "0.1707853308387202\n",
      "0.07269900277345763\n",
      "0.0754747267776505\n",
      "0.15538659509322397\n",
      "0.26717337644933575\n",
      "0.210833623141715\n",
      "0.10918531116002793\n",
      "0.060247308987199016\n",
      "0.04498962627935852\n",
      "0.03226441686144265\n",
      "0.03602838355410695\n",
      "0.0456764588560103\n",
      "nse\n",
      "0.5117915604032196\n",
      "0.4053077466801107\n",
      "0.6376412870661536\n",
      "0.39513345730231353\n",
      "0.6795820376996091\n",
      "0.8404873149710826\n",
      "0.8206262126467925\n",
      "0.5804048057907072\n",
      "0.19194892245613826\n",
      "0.1362623409039413\n",
      "0.771700431205298\n",
      "0.7405685170837173\n",
      "10309000\n",
      "site_no    103.631012\n",
      "flow       305.299978\n",
      "month        0.000066\n",
      "dtype: float64\n",
      "rmse\n",
      "0.5580272269491549\n",
      "0.4443449871164933\n",
      "0.4789505525657224\n",
      "0.8512262380523407\n",
      "1.0402575202373985\n",
      "0.7835238176633369\n",
      "0.2518056278861164\n",
      "0.3138178468025673\n",
      "0.18565567839639846\n",
      "0.13827079019938274\n",
      "0.20080552064238585\n",
      "0.3196654247345606\n",
      "nse\n",
      "0.3748840675964179\n",
      "0.1460037135440586\n",
      "0.0482322441921621\n",
      "-1.3390211804574794\n",
      "0.43280787206579363\n",
      "0.8021985131741081\n",
      "0.9357753341727237\n",
      "-0.3220464672230241\n",
      "-0.7987426168456042\n",
      "0.009452958165946046\n",
      "0.18120326911562668\n",
      "-0.06945880984227171\n"
     ]
    }
   ],
   "source": [
    "# EFWF validation\n",
    "#average over period, then difference\n",
    "inflow['hist']['year']=inflow['hist'].index.year\n",
    "inflow['hist']['month']=inflow['hist'].index.month\n",
    "for s in ['10310000','10309000']:\n",
    "    print(s)\n",
    "    rlist=[]\n",
    "    nlist=[]\n",
    "    print(gage[s].groupby('year').sum().mean()*cft2Mm3)\n",
    "    for m in range(1,13):\n",
    "        #sf simulated total monthly flow\n",
    "        pinf=inflow['hist'].loc[scend8s,[s,'month','year']]\n",
    "        sf=pinf.loc[pinf['month']==m,[s,'year']].groupby('year').mean()\n",
    "        sf.columns=['flow']\n",
    "        gf=gage[s].loc[gage[s]['month']==m,['flow','year']].groupby('year').mean()\n",
    "        rmse=(((sf-gf)**2).mean()**0.5)*cft2Mm3\n",
    "\n",
    "        nse=1-((sf-gf).values**2).sum()/((gf.loc[:,'flow']-gf.loc[:,'flow'].mean())**2).sum()\n",
    "\n",
    "        rlist.append(rmse['flow'])\n",
    "        nlist.append(nse)\n",
    "    print('rmse')\n",
    "    for r in rlist:\n",
    "        print(r)\n",
    "    print('nse')\n",
    "    for n in nlist:\n",
    "        print(n)"
   ]
  },
  {
   "cell_type": "code",
   "execution_count": 242,
   "metadata": {},
   "outputs": [
    {
     "name": "stdout",
     "output_type": "stream",
     "text": [
      "10310000\n",
      "month rmse nse\n",
      "0.04085763787456442\n",
      "0.9689681652320422\n",
      "year rmse nse\n",
      "0.03304192535162919\n",
      "0.94554721971461\n",
      "10309000\n",
      "month rmse nse\n",
      "0.19688508703570987\n",
      "0.9372778493434925\n",
      "year rmse nse\n",
      "0.15709182498906382\n",
      "0.8985052187629164\n"
     ]
    }
   ],
   "source": [
    "# EFWF validation\n",
    "#average over period, then difference\n",
    "inflow['hist']['year']=inflow['hist'].index.year\n",
    "inflow['hist']['month']=inflow['hist'].index.month\n",
    "for s in ['10310000','10309000']:\n",
    "    print(s)\n",
    "    for p in ['month','year']:\n",
    "        sf=inflow['hist'].loc[scend8s,[s,p]].groupby(p).mean()\n",
    "        sf.columns=['flow']\n",
    "        gf=gage[s].loc[scend8s,['flow',p]].groupby(p).mean()\n",
    "        rmse=(((sf-gf)**2).mean()**0.5)*cft2Mm3\n",
    "\n",
    "        nse=1-((sf-gf).values**2).sum()/((gf.loc[:,'flow']-gf.loc[:,'flow'].mean())**2).sum()\n",
    "\n",
    "        print(p+' rmse nse')\n",
    "        print('{}'.format(rmse['flow']))\n",
    "        print('{}'.format(nse))"
   ]
  },
  {
   "cell_type": "code",
   "execution_count": 259,
   "metadata": {},
   "outputs": [
    {
     "name": "stdout",
     "output_type": "stream",
     "text": [
      "35-year simulation period statistics\n",
      "Mean measured flow Mm3/yr: 342.025637586117\n",
      "Mean measured flow ac-ft/yr: 277284.7236248039\n",
      "RMSE (Mm3/yr): 437.5488525497847\n",
      "RMSE (ac-ft/yr):354726.6617435049\n",
      "nRMSE (mean): 1.2792867097268883\n",
      "nRMSE (q75-q25): 1.4192491434615326\n",
      "bias (Mm3/yr): -46.17351523351413\n",
      "bias (ac-ft/yr): -37433.481597083424\n",
      "NSE: 0.5435092638748189\n",
      "\n",
      "\n"
     ]
    }
   ],
   "source": [
    "#old\n",
    "d=outflow['hist'].loc[scend8s,'flow']-gage['10311000'].loc[scend8s,'flow']\n",
    "d.dropna(inplace=True)\n",
    "#stats\n",
    "rmse=(((d.values)**2).mean())**0.5\n",
    "gmean=gage['10311000'].loc[scend8s,'flow'].mean()\n",
    "q25=gage['10311000'].loc[scend8s,'flow'].quantile(q=0.25)\n",
    "q75=gage['10311000'].loc[scend8s,'flow'].quantile(q=0.75)\n",
    "\n",
    "print('35-year simulation period statistics')\n",
    "print('Mean measured flow Mm3/yr: {}'.format(gmean*cft2Mm3*365.25))\n",
    "print('Mean measured flow ac-ft/yr: {}'.format(gmean*365.25/43560))\n",
    "\n",
    "print('RMSE (Mm3/yr): {}'.format(rmse*cft2Mm3*365.25))\n",
    "print('RMSE (ac-ft/yr):{}'.format(rmse*365.25/43560))\n",
    "\n",
    "print('nRMSE (mean): {}'.format(rmse/gmean))\n",
    "print('nRMSE (q75-q25): {}'.format(rmse/(q75-q25)))\n",
    "\n",
    "print('bias (Mm3/yr): {}'.format(d.values.mean()*cft2Mm3*365.25))\n",
    "print('bias (ac-ft/yr): {}'.format(d.values.mean()*365.25/43560))\n",
    "\n",
    "nse=1-((d.values**2).sum()/((gage['10311000'].loc[:,'flow']-gmean)**2).sum())\n",
    "print('NSE: {}\\n\\n'.format(nse))\n"
   ]
  },
  {
   "cell_type": "code",
   "execution_count": 261,
   "metadata": {},
   "outputs": [
    {
     "name": "stderr",
     "output_type": "stream",
     "text": [
      "The PostScript backend does not support transparency; partially transparent artists will be rendered opaque.\n",
      "The PostScript backend does not support transparency; partially transparent artists will be rendered opaque.\n"
     ]
    },
    {
     "data": {
      "image/png": "[encoded data removed]",
      "text/plain": [
       "<Figure size 720x360 with 1 Axes>"
      ]
     },
     "metadata": {
      "needs_background": "light"
     },
     "output_type": "display_data"
    }
   ],
   "source": [
    "#ensure order\n",
    "a=pd.DataFrame(d.copy())\n",
    "a.columns=['validation']\n",
    "a=a*cft2Mm3\n",
    "a['month']=a.index.month\n",
    "momean=a.loc[scend8s,['month','validation']].groupby('month').mean()*30\n",
    "\n",
    "leg=['validation']\n",
    "fig,ax=plt.subplots(1,1,figsize=figsize)\n",
    "momean.plot(kind='bar',width=1,ax=ax,figsize=figsize,color=['k'])\n",
    "ax.set_xlabel('Simulation month',fontsize=12)\n",
    "ax.set_ylabel('Differences in mean monthly outflow\\n(simulated minus measured)\\nUSGS gage 10311000 (million cubic meters)',fontsize=12)\n",
    "ytick = range(-45,45,5)\n",
    "ax.set_ylim(-45,45)\n",
    "ax.set_yticks(ytick, minor=True )\n",
    "ax.grid('on', which='both', axis='both' )\n",
    "ax.tick_params(labelsize=14)\n",
    "ax.set_axisbelow(True)\n",
    "ax.legend(leg)\n",
    "plt.savefig(r'S:\\CarsonValley\\manuscripts\\2020WR027924_final_figures\\2020WR027924-validation.eps', format='eps')"
   ]
  },
  {
   "cell_type": "code",
   "execution_count": null,
   "metadata": {},
   "outputs": [],
   "source": []
  },
  {
   "cell_type": "code",
   "execution_count": null,
   "metadata": {},
   "outputs": [],
   "source": []
  },
  {
   "cell_type": "markdown",
   "metadata": {},
   "source": [
    "## heads"
   ]
  },
  {
   "cell_type": "code",
   "execution_count": 168,
   "metadata": {},
   "outputs": [],
   "source": [
    "simhead=pd.read_csv(os.path.join('..\\\\..\\\\','output','output_MSGSF_hist','CV-wes-8015trans-headsim.txt'),\n",
    "                     delim_whitespace=True,names=['site','date','time','head'])\n",
    "simhead.date=pd.to_datetime(simhead.date)\n",
    "obshead=pd.read_csv(os.path.join('..\\\\','GW head','CV-wes-8015trans-headobs.txt'))\n",
    "obshead.index=obshead.obsnme\n",
    "# these are aligned, but some were dropped (i.e. ob_116_1 to ob_116_4), just use obsnme from obshead\n",
    "simhead.index=obshead.index"
   ]
  },
  {
   "cell_type": "code",
   "execution_count": 183,
   "metadata": {
    "scrolled": true
   },
   "outputs": [
    {
     "data": {
      "text/plain": [
       "228"
      ]
     },
     "execution_count": 183,
     "metadata": {},
     "output_type": "execute_result"
    }
   ],
   "source": [
    "len(simhead.site.unique())"
   ]
  },
  {
   "cell_type": "code",
   "execution_count": 169,
   "metadata": {
    "scrolled": true
   },
   "outputs": [
    {
     "data": {
      "text/html": [
       "<div>\n",
       "<style scoped>\n",
       "    .dataframe tbody tr th:only-of-type {\n",
       "        vertical-align: middle;\n",
       "    }\n",
       "\n",
       "    .dataframe tbody tr th {\n",
       "        vertical-align: top;\n",
       "    }\n",
       "\n",
       "    .dataframe thead th {\n",
       "        text-align: right;\n",
       "    }\n",
       "</style>\n",
       "<table border=\"1\" class=\"dataframe\">\n",
       "  <thead>\n",
       "    <tr style=\"text-align: right;\">\n",
       "      <th></th>\n",
       "      <th>obsnme</th>\n",
       "      <th>head</th>\n",
       "      <th>date</th>\n",
       "      <th>time</th>\n",
       "    </tr>\n",
       "    <tr>\n",
       "      <th>obsnme</th>\n",
       "      <th></th>\n",
       "      <th></th>\n",
       "      <th></th>\n",
       "      <th></th>\n",
       "    </tr>\n",
       "  </thead>\n",
       "  <tbody>\n",
       "    <tr>\n",
       "      <th>ob_10_1</th>\n",
       "      <td>ob_10_1</td>\n",
       "      <td>4826.31465</td>\n",
       "      <td>1988-07-07</td>\n",
       "      <td>00:00:00</td>\n",
       "    </tr>\n",
       "    <tr>\n",
       "      <th>ob_10_2</th>\n",
       "      <td>ob_10_2</td>\n",
       "      <td>4826.19465</td>\n",
       "      <td>1998-04-30</td>\n",
       "      <td>00:00:00</td>\n",
       "    </tr>\n",
       "    <tr>\n",
       "      <th>ob_103_1</th>\n",
       "      <td>ob_103_1</td>\n",
       "      <td>5190.51740</td>\n",
       "      <td>2005-11-15</td>\n",
       "      <td>00:00:00</td>\n",
       "    </tr>\n",
       "    <tr>\n",
       "      <th>ob_103_2</th>\n",
       "      <td>ob_103_2</td>\n",
       "      <td>5214.27740</td>\n",
       "      <td>2006-05-18</td>\n",
       "      <td>00:00:00</td>\n",
       "    </tr>\n",
       "    <tr>\n",
       "      <th>ob_103_3</th>\n",
       "      <td>ob_103_3</td>\n",
       "      <td>5211.65740</td>\n",
       "      <td>2006-11-20</td>\n",
       "      <td>00:00:00</td>\n",
       "    </tr>\n",
       "  </tbody>\n",
       "</table>\n",
       "</div>"
      ],
      "text/plain": [
       "            obsnme        head        date      time\n",
       "obsnme                                              \n",
       "ob_10_1    ob_10_1  4826.31465  1988-07-07  00:00:00\n",
       "ob_10_2    ob_10_2  4826.19465  1998-04-30  00:00:00\n",
       "ob_103_1  ob_103_1  5190.51740  2005-11-15  00:00:00\n",
       "ob_103_2  ob_103_2  5214.27740  2006-05-18  00:00:00\n",
       "ob_103_3  ob_103_3  5211.65740  2006-11-20  00:00:00"
      ]
     },
     "execution_count": 169,
     "metadata": {},
     "output_type": "execute_result"
    }
   ],
   "source": [
    "obshead.head()"
   ]
  },
  {
   "cell_type": "code",
   "execution_count": 170,
   "metadata": {},
   "outputs": [],
   "source": [
    "res=simhead.loc[:,'head']-obshead.loc[:,'head']"
   ]
  },
  {
   "cell_type": "code",
   "execution_count": 171,
   "metadata": {},
   "outputs": [
    {
     "name": "stdout",
     "output_type": "stream",
     "text": [
      "rmse head (m): 10.185813058515281 for 7549 obs\n"
     ]
    }
   ],
   "source": [
    "rmse=((res**2).mean()**0.5)/3.28084\n",
    "print('rmse head (m): {} for {} obs'.format(rmse,len(res)))"
   ]
  },
  {
   "cell_type": "markdown",
   "metadata": {},
   "source": [
    "## validation period (no calib period)"
   ]
  },
  {
   "cell_type": "code",
   "execution_count": 178,
   "metadata": {
    "scrolled": true
   },
   "outputs": [
    {
     "name": "stdout",
     "output_type": "stream",
     "text": [
      "rmse head (m): 9.895186061802072 for 6753 obs\n",
      "qrmse head : 1.7775026795160693 for 6753 obs\n"
     ]
    }
   ],
   "source": [
    "idx=[i for i in simhead.index if simhead.loc[i,'date']>datetime.date(2005,10,1) or simhead.loc[i,'date']<datetime.date(2000,9,30)]\n",
    "rmse=((res.loc[idx]**2).mean()**0.5)/3.28084\n",
    "q25=res.loc[idx].quantile(q=0.25)/3.28084\n",
    "q75=res.loc[idx].quantile(q=0.75)/3.28084\n",
    "print('rmse head (m): {} for {} obs'.format(rmse,len(idx)))\n",
    "print('qrmse head : {} for {} obs'.format(rmse/(q75-q25),len(idx)))"
   ]
  },
  {
   "cell_type": "code",
   "execution_count": 179,
   "metadata": {
    "scrolled": true
   },
   "outputs": [
    {
     "data": {
      "text/plain": [
       "<matplotlib.axes._subplots.AxesSubplot at 0x1dd8c820f28>"
      ]
     },
     "execution_count": 179,
     "metadata": {},
     "output_type": "execute_result"
    },
    {
     "data": {
      "image/png": "[encoded data removed]",
      "text/plain": [
       "<Figure size 432x288 with 1 Axes>"
      ]
     },
     "metadata": {
      "needs_background": "light"
     },
     "output_type": "display_data"
    }
   ],
   "source": [
    "res.divide(3.28084).hist()"
   ]
  },
  {
   "cell_type": "code",
   "execution_count": 180,
   "metadata": {},
   "outputs": [
    {
     "name": "stdout",
     "output_type": "stream",
     "text": [
      "rmse head (m): 6.185639669181824 for 6371 obs\n",
      "qrmse head : 1.241271888125768 for 6371 obs\n"
     ]
    }
   ],
   "source": [
    "from scipy import stats\n",
    "nres=res[(np.abs(stats.zscore(res)) < 2)]\n",
    "idx=[i for i in nres.index if simhead.loc[i,'date']>datetime.date(2005,10,1) or simhead.loc[i,'date']<datetime.date(2000,9,30)]\n",
    "rmse=((nres.loc[idx]**2).mean()**0.5)/3.28084\n",
    "q25=nres.loc[idx].quantile(q=0.25)/3.28084\n",
    "q75=nres.loc[idx].quantile(q=0.75)/3.28084\n",
    "print('rmse head (m): {} for {} obs'.format(rmse,len(idx)))\n",
    "print('qrmse head : {} for {} obs'.format(rmse/(q75-q25),len(idx)))"
   ]
  },
  {
   "cell_type": "code",
   "execution_count": 181,
   "metadata": {},
   "outputs": [
    {
     "data": {
      "text/plain": [
       "-6.113362491563616"
      ]
     },
     "execution_count": 181,
     "metadata": {},
     "output_type": "execute_result"
    }
   ],
   "source": [
    "nres.mean()"
   ]
  },
  {
   "cell_type": "markdown",
   "metadata": {},
   "source": [
    "## calibration period "
   ]
  },
  {
   "cell_type": "code",
   "execution_count": 184,
   "metadata": {},
   "outputs": [
    {
     "name": "stdout",
     "output_type": "stream",
     "text": [
      "rmse head (m): 12.379909480544507 for 796 obs\n"
     ]
    }
   ],
   "source": [
    "idx=[i for i in simhead.index if simhead.loc[i,'date']<datetime.date(2005,10,1) and simhead.loc[i,'date']>datetime.date(2000,9,30)]\n",
    "rmse=((res.loc[idx]**2).mean()**0.5)/3.28084\n",
    "print('rmse head (m): {} for {} obs'.format(rmse,len(idx)))"
   ]
  },
  {
   "cell_type": "markdown",
   "metadata": {},
   "source": [
    "# Old processing crap"
   ]
  },
  {
   "cell_type": "code",
   "execution_count": null,
   "metadata": {},
   "outputs": [],
   "source": [
    "def water_year(m,y):\n",
    "    if m<10:\n",
    "        return(str(y))\n",
    "    else:\n",
    "        return(str(y+1))"
   ]
  },
  {
   "cell_type": "code",
   "execution_count": null,
   "metadata": {},
   "outputs": [],
   "source": [
    "def water_yrmo(m,y):\n",
    "    return(y*100+m)"
   ]
  },
  {
   "cell_type": "code",
   "execution_count": null,
   "metadata": {},
   "outputs": [],
   "source": [
    "\n",
    "simstart=datetime.date(1979,7,2)\n",
    "#sim inflow and outflow\n",
    "sim={}\n",
    "for scen in scenlist:\n",
    "    print(scen)\n",
    "    serlist=[]\n",
    "    sites=['10311000','10309000','10310000']\n",
    "    names=['outflow','efin','wfin']\n",
    "    for name,site in zip(names,sites):\n",
    "        ser=CV_tools.ts2df(site,'.sgag',simstart,rpath=os.path.join(scens[scen])).flow\n",
    "        ser=ser.resample('D').mean().interpolate('backfill')\n",
    "        #convert immediately\n",
    "        serlist.append(ser.multiply(cft2Mm3))\n",
    "    sim[scen]=pd.concat(serlist,axis=1)\n",
    "    sim[scen].columns=names\n",
    "    sim[scen]['accdep']=sim[scen]['outflow']-(sim[scen]['efin']+sim[scen]['wfin'])"
   ]
  },
  {
   "cell_type": "code",
   "execution_count": null,
   "metadata": {},
   "outputs": [],
   "source": [
    "for scen in sim:  \n",
    "    ax=sim[scen]['accdep'].plot(fontsize=14)\n",
    "    ax=plt.title('Accretion and Depletion: {}'.format(scen))\n",
    "    ax=plt.ylabel('million cubic meters per day')\n",
    "ax=plt.legend(sim.keys())"
   ]
  },
  {
   "cell_type": "code",
   "execution_count": null,
   "metadata": {},
   "outputs": [],
   "source": []
  },
  {
   "cell_type": "code",
   "execution_count": null,
   "metadata": {
    "scrolled": true
   },
   "outputs": [],
   "source": [
    "#inflows\n",
    "for scen in scenlist:\n",
    "    tribs=[]\n",
    "    names=[]\n",
    "    for f in os.listdir(os.path.join('..\\\\..\\\\','model','tabfiles_'+scen)):\n",
    "        if 'regression' in f:\n",
    "            site=f.split('-')[3]\n",
    "            t=CV_tools.ts2df(site,'.sgag',simstart,rpath=os.path.join(scens[scen])).flow\n",
    "            t=t.multiply(cft2Mm3)\n",
    "            #t=pd.DataFrame(t)\n",
    "            tribs.append(t.resample('D').mean().interpolate())            \n",
    "            \n",
    "            names.append(site)\n",
    "                \n",
    "    sim[scen]=pd.concat(tribs,axis=1,names=names)\n",
    "    sim[scen]['year']=sim[scen].index.year\n",
    "for scen in sim:\n",
    "    print(sim[scen].groupby('year').sum().sum(axis=1).mean())"
   ]
  },
  {
   "cell_type": "code",
   "execution_count": null,
   "metadata": {},
   "outputs": [],
   "source": [
    "figsize=(10,5)\n",
    "annout={}\n",
    "dif={}\n",
    "cum={}\n",
    "cumdif={}\n",
    "mout={}\n",
    "mdif={}\n",
    "ymout={}\n",
    "ymdif={}\n",
    "#historical first\n",
    "scen='0C'\n",
    "sim[scen]['date']=sim[scen].index\n",
    "sim[scen]['month']=sim[scen]['date'].dt.month\n",
    "sim[scen]['year']=sim[scen]['date'].dt.year\n",
    "sim[scen]['wy']=sim[scen].apply(lambda x: water_year(x['month'],x['year']),axis=1)\n",
    "sim[scen]['wymo']=sim[scen].apply(lambda x: water_yrmo(x['month'],x['year']),axis=1)\n",
    "cum[scen]=sim[scen]['outflow'].cumsum()\n",
    "annout[scen]=sim[scen].loc[:,['outflow','wy']].groupby('wy').sum()\n",
    "mout[scen]=sim[scen].loc[:,['outflow','month']].groupby('month').sum()\n",
    "ymout[scen]=sim[scen].loc[:,['outflow','wymo']].groupby('wymo').sum()\n",
    "#now scenarios\n",
    "for scen in scenlist:\n",
    "    sim[scen]['date']=sim[scen].index\n",
    "    sim[scen]['month']=sim[scen]['date'].dt.month\n",
    "    sim[scen]['year']=sim[scen]['date'].dt.year\n",
    "    sim[scen]['wy']=sim[scen].apply(lambda x: water_year(x['month'],x['year']),axis=1)\n",
    "    sim[scen]['wymo']=sim[scen].apply(lambda x: water_yrmo(x['month'],x['year']),axis=1)\n",
    "    \n",
    "    cum[scen]=sim[scen]['outflow'].cumsum()\n",
    "    cumdif[scen]=cum[scen]-cum['0C']\n",
    "    annout[scen]=sim[scen].loc[:,['outflow','wy']].groupby('wy').sum()\n",
    "    dif[scen]=annout[scen]-annout['0C']\n",
    "    mout[scen]=sim[scen].loc[:,['outflow','month']].groupby('month').sum()\n",
    "    mdif[scen]=mout[scen]-mout['0C']\n",
    "    ymout[scen]=sim[scen].loc[:,['outflow','wymo']].groupby('wymo').sum()\n",
    "    ymdif[scen]=ymout[scen]-ymout['0C']"
   ]
  },
  {
   "cell_type": "code",
   "execution_count": null,
   "metadata": {},
   "outputs": [],
   "source": [
    "for scen in scenlist:\n",
    "    outflow=sim[scen].loc[:,['year','outflow']].groupby('year').sum()\n",
    "    print(float(outflow.loc[scenyrs,:].mean()))"
   ]
  },
  {
   "cell_type": "code",
   "execution_count": null,
   "metadata": {},
   "outputs": [],
   "source": [
    "a=pd.concat(dif,axis=1,ignore_index=True)\n",
    "a.columns=scenlist"
   ]
  },
  {
   "cell_type": "code",
   "execution_count": null,
   "metadata": {},
   "outputs": [],
   "source": [
    "leg=[]\n",
    "fig,ax=plt.subplots(1,1,figsize=figsize)\n",
    "a.loc[a.index!=1979,['1C','2C','3C','4C','5C']].plot(kind='bar',width=1,ax=ax,figsize=figsize,color=['b','c','g','m','r'])\n",
    "ax.set(xlabel='Simulation water year',ylabel='Difference in annual outflow\\nUSGS gage 10311000 (hectare-meters)')\n",
    "ytick = range(-2500,7500,500)\n",
    "#ax.set_yticks(ytick, minor=True )\n",
    "ax.grid('on', which='both', axis='both' )\n",
    "ax.tick_params(labelsize=14)\n",
    "ax.set_axisbelow(True)"
   ]
  },
  {
   "cell_type": "code",
   "execution_count": null,
   "metadata": {},
   "outputs": [],
   "source": [
    "nyrs=(sim['0C'].index[-1]-sim['0C'].index[0]).days/365.2455"
   ]
  },
  {
   "cell_type": "code",
   "execution_count": null,
   "metadata": {},
   "outputs": [],
   "source": [
    "# 35-year average change in annual inflow\n",
    "for scen in mdif:\n",
    "    0C=(sim['0C'].loc[:,'efin']+sim['0C'].loc[:,'wfin']).sum()/nyrs\n",
    "    fd=(sim[scen].loc[:,'efin']+sim[scen].loc[:,'wfin']-((sim['0C'].loc[:,'efin']+sim['0C'].loc[:,'wfin']))).sum()/nyrs\n",
    "    print(scen,0C,fd,fd/0C)"
   ]
  },
  {
   "cell_type": "code",
   "execution_count": null,
   "metadata": {},
   "outputs": [],
   "source": [
    "# 35-year average change in annual outflow\n",
    "for scen in sim:\n",
    "    0C=sim['0C'].loc[:,'outflow'].sum()/nyrs\n",
    "    fd=(sim[scen].loc[:,'outflow']-sim['0C'].loc[:,'outflow']).sum()/nyrs\n",
    "    print(scen,0C,fd,fd/0C)"
   ]
  },
  {
   "cell_type": "code",
   "execution_count": null,
   "metadata": {},
   "outputs": [],
   "source": [
    "# 35-year average change in irrigation season inflow\n",
    "mask=[m for m in sim['0C'].index if sim['0C'].loc[m,'month']>3 and sim['0C'].loc[m,'month']<10]\n",
    "   \n",
    "for scen in sim:\n",
    "    0C=(sim['0C'].loc[mask,'efin']+sim['0C'].loc[mask,'wfin']).sum()/nyrs\n",
    "    fd=(sim[scen].loc[mask,'efin']+sim[scen].loc[mask,'wfin']-((sim['0C'].loc[mask,'efin']+sim['0C'].loc[mask,'wfin']))).sum()/nyrs\n",
    "    print(scen,0C,fd,fd/0C)"
   ]
  },
  {
   "cell_type": "code",
   "execution_count": null,
   "metadata": {},
   "outputs": [],
   "source": [
    "# 35-year average change in irrigation season outflow\n",
    "mask=[m for m in sim['1C'].index if sim['1C'].loc[m,'month']>3 and sim['1C'].loc[m,'month']<10]\n",
    "   \n",
    "for scen in sim:\n",
    "    0C=sim['0C'].loc[mask,'outflow'].sum()/nyrs\n",
    "    fd=(sim[scen].loc[mask,'outflow']-sim['0C'].loc[mask,'outflow']).sum()/nyrs\n",
    "    print(scen,0C,fd,fd/0C)"
   ]
  },
  {
   "cell_type": "code",
   "execution_count": null,
   "metadata": {
    "scrolled": true
   },
   "outputs": [],
   "source": [
    "dates=[datetime.date(1982,10,1),datetime.date(1986,10,1)]\n",
    "yrmos=[i.year*100+i.month for i in dates]\n",
    "\n",
    "fig,ax=plt.subplots(1,1,figsize=(10,5))\n",
    "b=pd.concat([ymdif['1C'],ymdif['3C'],ymdif['5C']],axis=1,ignore_index=True)\n",
    "b.columns=['1C','3C','5C']\n",
    "\n",
    "b.loc[yrmos[0]:yrmos[1]].plot(ax=ax,kind='bar',figsize=(10,5),width=0.75)\n",
    "ax.grid('on', which='both', axis='both' )\n",
    "ax.set_axisbelow(True)\n",
    "ax.set(xlabel='Simulation year and month (YEARMO)',ylabel='Difference in cumulative montly outlfow\\nUSGS gage 10311000 (hectare-meters)')"
   ]
  },
  {
   "cell_type": "code",
   "execution_count": null,
   "metadata": {
    "scrolled": true
   },
   "outputs": [],
   "source": [
    "fig,ax=plt.subplots(1,1,figsize=(10,5))\n",
    "b=pd.concat([ymout['0C'],ymout['1C'],ymout['3C'],ymout['5C']],axis=1,ignore_index=True)\n",
    "b.columns=['0C','1C','3C','5C']\n",
    "\n",
    "b.loc[yrmos[0]:yrmos[1]].plot(ax=ax,kind='bar',figsize=(10,5),width=0.75)\n",
    "ax.grid('on', which='both', axis='both' )\n",
    "ax.set_axisbelow(True)\n",
    "ax.set(xlabel='Simulation year and month (YEARMO)',ylabel='Cumulative monthly outlfow\\nUSGS gage 10311000 (hectare-meters)')"
   ]
  },
  {
   "cell_type": "code",
   "execution_count": null,
   "metadata": {
    "scrolled": true
   },
   "outputs": [],
   "source": [
    "fig,ax=plt.subplots(1,1,figsize=figsize)\n",
    "sim['0C'].loc[dates[0]:dates[1],'efin'].plot(ax=ax)\n",
    "sim['3C'].loc[dates[0]:dates[1],'efin'].plot(ax=ax)\n",
    "sim['5C'].loc[dates[0]:dates[1],'efin'].plot(ax=ax)\n",
    "ax.legend(['historical','3C','5C'])\n",
    "ax.set(xlabel='Simulation date',ylabel='East Fork Flows\\nUSGS gage 10309000\\n(hectare-meters per day)')"
   ]
  },
  {
   "cell_type": "code",
   "execution_count": null,
   "metadata": {},
   "outputs": [],
   "source": [
    "fig,ax=plt.subplots(1,1,figsize=figsize)\n",
    "mo=pd.concat([mdif[s].divide(nyrs) for s in mdif if '0C' not in s],axis=1,ignore_index=True)\n",
    "mo.columns=[s for s in scenlist if '0C' not in s]\n",
    "\n",
    "mo.plot(ax=ax,kind='bar',figsize=(10,5),width=0.75,color=['b','g','c','m','r'])\n",
    "ax.grid('on', which='both', axis='both' )\n",
    "ax.set_axisbelow(True)\n",
    "ax.set(xlabel='Simulation month',ylabel='Difference in monthly outlfow\\nscenario minus historical\\nUSGS gage 10311000 (hectare-meters)')\n",
    "\n",
    "fig.savefig(os.path.join(resdir,'dT_out_dif.png'), dpi=600,bbox_inches='tight')"
   ]
  },
  {
   "cell_type": "code",
   "execution_count": null,
   "metadata": {},
   "outputs": [],
   "source": [
    "for scen in mo:\n",
    "    print(scen,mo[scen])"
   ]
  },
  {
   "cell_type": "code",
   "execution_count": null,
   "metadata": {
    "scrolled": true
   },
   "outputs": [],
   "source": [
    "cumsum=pd.concat(cum,axis=1,ignore_index=True)\n",
    "cumsum.columns=scenlist\n",
    "\n",
    "fig,ax=plt.subplots(1,1,figsize=figsize)\n",
    "cumsum.plot(ax=ax)\n",
    "ax.set(xlabel='Simulation date',ylabel='Cumulative outlfow\\nUSGS gage 10311000 (hectare-meters)')"
   ]
  },
  {
   "cell_type": "code",
   "execution_count": null,
   "metadata": {},
   "outputs": [],
   "source": [
    "cd=[]\n",
    "col=[]\n",
    "fig,ax=plt.subplots(1,1,figsize=figsize)\n",
    "for scen in cumsum:\n",
    "    if scen!='0C':\n",
    "        cd.append(cumsum[scen]-cumsum['0C'])\n",
    "        col.append(scen)\n",
    "cumdif=pd.concat(cd,axis=1,ignore_index=True)\n",
    "cumdif.columns=col\n",
    "cumdif.plot(ax=ax,color=['b','g','c','m','r'])\n",
    "ax.legend(bbox_to_anchor=(.5, .95),loc='center',ncol=len(scenlist)-1)\n",
    "ax.grid('on', which='both', axis='both' )\n",
    "ax.set(xlabel='Simulation water year',ylabel='Difference in cumulative outflow from historical\\nUSGS gage 10311000 (hectare-meters)')\n",
    "\n",
    "fig.savefig(os.path.join(resdir,'dT_cumout_dif.png'), dpi=600,bbox_inches='tight')"
   ]
  },
  {
   "cell_type": "code",
   "execution_count": null,
   "metadata": {
    "scrolled": false
   },
   "outputs": [],
   "source": [
    "cumdif.iloc[-1,:]"
   ]
  },
  {
   "cell_type": "code",
   "execution_count": null,
   "metadata": {},
   "outputs": [],
   "source": []
  },
  {
   "cell_type": "markdown",
   "metadata": {},
   "source": [
    "# AG delivery analysis\n",
    "Stacked bar graph of ag deliveries (SW+GW+GWET) binned by priority decade\n",
    "0Cogram of annual deliveries in feet"
   ]
  },
  {
   "cell_type": "code",
   "execution_count": null,
   "metadata": {},
   "outputs": [],
   "source": [
    "pmp=[o for o in obs.index if obs.loc[o,'obgnme']=='pmp']\n",
    "obs.loc[pmp,'rwell']=obs.loc[pmp,'obsnme'].apply(lambda x: x.split('_')[0])\n",
    "obs.loc[pmp,:].head()"
   ]
  },
  {
   "cell_type": "code",
   "execution_count": null,
   "metadata": {},
   "outputs": [],
   "source": [
    "wlist=list(set(obs.loc[:,'rwell']))\n",
    "df=obs.loc[obs['rwell'].isin(wlist),:]       "
   ]
  },
  {
   "cell_type": "code",
   "execution_count": null,
   "metadata": {},
   "outputs": [],
   "source": [
    "df.head() "
   ]
  },
  {
   "cell_type": "code",
   "execution_count": null,
   "metadata": {},
   "outputs": [],
   "source": [
    "wrdf.head()"
   ]
  },
  {
   "cell_type": "code",
   "execution_count": null,
   "metadata": {},
   "outputs": [],
   "source": [
    "df.loc[df['wryr']>1800,:].hist(bins=range(1850,1930,10))\n",
    "plt.ylabel('number of wells')\n",
    "plt.xlabel('WR priority year')"
   ]
  },
  {
   "cell_type": "code",
   "execution_count": null,
   "metadata": {},
   "outputs": [],
   "source": [
    "k='fracsup_sw'\n",
    "ps=[p for p in pars.index if k in pars.loc[p,'pargp']]\n",
    "pen['9'].loc[ps,:].mean(axis=1).hist()\n",
    "plt.xlabel('calibrated {} parameter'.format(k))\n",
    "plt.ylabel('number of values')"
   ]
  },
  {
   "cell_type": "code",
   "execution_count": null,
   "metadata": {},
   "outputs": [],
   "source": []
  },
  {
   "cell_type": "code",
   "execution_count": null,
   "metadata": {},
   "outputs": [],
   "source": []
  },
  {
   "cell_type": "code",
   "execution_count": null,
   "metadata": {},
   "outputs": [],
   "source": []
  },
  {
   "cell_type": "code",
   "execution_count": null,
   "metadata": {},
   "outputs": [],
   "source": []
  }
 ],
 "metadata": {
  "kernelspec": {
   "display_name": "Python 3",
   "language": "python",
   "name": "python3"
  }
 },
 "nbformat": 4,
 "nbformat_minor": 2
}
