{
 "cells": [
  {
   "cell_type": "code",
   "execution_count": 2,
   "metadata": {},
   "outputs": [],
   "source": [
    "import os\n",
    "import pyemu\n",
    "import pandas as pd\n",
    "import numpy as np\n",
    "import matplotlib.pyplot as plt\n",
    "import matplotlib.ticker as ticker\n",
    "import datetime\n",
    "import flopy.utils.binaryfile as bf\n",
    "from shutil import copyfile\n",
    "%matplotlib inline\n",
    "#%matplotlib notebook #allows zooming, but opens many figures"
   ]
  },
  {
   "cell_type": "code",
   "execution_count": 3,
   "metadata": {},
   "outputs": [],
   "source": [
    "extdir=r'S:\\Kitlasten2020_WRR\\model\\external_files\\Carson_Valley'"
   ]
  },
  {
   "cell_type": "code",
   "execution_count": 4,
   "metadata": {},
   "outputs": [],
   "source": [
    "#New WR acres\n",
    "#get irrigation acres from wr_cell_frac\n",
    "# cell frac in pandas\n",
    "celldf=pd.read_csv(os.path.join(extdir,'wr_cell_frac.txt'))\n",
    "celldf.columns=celldf.columns.str.lower()\n",
    "celldf.wrname=celldf.wrname.apply(lambda x: x.lower().replace('_',''))\n",
    "celldf.set_index('wrname',inplace=True)\n",
    "celldf.drop(['unnamed: 0'],axis=1,inplace=True)\n",
    "celldf['row']=celldf['row']-1\n",
    "celldf['col']=celldf['col']-1\n",
    "wracres=celldf.loc[:,'wr_acres']\n",
    "wracres=wracres.groupby(by='wrname').mean()"
   ]
  },
  {
   "cell_type": "code",
   "execution_count": 5,
   "metadata": {},
   "outputs": [],
   "source": [
    "def get_wrdf(irrfile,wracres):\n",
    "    with open(irrfile,'r') as f:\n",
    "        head=f.readline().replace('#','').strip().replace('  ',' ').replace('  ',' ').split(' ')\n",
    "    \n",
    "    irr=pd.read_csv(irrfile,skiprows=[0],names=head,delim_whitespace=True)\n",
    "    irr.index=irr.WRname.str.lower()\n",
    "    irr.drop('WRname',inplace=True,axis=1)\n",
    "#wrfile='CV-wes-8015trans-WRtable.txt'\n",
    "# ONLY do this if irr doesn't have wryr\n",
    "#with open(wrfile,'r') as f:\n",
    "#    head=f.readline().replace('#','').strip(' ').strip().replace('  ',' ').split(' ')\n",
    "#wr=pd.read_csv(wrfile,skiprows=[0],names=head,delim_whitespace=True)\n",
    "#wr.index=wr.WRname.str.lower()\n",
    "#wr.drop(['WRname','desc','acres','row','col'],inplace=True,axis=1)\n",
    "#wrdf=irr.merge(wr,left_on='WRname',right_on='WRname')\n",
    "#wrdf.to_csv(irrfile,sep=' ',na_rep=('NA'))\n",
    "    wrdf=irr.copy(deep=True)\n",
    "    wrdf=wrdf.groupby(['WRname']).mean() #gets rid of duplicates by averaging, also drops any non-numeric data not in by\n",
    "    wrdf.index=wrdf.index.str.lower()\n",
    "    wrdf['acres']=wracres\n",
    "    \n",
    "    # get proper CA WRYR\n",
    "    propwryr={'478-481': 1864,'487': 1891,'488-490': 1891,'491': 1893,'492-501': 1881,\n",
    "              '502-507': 1871,'508': 1890,'509-510': 1884,'511': 1893,'512': 1894,\n",
    "              '513-514': 1864,'515': 1864,'516-517': 1864,'517a': 1871,'518-519': 1864,\n",
    "              '520-522': 1892,'523-527': 1885,'528': 1894,'529-531': 1866,'532-533': 1865,'534': 1885,'535-536': 1859}\n",
    "    for wr in propwryr:\n",
    "        wrdf.loc[wr,'wryr']=propwryr[wr]\n",
    "\n",
    "    \n",
    "    \n",
    "    wrdf.head()\n",
    "    return(wrdf)"
   ]
  },
  {
   "cell_type": "code",
   "execution_count": 16,
   "metadata": {},
   "outputs": [],
   "source": [
    "def sumtab(pst,e,real='base'):\n",
    "        '''this is for ensembles only, i.e. pest during calibration period'''\n",
    "    pie=[]\n",
    "    plab=[]\n",
    "    res={}\n",
    "    ensemble=(pst.filename.replace('pst','.{}.{}.csv'.format(e,'obs')).replace('..','.').replace('..','.')) #double dot for noptmax=0\n",
    "    if os.path.exists(ensemble):\n",
    "        try:\n",
    "            pen=pd.read_csv(ensemble.replace('obs','par'),low_memory=False)\n",
    "            pen.set_index('real_name',inplace=True)\n",
    "            pen=pen.T\n",
    "        except:\n",
    "            pen=pd.read_csv(ensemble.replace('obs.csv','base.par'),index_col=0,\n",
    "                            low_memory=False,header=0,names=['parnme','base'],usecols=[0,1],delim_whitespace=True)\n",
    "            \n",
    "            \n",
    "        en=pd.read_csv(ensemble,low_memory=False)\n",
    "        en.set_index('real_name',inplace=True)\n",
    "        en=en.T\n",
    "        en.columns=en.columns.astype(str)\n",
    "        \n",
    "        print(ensemble)\n",
    "    elif 'rns'==e: #ensemble name is dumb\n",
    "        #try intermediate partial ensemble from rns\n",
    "        #does not contain lambda test results, only \"remaining ensemble\" reals\n",
    "        rns=pyemu.utils.read_pestpp_runstorage(pst.filename.replace('.pst','.rns'),irun='all')\n",
    "        done=[r for r in rns[1].index if rns[1].loc[r,:].mean()!=0]\n",
    "        pen=rns[0].loc[done,:]\n",
    "        en=rns[1].loc[done,:]\n",
    "        pen=pen.T\n",
    "        en=en.T\n",
    "        en.columns=en.columns.astype(str)\n",
    "        \n",
    "        print('using rns file {} with {} reals complete'.format(pst.filename.replace('.pst','.rns'),len(en.columns)))\n",
    "    if real=='base':\n",
    "        try:\n",
    "            sim=en.loc[:,'base']\n",
    "        except:\n",
    "            sim=en.loc[:,:].mean(axis=1)\n",
    "            print('cannot find base real, using mean')\n",
    "    elif real=='mean':\n",
    "        sim=en.loc[:,:].mean(axis=1)\n",
    "    tres=[]\n",
    "    print('GROUP CONTRIBUTIONS TO PHI ({})'.format(real))\n",
    "    for g in sorted(list(set(obs['obgnme']))):\n",
    "        mask=[o for o in obs.index if obs.loc[o,'obgnme']==g]\n",
    "        res[g]=(sim.loc[mask]-obs.loc[mask,'obsval']).to_frame()\n",
    "        res[g].columns=['res']\n",
    "        if 'less_' not in g:\n",
    "            wres=(res[g].loc[:,'res']*obs.loc[mask,'weight'])**2\n",
    "        else:\n",
    "            m=[i for i in mask if obs.loc[i,'obsval']<sim.loc[i]]\n",
    "            wres=(res[g].loc[m,'res']*obs.loc[m,'weight'])**2\n",
    "        print('{0:<20}: sum={1:>10.2e}, std={2:>10.2e}'.format(g,wres.sum(),wres.std()))\n",
    "        pie.append(wres.sum())\n",
    "        plab.append(g)\n",
    "        tres.append(wres.sum())\n",
    "    total=np.sum(tres)\n",
    "    print('total {0:.2e}, {1:.2e}'.format(total,np.std(tres)))\n",
    "    plt.pie(pie,labels=plab)\n",
    "    plt.show()\n",
    "    en['res_real']=sim\n",
    "    return(pen,en,res)\n",
    "    "
   ]
  },
  {
   "cell_type": "code",
   "execution_count": 6,
   "metadata": {},
   "outputs": [
    {
     "data": {
      "text/html": [
       "<div>\n",
       "<style scoped>\n",
       "    .dataframe tbody tr th:only-of-type {\n",
       "        vertical-align: middle;\n",
       "    }\n",
       "\n",
       "    .dataframe tbody tr th {\n",
       "        vertical-align: top;\n",
       "    }\n",
       "\n",
       "    .dataframe thead th {\n",
       "        text-align: right;\n",
       "    }\n",
       "</style>\n",
       "<table border=\"1\" class=\"dataframe\">\n",
       "  <thead>\n",
       "    <tr style=\"text-align: right;\">\n",
       "      <th></th>\n",
       "      <th>iseg</th>\n",
       "      <th>wellnum</th>\n",
       "      <th>welllay</th>\n",
       "      <th>wellrow</th>\n",
       "      <th>wellcol</th>\n",
       "      <th>startyr</th>\n",
       "      <th>dpt</th>\n",
       "      <th>swu</th>\n",
       "      <th>swufrac</th>\n",
       "      <th>pctsup</th>\n",
       "      <th>swfrfrac</th>\n",
       "      <th>swfr</th>\n",
       "      <th>welleff</th>\n",
       "      <th>wryr</th>\n",
       "      <th>row</th>\n",
       "      <th>col</th>\n",
       "      <th>acres</th>\n",
       "    </tr>\n",
       "    <tr>\n",
       "      <th>WRname</th>\n",
       "      <th></th>\n",
       "      <th></th>\n",
       "      <th></th>\n",
       "      <th></th>\n",
       "      <th></th>\n",
       "      <th></th>\n",
       "      <th></th>\n",
       "      <th></th>\n",
       "      <th></th>\n",
       "      <th></th>\n",
       "      <th></th>\n",
       "      <th></th>\n",
       "      <th></th>\n",
       "      <th></th>\n",
       "      <th></th>\n",
       "      <th></th>\n",
       "      <th></th>\n",
       "    </tr>\n",
       "  </thead>\n",
       "  <tbody>\n",
       "    <tr>\n",
       "      <th>056</th>\n",
       "      <td>998</td>\n",
       "      <td>NaN</td>\n",
       "      <td>NaN</td>\n",
       "      <td>NaN</td>\n",
       "      <td>NaN</td>\n",
       "      <td>NaN</td>\n",
       "      <td>0.010929</td>\n",
       "      <td>0.007726</td>\n",
       "      <td>0.767833</td>\n",
       "      <td>NaN</td>\n",
       "      <td>0.993391</td>\n",
       "      <td>0.999725</td>\n",
       "      <td>NaN</td>\n",
       "      <td>1880.0</td>\n",
       "      <td>158.0</td>\n",
       "      <td>84.0</td>\n",
       "      <td>1.9875</td>\n",
       "    </tr>\n",
       "    <tr>\n",
       "      <th>057a</th>\n",
       "      <td>1051</td>\n",
       "      <td>NaN</td>\n",
       "      <td>NaN</td>\n",
       "      <td>NaN</td>\n",
       "      <td>NaN</td>\n",
       "      <td>NaN</td>\n",
       "      <td>0.027982</td>\n",
       "      <td>0.051638</td>\n",
       "      <td>0.774693</td>\n",
       "      <td>NaN</td>\n",
       "      <td>0.907559</td>\n",
       "      <td>0.089143</td>\n",
       "      <td>NaN</td>\n",
       "      <td>1889.0</td>\n",
       "      <td>155.0</td>\n",
       "      <td>85.0</td>\n",
       "      <td>97.0679</td>\n",
       "    </tr>\n",
       "    <tr>\n",
       "      <th>058a</th>\n",
       "      <td>1157</td>\n",
       "      <td>NaN</td>\n",
       "      <td>NaN</td>\n",
       "      <td>NaN</td>\n",
       "      <td>NaN</td>\n",
       "      <td>NaN</td>\n",
       "      <td>0.022108</td>\n",
       "      <td>0.007892</td>\n",
       "      <td>0.855151</td>\n",
       "      <td>NaN</td>\n",
       "      <td>0.854737</td>\n",
       "      <td>0.108686</td>\n",
       "      <td>NaN</td>\n",
       "      <td>1916.0</td>\n",
       "      <td>150.0</td>\n",
       "      <td>86.0</td>\n",
       "      <td>99.7208</td>\n",
       "    </tr>\n",
       "    <tr>\n",
       "      <th>059</th>\n",
       "      <td>999</td>\n",
       "      <td>NaN</td>\n",
       "      <td>NaN</td>\n",
       "      <td>NaN</td>\n",
       "      <td>NaN</td>\n",
       "      <td>NaN</td>\n",
       "      <td>0.158524</td>\n",
       "      <td>0.020658</td>\n",
       "      <td>0.866762</td>\n",
       "      <td>NaN</td>\n",
       "      <td>0.872975</td>\n",
       "      <td>0.693674</td>\n",
       "      <td>NaN</td>\n",
       "      <td>1880.0</td>\n",
       "      <td>159.0</td>\n",
       "      <td>84.0</td>\n",
       "      <td>6.2327</td>\n",
       "    </tr>\n",
       "    <tr>\n",
       "      <th>060</th>\n",
       "      <td>1116</td>\n",
       "      <td>NaN</td>\n",
       "      <td>NaN</td>\n",
       "      <td>NaN</td>\n",
       "      <td>NaN</td>\n",
       "      <td>NaN</td>\n",
       "      <td>0.156815</td>\n",
       "      <td>0.024127</td>\n",
       "      <td>0.924215</td>\n",
       "      <td>NaN</td>\n",
       "      <td>0.857488</td>\n",
       "      <td>0.753628</td>\n",
       "      <td>NaN</td>\n",
       "      <td>1900.0</td>\n",
       "      <td>159.0</td>\n",
       "      <td>83.0</td>\n",
       "      <td>12.5040</td>\n",
       "    </tr>\n",
       "    <tr>\n",
       "      <th>061</th>\n",
       "      <td>1052</td>\n",
       "      <td>2.0</td>\n",
       "      <td>4.0</td>\n",
       "      <td>151.0</td>\n",
       "      <td>76.0</td>\n",
       "      <td>1981.333333</td>\n",
       "      <td>0.000052</td>\n",
       "      <td>0.092544</td>\n",
       "      <td>0.900002</td>\n",
       "      <td>0.81</td>\n",
       "      <td>0.878824</td>\n",
       "      <td>0.211569</td>\n",
       "      <td>0.367081</td>\n",
       "      <td>1889.0</td>\n",
       "      <td>152.0</td>\n",
       "      <td>78.0</td>\n",
       "      <td>38.3758</td>\n",
       "    </tr>\n",
       "    <tr>\n",
       "      <th>063</th>\n",
       "      <td>743</td>\n",
       "      <td>NaN</td>\n",
       "      <td>NaN</td>\n",
       "      <td>NaN</td>\n",
       "      <td>NaN</td>\n",
       "      <td>NaN</td>\n",
       "      <td>0.101008</td>\n",
       "      <td>0.031664</td>\n",
       "      <td>0.883223</td>\n",
       "      <td>NaN</td>\n",
       "      <td>0.791365</td>\n",
       "      <td>0.492795</td>\n",
       "      <td>NaN</td>\n",
       "      <td>1860.0</td>\n",
       "      <td>155.0</td>\n",
       "      <td>77.0</td>\n",
       "      <td>162.1254</td>\n",
       "    </tr>\n",
       "    <tr>\n",
       "      <th>064</th>\n",
       "      <td>762</td>\n",
       "      <td>5.0</td>\n",
       "      <td>4.0</td>\n",
       "      <td>151.0</td>\n",
       "      <td>76.0</td>\n",
       "      <td>1981.333333</td>\n",
       "      <td>0.015966</td>\n",
       "      <td>0.023146</td>\n",
       "      <td>0.797631</td>\n",
       "      <td>0.81</td>\n",
       "      <td>0.929672</td>\n",
       "      <td>0.963813</td>\n",
       "      <td>0.373743</td>\n",
       "      <td>1861.0</td>\n",
       "      <td>150.0</td>\n",
       "      <td>76.0</td>\n",
       "      <td>104.5396</td>\n",
       "    </tr>\n",
       "    <tr>\n",
       "      <th>065</th>\n",
       "      <td>905</td>\n",
       "      <td>8.0</td>\n",
       "      <td>4.0</td>\n",
       "      <td>151.0</td>\n",
       "      <td>76.0</td>\n",
       "      <td>1981.333333</td>\n",
       "      <td>0.018496</td>\n",
       "      <td>0.019191</td>\n",
       "      <td>0.850717</td>\n",
       "      <td>0.81</td>\n",
       "      <td>0.856266</td>\n",
       "      <td>0.979470</td>\n",
       "      <td>0.566241</td>\n",
       "      <td>1875.0</td>\n",
       "      <td>148.0</td>\n",
       "      <td>78.0</td>\n",
       "      <td>40.8601</td>\n",
       "    </tr>\n",
       "    <tr>\n",
       "      <th>066</th>\n",
       "      <td>1043</td>\n",
       "      <td>11.5</td>\n",
       "      <td>4.0</td>\n",
       "      <td>149.0</td>\n",
       "      <td>77.0</td>\n",
       "      <td>1985.250000</td>\n",
       "      <td>0.012967</td>\n",
       "      <td>0.020540</td>\n",
       "      <td>0.747601</td>\n",
       "      <td>0.81</td>\n",
       "      <td>0.789559</td>\n",
       "      <td>0.979944</td>\n",
       "      <td>0.809078</td>\n",
       "      <td>1888.0</td>\n",
       "      <td>148.0</td>\n",
       "      <td>76.0</td>\n",
       "      <td>25.6969</td>\n",
       "    </tr>\n",
       "  </tbody>\n",
       "</table>\n",
       "</div>"
      ],
      "text/plain": [
       "        iseg  wellnum  welllay  wellrow  wellcol      startyr       dpt  \\\n",
       "WRname                                                                    \n",
       "056      998      NaN      NaN      NaN      NaN          NaN  0.010929   \n",
       "057a    1051      NaN      NaN      NaN      NaN          NaN  0.027982   \n",
       "058a    1157      NaN      NaN      NaN      NaN          NaN  0.022108   \n",
       "059      999      NaN      NaN      NaN      NaN          NaN  0.158524   \n",
       "060     1116      NaN      NaN      NaN      NaN          NaN  0.156815   \n",
       "061     1052      2.0      4.0    151.0     76.0  1981.333333  0.000052   \n",
       "063      743      NaN      NaN      NaN      NaN          NaN  0.101008   \n",
       "064      762      5.0      4.0    151.0     76.0  1981.333333  0.015966   \n",
       "065      905      8.0      4.0    151.0     76.0  1981.333333  0.018496   \n",
       "066     1043     11.5      4.0    149.0     77.0  1985.250000  0.012967   \n",
       "\n",
       "             swu   swufrac  pctsup  swfrfrac      swfr   welleff    wryr  \\\n",
       "WRname                                                                     \n",
       "056     0.007726  0.767833     NaN  0.993391  0.999725       NaN  1880.0   \n",
       "057a    0.051638  0.774693     NaN  0.907559  0.089143       NaN  1889.0   \n",
       "058a    0.007892  0.855151     NaN  0.854737  0.108686       NaN  1916.0   \n",
       "059     0.020658  0.866762     NaN  0.872975  0.693674       NaN  1880.0   \n",
       "060     0.024127  0.924215     NaN  0.857488  0.753628       NaN  1900.0   \n",
       "061     0.092544  0.900002    0.81  0.878824  0.211569  0.367081  1889.0   \n",
       "063     0.031664  0.883223     NaN  0.791365  0.492795       NaN  1860.0   \n",
       "064     0.023146  0.797631    0.81  0.929672  0.963813  0.373743  1861.0   \n",
       "065     0.019191  0.850717    0.81  0.856266  0.979470  0.566241  1875.0   \n",
       "066     0.020540  0.747601    0.81  0.789559  0.979944  0.809078  1888.0   \n",
       "\n",
       "          row   col     acres  \n",
       "WRname                         \n",
       "056     158.0  84.0    1.9875  \n",
       "057a    155.0  85.0   97.0679  \n",
       "058a    150.0  86.0   99.7208  \n",
       "059     159.0  84.0    6.2327  \n",
       "060     159.0  83.0   12.5040  \n",
       "061     152.0  78.0   38.3758  \n",
       "063     155.0  77.0  162.1254  \n",
       "064     150.0  76.0  104.5396  \n",
       "065     148.0  78.0   40.8601  \n",
       "066     148.0  76.0   25.6969  "
      ]
     },
     "execution_count": 6,
     "metadata": {},
     "output_type": "execute_result"
    }
   ],
   "source": [
    "wrdf=get_wrdf(os.path.join(extdir,'CV-wes-8015trans-irrigation-fracsup.txt'),wracres)\n",
    "wrdf.head(10)"
   ]
  },
  {
   "cell_type": "markdown",
   "metadata": {},
   "source": [
    "## scenario results"
   ]
  },
  {
   "cell_type": "code",
   "execution_count": 7,
   "metadata": {},
   "outputs": [],
   "source": [
    "def get_scens():\n",
    "    outdir=r'S:\\Kitlasten2020_WRR\\output'\n",
    "    scens={'hist':os.path.join(outdir,'output_MSGSF_hist'),\n",
    "                 '1C':os.path.join(outdir,'output_MSGSF_1C'),\n",
    "                 '2C':os.path.join(outdir,'output_MSGSF_2C'),\n",
    "                 '3C':os.path.join(outdir,'output_MSGSF_3C'),\n",
    "                 '4C':os.path.join(outdir,'output_MSGSF_4C'),\n",
    "                 '5C':os.path.join(outdir,'output_MSGSF_5C')}\n",
    "    scenlist=['hist','1C','2C','3C','4C','5C']\n",
    "    return(scenlist,scens)"
   ]
  },
  {
   "cell_type": "code",
   "execution_count": null,
   "metadata": {},
   "outputs": [],
   "source": [
    "#run post procs, takes a while\n",
    "#sim_wrts_extract_final.py"
   ]
  },
  {
   "cell_type": "code",
   "execution_count": 9,
   "metadata": {
    "scrolled": false
   },
   "outputs": [
    {
     "name": "stdout",
     "output_type": "stream",
     "text": [
      "hist has 360.9 ft3 et by WR with rate > 4 ft/yr\n",
      "1C has 376.1 ft3 et by WR with rate > 4 ft/yr\n",
      "2C has 376.2 ft3 et by WR with rate > 4 ft/yr\n",
      "3C has 392.9 ft3 et by WR with rate > 4 ft/yr\n",
      "4C has 405.0 ft3 et by WR with rate > 4 ft/yr\n",
      "5C has 414.8 ft3 et by WR with rate > 4 ft/yr\n"
     ]
    }
   ],
   "source": [
    "# get ET data from post-proc\n",
    "etdf={}\n",
    "\n",
    "scenlist,scens=get_scens()\n",
    "\n",
    "resdir=r'S:\\Kitlasten2020_WRR\\results_dT'\n",
    "if not os.path.exists(resdir):\n",
    "    os.mkdir(resdir)\n",
    "    \n",
    "#get et from post-processor annual cubic feet (pre-proc pcpet incorporated in same sim_wret_ts.txt file)\n",
    "for scen in scenlist:\n",
    "    if not os.path.exists(os.path.join(resdir,scen)):\n",
    "        os.mkdir(os.path.join(resdir,scen))\n",
    "    df=pd.read_csv(os.path.join(scens[scen],'sim_wret_ts.txt'),delim_whitespace=True,usecols=[0,1,2,3,4,5],index_col=False)\n",
    "    \n",
    "    d8str=df.loc[:,'obnme'].str.split('_').str.get(-1)+'0101'\n",
    "    df['yr']=pd.to_datetime(d8str,format='%y%m%d')\n",
    "    df['wr']=df.loc[:,'obnme'].str.split('_',1).str.get(1).str.rsplit('_',1).str.get(0)\n",
    "    df['wr_yr']=df.loc[:,'obnme'].str.split('_',1).str.get(1)\n",
    "    df=df.merge(wrdf,left_on='wr',right_on='WRname')\n",
    "    etdf[scen]=df.copy(deep=True)\n",
    "    \n",
    "#get deliv from post-processed file (annual cubic feet)\n",
    "for scen in scenlist:\n",
    "    df=pd.read_csv(os.path.join(scens[scen],'sim_swgag_ts.txt'),delim_whitespace=True,usecols=[0,1,2,3],index_col=False)\n",
    "    d8str=df.loc[:,'obnme'].str.split('_').str.get(-1)+'0101'\n",
    "    df['yr']=pd.to_datetime(d8str,format='%y%m%d')\n",
    "    df['wr']=df.loc[:,'obnme'].str.split('_',1).str.get(1).str.rsplit('_',1).str.get(0)\n",
    "    df['wr_yr']=df.loc[:,'obnme'].str.split('_',1).str.get(1)\n",
    "    df.drop(['obnme','yr','wr'],inplace=True,axis=1)\n",
    "    etdf[scen]=df.merge(etdf[scen],left_on='wr_yr',right_on='wr_yr')\n",
    "#     etdf[scen]=deliv.loc[:,['hist_del']].merge(etdf[scen],left_on='wr',right_on='wr')\n",
    "    \n",
    "    \n",
    "#data frame for each wr and each yr\n",
    "pd.set_option('precision', 3)\n",
    "for scen in scenlist:\n",
    "    #these now in feet per year\n",
    "    bscen='hist'\n",
    "    etdf[scen]['tot_et_fpy']=etdf[scen]['total_et']/etdf[scen]['acres']/43560\n",
    "    etdf[scen]['tot_del_fpy']=etdf[scen]['tot_del']/etdf[scen]['acres']/43560\n",
    "    etdf[scen]['sw_del_fpy']=etdf[scen]['sw_del']/etdf[scen]['acres']/43560\n",
    "    etdf[scen]['well_del_fpy']=etdf[scen]['well_del']/etdf[scen]['acres']/43560\n",
    "\n",
    "    etdf[bscen]['tot_et_fpy']=etdf[bscen]['total_et']/etdf[bscen]['acres']/43560\n",
    "    etdf[bscen]['tot_del_fpy']=etdf[bscen]['tot_del']/etdf[bscen]['acres']/43560\n",
    "    etdf[bscen]['sw_del_fpy']=etdf[bscen]['sw_del']/etdf[bscen]['acres']/43560\n",
    "    etdf[bscen]['well_del_fpy']=etdf[bscen]['well_del']/etdf[bscen]['acres']/43560\n",
    "    \n",
    "    # difference from historical\n",
    "    etdf[scen].index=etdf[scen].obnme\n",
    "    etdf[bscen].index=etdf[bscen].obnme\n",
    "    etdf[scen]['tot_et_fpy_scen_hist']=etdf[scen]['tot_et_fpy']-etdf[bscen]['tot_et_fpy']\n",
    "    etdf[scen]['tot_et_volume_scen_hist']=etdf[scen]['total_et']-etdf[bscen]['total_et']\n",
    "    etdf[scen]['tot_del_scen_hist']=etdf[scen]['tot_del']-etdf[bscen]['tot_del']\n",
    "    etdf[scen]['sw_del_scen_hist']=etdf[scen]['sw_del']-etdf[bscen]['sw_del']\n",
    "    etdf[scen]['well_del_scen_hist']=etdf[scen]['well_del']-etdf[bscen]['well_del']\n",
    "    etdf[scen]['tot_del_fpy_scen_hist']=etdf[scen]['tot_del_fpy']-etdf[bscen]['tot_del_fpy']\n",
    "    etdf[scen]['sw_del_fpy_scen_hist']=etdf[scen]['sw_del_fpy']-etdf[bscen]['sw_del_fpy']\n",
    "    etdf[scen]['well_del_fpy_scen_hist']=etdf[scen]['well_del_fpy']-etdf[bscen]['well_del_fpy']\n",
    "    \n",
    "    etdf[scen].drop('wr_yr',inplace=True,axis=1)\n",
    "    \n",
    "    mask=[i for i in etdf[scen].index if etdf[scen].loc[i,'tot_et_fpy']>4]\n",
    "    print('{0} has {1:.1f} ft3 et by WR with rate > 4 ft/yr'.format(scen,etdf[scen].loc[mask,'total_et'].divide(43560).mean())) #average volume leaving from WR with ET>4 in ac-ft/yr\n"
   ]
  },
  {
   "cell_type": "code",
   "execution_count": 18,
   "metadata": {},
   "outputs": [
    {
     "data": {
      "image/png": "[encoded data removed]",
      "text/plain": [
       "<Figure size 432x288 with 1 Axes>"
      ]
     },
     "metadata": {
      "needs_background": "light"
     },
     "output_type": "display_data"
    },
    {
     "data": {
      "image/png": "[encoded data removed]",
      "text/plain": [
       "<Figure size 432x288 with 1 Axes>"
      ]
     },
     "metadata": {
      "needs_background": "light"
     },
     "output_type": "display_data"
    },
    {
     "data": {
      "image/png": "[encoded data removed]",
      "text/plain": [
       "<Figure size 432x288 with 1 Axes>"
      ]
     },
     "metadata": {
      "needs_background": "light"
     },
     "output_type": "display_data"
    },
    {
     "data": {
      "image/png": "[encoded data removed]",
      "text/plain": [
       "<Figure size 432x288 with 1 Axes>"
      ]
     },
     "metadata": {
      "needs_background": "light"
     },
     "output_type": "display_data"
    },
    {
     "data": {
      "image/png": "[encoded data removed]",
      "text/plain": [
       "<Figure size 432x288 with 1 Axes>"
      ]
     },
     "metadata": {
      "needs_background": "light"
     },
     "output_type": "display_data"
    },
    {
     "data": {
      "image/png": "[encoded data removed]",
      "text/plain": [
       "<Figure size 432x288 with 1 Axes>"
      ]
     },
     "metadata": {
      "needs_background": "light"
     },
     "output_type": "display_data"
    }
   ],
   "source": [
    "# get results from pest to compare obs\n",
    "pestname='CV_cal_finalpars.pst'\n",
    "pst=pyemu.Pst(os.path.join(r'S:\\CarsonValley\\MSMF\\WftS_archive\\ancillary\\pest',pestname))\n",
    "obs=pst.observation_data\n",
    "for scen in scenlist:\n",
    "    etdf[scen].hist('tot_et_fpy',bins=np.arange(etdf[scen]['tot_et_fpy'].min(),etdf[scen]['tot_et_fpy'].max(),0.25))\n",
    "    plt.title('ET rate for all WR: {}'.format(scen))\n",
    "    plt.xlabel('ET rate (ft/yr)')\n",
    "    wrrtobs=[o for o in obs.index if obs.loc[o,'obgnme']=='wrrt']\n",
    "    obs.loc[wrrtobs,'obsval'].hist(bins=np.arange(etdf[scen]['tot_et_fpy'].min(),etdf[scen]['tot_et_fpy'].max(),0.25),alpha=0.6)\n",
    "    plt.legend([scen,'obs'])\n",
    "    plt.show()"
   ]
  },
  {
   "cell_type": "code",
   "execution_count": 10,
   "metadata": {},
   "outputs": [
    {
     "name": "stdout",
     "output_type": "stream",
     "text": [
      "hist\n",
      "        tot_del     sw_del  well_del   total_et        gwet  wellet  \\\n",
      "wr                                                                    \n",
      "056   6.878e+04  6.878e+04       0.0  1.954e+05       0.000     0.0   \n",
      "057a  2.301e+07  2.301e+07       0.0  2.424e+06  573295.514     0.0   \n",
      "058a  3.173e+06  3.173e+06       0.0  4.321e+05       0.000     0.0   \n",
      "059   6.364e+05  6.364e+05       0.0  5.371e+05   53739.672     0.0   \n",
      "060   1.287e+06  1.287e+06       0.0  1.591e+06  686079.174     0.0   \n",
      "\n",
      "           swet       pcpet  iseg  wellnum  ...  sw_del_fpy  well_del_fpy  \\\n",
      "wr                                          ...                             \n",
      "056   5.872e+04  136682.809   998      NaN  ...       0.794           0.0   \n",
      "057a  1.688e+06  162185.118  1051      NaN  ...       5.441           0.0   \n",
      "058a  2.638e+05  168357.852  1157      NaN  ...       0.730           0.0   \n",
      "059   3.666e+05  116792.672   999      NaN  ...       2.344           0.0   \n",
      "060   7.870e+05  118258.771  1116      NaN  ...       2.362           0.0   \n",
      "\n",
      "      tot_et_fpy_scen_hist  tot_et_volume_scen_hist  tot_del_scen_hist  \\\n",
      "wr                                                                       \n",
      "056                    0.0                      0.0                0.0   \n",
      "057a                   0.0                      0.0                0.0   \n",
      "058a                   0.0                      0.0                0.0   \n",
      "059                    0.0                      0.0                0.0   \n",
      "060                    0.0                      0.0                0.0   \n",
      "\n",
      "      sw_del_scen_hist  well_del_scen_hist  tot_del_fpy_scen_hist  \\\n",
      "wr                                                                  \n",
      "056                0.0                 0.0                    0.0   \n",
      "057a               0.0                 0.0                    0.0   \n",
      "058a               0.0                 0.0                    0.0   \n",
      "059                0.0                 0.0                    0.0   \n",
      "060                0.0                 0.0                    0.0   \n",
      "\n",
      "      sw_del_fpy_scen_hist  well_del_fpy_scen_hist  \n",
      "wr                                                  \n",
      "056                    0.0                     0.0  \n",
      "057a                   0.0                     0.0  \n",
      "058a                   0.0                     0.0  \n",
      "059                    0.0                     0.0  \n",
      "060                    0.0                     0.0  \n",
      "\n",
      "[5 rows x 37 columns]\n",
      "1C\n",
      "        tot_del     sw_del  well_del   total_et        gwet  wellet  \\\n",
      "wr                                                                    \n",
      "056   6.593e+04  6.593e+04       0.0  1.928e+05       0.000     0.0   \n",
      "057a  2.201e+07  2.201e+07       0.0  2.238e+06  458562.543     0.0   \n",
      "058a  2.962e+06  2.962e+06       0.0  4.146e+05       0.000     0.0   \n",
      "059   6.109e+05  6.109e+05       0.0  5.211e+05   53894.062     0.0   \n",
      "060   1.221e+06  1.221e+06       0.0  1.553e+06  687172.745     0.0   \n",
      "\n",
      "           swet       pcpet  iseg  wellnum  ...  sw_del_fpy  well_del_fpy  \\\n",
      "wr                                          ...                             \n",
      "056   5.612e+04  136682.809   998      NaN  ...       0.761           0.0   \n",
      "057a  1.618e+06  162185.118  1051      NaN  ...       5.205           0.0   \n",
      "058a  2.463e+05  168357.852  1157      NaN  ...       0.682           0.0   \n",
      "059   3.505e+05  116792.672   999      NaN  ...       2.250           0.0   \n",
      "060   7.480e+05  118258.771  1116      NaN  ...       2.242           0.0   \n",
      "\n",
      "      tot_et_fpy_scen_hist  tot_et_volume_scen_hist  tot_del_scen_hist  \\\n",
      "wr                                                                       \n",
      "056                 -0.030                -2601.304         -2.852e+03   \n",
      "057a                -0.044              -185246.887         -1.001e+06   \n",
      "058a                -0.004               -17471.454         -2.112e+05   \n",
      "059                 -0.059               -15944.448         -2.550e+04   \n",
      "060                 -0.070               -37930.011         -6.561e+04   \n",
      "\n",
      "      sw_del_scen_hist  well_del_scen_hist  tot_del_fpy_scen_hist  \\\n",
      "wr                                                                  \n",
      "056         -2.852e+03                 0.0                 -0.033   \n",
      "057a        -1.001e+06                 0.0                 -0.237   \n",
      "058a        -2.112e+05                 0.0                 -0.049   \n",
      "059         -2.550e+04                 0.0                 -0.094   \n",
      "060         -6.561e+04                 0.0                 -0.120   \n",
      "\n",
      "      sw_del_fpy_scen_hist  well_del_fpy_scen_hist  \n",
      "wr                                                  \n",
      "056                 -0.033                     0.0  \n",
      "057a                -0.237                     0.0  \n",
      "058a                -0.049                     0.0  \n",
      "059                 -0.094                     0.0  \n",
      "060                 -0.120                     0.0  \n",
      "\n",
      "[5 rows x 37 columns]\n",
      "2C\n",
      "        tot_del     sw_del  well_del   total_et        gwet  wellet  \\\n",
      "wr                                                                    \n",
      "056   6.329e+04  6.329e+04       0.0  1.908e+05       0.000     0.0   \n",
      "057a  2.101e+07  2.101e+07       0.0  2.057e+06  352596.021     0.0   \n",
      "058a  2.817e+06  2.817e+06       0.0  4.030e+05       0.000     0.0   \n",
      "059   5.871e+05  5.871e+05       0.0  5.090e+05   54048.673     0.0   \n",
      "060   1.151e+06  1.151e+06       0.0  1.513e+06  688263.159     0.0   \n",
      "\n",
      "           swet       pcpet  iseg  wellnum  ...  sw_del_fpy  well_del_fpy  \\\n",
      "wr                                          ...                             \n",
      "056   5.415e+04  136682.809   998      NaN  ...       0.731           0.0   \n",
      "057a  1.542e+06  162185.118  1051      NaN  ...       4.969           0.0   \n",
      "058a  2.347e+05  168357.852  1157      NaN  ...       0.648           0.0   \n",
      "059   3.381e+05  116792.672   999      NaN  ...       2.162           0.0   \n",
      "060   7.060e+05  118258.771  1116      NaN  ...       2.114           0.0   \n",
      "\n",
      "      tot_et_fpy_scen_hist  tot_et_volume_scen_hist  tot_del_scen_hist  \\\n",
      "wr                                                                       \n",
      "056                 -0.053                -4568.463         -5.484e+03   \n",
      "057a                -0.087              -366782.179         -1.996e+06   \n",
      "058a                -0.007               -29070.811         -3.562e+05   \n",
      "059                 -0.104               -28132.282         -4.936e+04   \n",
      "060                 -0.145               -78788.385         -1.353e+05   \n",
      "\n",
      "      sw_del_scen_hist  well_del_scen_hist  tot_del_fpy_scen_hist  \\\n",
      "wr                                                                  \n",
      "056         -5.484e+03                 0.0                 -0.063   \n",
      "057a        -1.996e+06                 0.0                 -0.472   \n",
      "058a        -3.562e+05                 0.0                 -0.082   \n",
      "059         -4.936e+04                 0.0                 -0.182   \n",
      "060         -1.353e+05                 0.0                 -0.248   \n",
      "\n",
      "      sw_del_fpy_scen_hist  well_del_fpy_scen_hist  \n",
      "wr                                                  \n",
      "056                 -0.063                     0.0  \n",
      "057a                -0.472                     0.0  \n",
      "058a                -0.082                     0.0  \n",
      "059                 -0.182                     0.0  \n",
      "060                 -0.248                     0.0  \n",
      "\n",
      "[5 rows x 37 columns]\n",
      "3C\n",
      "        tot_del     sw_del  well_del   total_et        gwet  wellet  \\\n",
      "wr                                                                    \n",
      "056   6.046e+04  6.046e+04       0.0  1.885e+05       0.000     0.0   \n",
      "057a  1.985e+07  1.985e+07       0.0  1.872e+06  248614.161     0.0   \n",
      "058a  2.660e+06  2.660e+06       0.0  3.908e+05       0.000     0.0   \n",
      "059   5.627e+05  5.627e+05       0.0  4.947e+05   54199.979     0.0   \n",
      "060   1.086e+06  1.086e+06       0.0  1.472e+06  689208.729     0.0   \n",
      "\n",
      "           swet       pcpet  iseg  wellnum  ...  sw_del_fpy  well_del_fpy  \\\n",
      "wr                                          ...                             \n",
      "056   5.179e+04  136682.809   998      NaN  ...       0.698           0.0   \n",
      "057a  1.461e+06  162185.118  1051      NaN  ...       4.694           0.0   \n",
      "058a  2.224e+05  168357.852  1157      NaN  ...       0.612           0.0   \n",
      "059   3.237e+05  116792.672   999      NaN  ...       2.072           0.0   \n",
      "060   6.650e+05  118258.771  1116      NaN  ...       1.994           0.0   \n",
      "\n",
      "      tot_et_fpy_scen_hist  tot_et_volume_scen_hist  tot_del_scen_hist  \\\n",
      "wr                                                                       \n",
      "056                 -0.080                -6935.047         -8.314e+03   \n",
      "057a                -0.130              -551477.600         -3.160e+06   \n",
      "058a                -0.010               -41359.458         -5.130e+05   \n",
      "059                 -0.156               -42407.694         -7.378e+04   \n",
      "060                 -0.218              -118905.345         -2.009e+05   \n",
      "\n",
      "      sw_del_scen_hist  well_del_scen_hist  tot_del_fpy_scen_hist  \\\n",
      "wr                                                                  \n",
      "056         -8.314e+03                 0.0                 -0.096   \n",
      "057a        -3.160e+06                 0.0                 -0.747   \n",
      "058a        -5.130e+05                 0.0                 -0.118   \n",
      "059         -7.378e+04                 0.0                 -0.272   \n",
      "060         -2.009e+05                 0.0                 -0.369   \n",
      "\n",
      "      sw_del_fpy_scen_hist  well_del_fpy_scen_hist  \n",
      "wr                                                  \n",
      "056                 -0.096                     0.0  \n",
      "057a                -0.747                     0.0  \n",
      "058a                -0.118                     0.0  \n",
      "059                 -0.272                     0.0  \n",
      "060                 -0.369                     0.0  \n",
      "\n",
      "[5 rows x 37 columns]\n",
      "4C\n"
     ]
    },
    {
     "name": "stdout",
     "output_type": "stream",
     "text": [
      "        tot_del     sw_del  well_del   total_et        gwet  wellet  \\\n",
      "wr                                                                    \n",
      "056   5.691e+04  5.691e+04       0.0  1.855e+05       0.000     0.0   \n",
      "057a  1.886e+07  1.886e+07       0.0  1.731e+06  175665.236     0.0   \n",
      "058a  2.475e+06  2.475e+06       0.0  3.749e+05       0.000     0.0   \n",
      "059   5.314e+05  5.314e+05       0.0  4.774e+05   54345.728     0.0   \n",
      "060   1.028e+06  1.028e+06       0.0  1.438e+06  690201.264     0.0   \n",
      "\n",
      "           swet       pcpet  iseg  wellnum  ...  sw_del_fpy  well_del_fpy  \\\n",
      "wr                                          ...                             \n",
      "056   4.881e+04  136682.809   998      NaN  ...       0.657           0.0   \n",
      "057a  1.393e+06  162185.118  1051      NaN  ...       4.461           0.0   \n",
      "058a  2.065e+05  168357.852  1157      NaN  ...       0.570           0.0   \n",
      "059   3.062e+05  116792.672   999      NaN  ...       1.957           0.0   \n",
      "060   6.299e+05  118258.771  1116      NaN  ...       1.887           0.0   \n",
      "\n",
      "      tot_et_fpy_scen_hist  tot_et_volume_scen_hist  tot_del_scen_hist  \\\n",
      "wr                                                                       \n",
      "056                 -0.114                -9912.781         -1.187e+04   \n",
      "057a                -0.164              -692978.307         -4.145e+06   \n",
      "058a                -0.013               -57236.341         -6.977e+05   \n",
      "059                 -0.220               -59727.563         -1.051e+05   \n",
      "060                 -0.281              -152964.791         -2.592e+05   \n",
      "\n",
      "      sw_del_scen_hist  well_del_scen_hist  tot_del_fpy_scen_hist  \\\n",
      "wr                                                                  \n",
      "056         -1.187e+04                 0.0                 -0.137   \n",
      "057a        -4.145e+06                 0.0                 -0.980   \n",
      "058a        -6.977e+05                 0.0                 -0.161   \n",
      "059         -1.051e+05                 0.0                 -0.387   \n",
      "060         -2.592e+05                 0.0                 -0.476   \n",
      "\n",
      "      sw_del_fpy_scen_hist  well_del_fpy_scen_hist  \n",
      "wr                                                  \n",
      "056                 -0.137                     0.0  \n",
      "057a                -0.980                     0.0  \n",
      "058a                -0.161                     0.0  \n",
      "059                 -0.387                     0.0  \n",
      "060                 -0.476                     0.0  \n",
      "\n",
      "[5 rows x 37 columns]\n",
      "5C\n",
      "        tot_del     sw_del  well_del   total_et        gwet  wellet  \\\n",
      "wr                                                                    \n",
      "056   5.382e+04  5.382e+04       0.0  1.830e+05       0.000     0.0   \n",
      "057a  1.758e+07  1.758e+07       0.0  1.550e+06   92048.332     0.0   \n",
      "058a  2.324e+06  2.324e+06       0.0  3.622e+05       0.000     0.0   \n",
      "059   5.039e+05  5.039e+05       0.0  4.630e+05   54485.455     0.0   \n",
      "060   9.582e+05  9.582e+05       0.0  1.394e+06  690819.770     0.0   \n",
      "\n",
      "           swet       pcpet  iseg  wellnum  ...  sw_del_fpy  well_del_fpy  \\\n",
      "wr                                          ...                             \n",
      "056   4.634e+04  136682.809   998      NaN  ...       0.622           0.0   \n",
      "057a  1.296e+06  162185.118  1051      NaN  ...       4.157           0.0   \n",
      "058a  1.939e+05  168357.852  1157      NaN  ...       0.535           0.0   \n",
      "059   2.917e+05  116792.672   999      NaN  ...       1.856           0.0   \n",
      "060   5.849e+05  118258.771  1116      NaN  ...       1.759           0.0   \n",
      "\n",
      "      tot_et_fpy_scen_hist  tot_et_volume_scen_hist  tot_del_scen_hist  \\\n",
      "wr                                                                       \n",
      "056                 -0.143               -12383.303         -1.496e+04   \n",
      "057a                -0.207              -873340.666         -5.430e+06   \n",
      "058a                -0.016               -69882.127         -8.484e+05   \n",
      "059                 -0.273               -74096.007         -1.325e+05   \n",
      "060                 -0.362              -197363.326         -3.286e+05   \n",
      "\n",
      "      sw_del_scen_hist  well_del_scen_hist  tot_del_fpy_scen_hist  \\\n",
      "wr                                                                  \n",
      "056         -1.496e+04                 0.0                 -0.173   \n",
      "057a        -5.430e+06                 0.0                 -1.284   \n",
      "058a        -8.484e+05                 0.0                 -0.195   \n",
      "059         -1.325e+05                 0.0                 -0.488   \n",
      "060         -3.286e+05                 0.0                 -0.603   \n",
      "\n",
      "      sw_del_fpy_scen_hist  well_del_fpy_scen_hist  \n",
      "wr                                                  \n",
      "056                 -0.173                     0.0  \n",
      "057a                -1.284                     0.0  \n",
      "058a                -0.195                     0.0  \n",
      "059                 -0.488                     0.0  \n",
      "060                 -0.603                     0.0  \n",
      "\n",
      "[5 rows x 37 columns]\n"
     ]
    }
   ],
   "source": [
    "#write etdf file, copy inflow results (check agains intabs), build df of mean values for each WR\n",
    "mdflist=[]\n",
    "wrcols=['acres','tot_del','sw_del','well_del','total_et','swet','wellet','gwet','pcpet','pctsup','wryr',\n",
    "        'tot_del_scen_hist','sw_del_scen_hist','well_del_scen_hist',\n",
    "        'tot_del_fpy_scen_hist','sw_del_fpy_scen_hist','well_del_fpy_scen_hist',\n",
    "        'tot_et_fpy_scen_hist','tot_et_volume_scen_hist']\n",
    "for scen in scenlist:\n",
    "    print(scen)\n",
    "    etdf[scen].to_csv(os.path.join(resdir,scen,scen+'_etdf.csv'),columns=[c for c in wrcols])\n",
    "    mdf=etdf[scen].groupby('wr').mean() #wr becomes index, don't include in cols\n",
    "    print(mdf.head())\n",
    "    mdf.to_csv(os.path.join(resdir,scen,scen+'_mean_etdf.csv'),columns=[c for c in wrcols])\n",
    "    copyfile(os.path.join('..\\\\','runs',scens[scen],'CV-wes-8015trans-10311000.sgag'),os.path.join(resdir,scen,scen+'-10311000.sgag'))\n",
    "    copyfile(os.path.join('..\\\\','runs',scens[scen],'CV-wes-8015trans-10309000.sgag'),os.path.join(resdir,scen,scen+'-10309000.sgag'))\n",
    "    copyfile(os.path.join('..\\\\','runs',scens[scen],'CV-wes-8015trans-10310000.sgag'),os.path.join(resdir,scen,scen+'-10310000.sgag'))\n",
    "    \n",
    "    mdf.columns=['dT'+scen+'_'+c for c in mdf.columns]\n",
    "    mdflist.append(mdf[['dT'+scen+'_sw_del_fpy_scen_hist','dT'+scen+'_well_del_fpy_scen_hist','dT'+scen+'_tot_del_fpy_scen_hist','dT'+scen+'_tot_et_fpy_scen_hist']])"
   ]
  },
  {
   "cell_type": "code",
   "execution_count": 11,
   "metadata": {},
   "outputs": [],
   "source": [
    "#define wr decades and WR with rotations\n",
    "wrdec=[0,1850,1860,1870,1880,1890,1900,2000]\n",
    "wrdeclab=['1850s\\nand prior','1860s','1870s','1880s','1890s','1900s\\nand later']\n",
    "rotwr=['544','578','559','532-533','604','555','554','557','556','553','516-517','492-501','491','529-531','542','558','535-536','523-527','543','540','534','546','508','545','528','561','513-514','568','540a','560','518-519','562','563','564','502-507','566','565','517a','487','567','478-481','520-522','537','488-490','539','511','512','515','509-510','538']\n",
    "etdf[scen]['wrdec']=False\n",
    "for scen in etdf:\n",
    "    for i,d in enumerate(wrdec):\n",
    "        mask=[x for x in etdf[scen].index if wrdec[i]<=etdf[scen].loc[x,'wryr']<wrdec[i+1]]\n",
    "        #leave \"real\" decade, lump prior to 1850 into 1850\n",
    "        etdf[scen].loc[mask,'wrdecade']=d\n",
    "        etdf[scen].loc[mask,'wrdec']=max(1850,d)"
   ]
  },
  {
   "cell_type": "code",
   "execution_count": 12,
   "metadata": {},
   "outputs": [],
   "source": [
    "#construct intermediate dfs for rates, volumes, and percentages of sw, wells, and total\n",
    "nyrs=36.22221218331232\n",
    "sw={}\n",
    "well={}\n",
    "tot={}\n",
    "vsw={}\n",
    "vwell={}\n",
    "vtot={}\n",
    "psw={}\n",
    "pwell={}\n",
    "ptot={}\n",
    "for scen in scenlist[1:]:\n",
    "    #depth based, mean (already normalized by acres)\n",
    "    decdf=etdf[scen].loc[:,:].groupby('wrdec').mean()\n",
    "    \n",
    "    well[scen]=decdf.loc[:,'well_del_fpy_scen_hist']\n",
    "    sw[scen]=decdf.loc[:,'sw_del_fpy_scen_hist']\n",
    "    tot[scen]=decdf.loc[:,'tot_del_fpy_scen_hist']\n",
    "\n",
    "#volume based total delivery, sum all in decade, divide by years for average volume\n",
    "histdf=etdf['hist'].loc[:,:].groupby('wrdec').sum()\n",
    "for scen in scenlist[1:]:\n",
    "    decdf=etdf[scen].loc[:,:].groupby('wrdec').sum()/43560/nyrs #is in cf, convert to ac-ft on the fly, divide by 36 year sim period\n",
    "    \n",
    "    vwell[scen]=decdf.loc[:,'well_del_scen_hist']\n",
    "    vsw[scen]=decdf.loc[:,'sw_del_scen_hist']\n",
    "    vtot[scen]=decdf.loc[:,'tot_del_scen_hist']\n",
    "    \n",
    "    pwell[scen]=(decdf.loc[:,'well_del_scen_hist'].divide(histdf.loc[:,'well_del']))*100\n",
    "    psw[scen]=(decdf.loc[:,'sw_del_scen_hist'].divide(histdf.loc[:,'sw_del']))*100\n",
    "    ptot[scen]=(decdf.loc[:,'tot_del_scen_hist'].divide(histdf.loc[:,'tot_del']))*100\n",
    "    "
   ]
  },
  {
   "cell_type": "code",
   "execution_count": 13,
   "metadata": {},
   "outputs": [
    {
     "data": {
      "text/plain": [
       "Text(0.5, 0, 'priority decade')"
      ]
     },
     "execution_count": 13,
     "metadata": {},
     "output_type": "execute_result"
    },
    {
     "data": {
      "image/png": "[encoded data removed]",
      "text/plain": [
       "<Figure size 288x648 with 3 Axes>"
      ]
     },
     "metadata": {
      "needs_background": "light"
     },
     "output_type": "display_data"
    }
   ],
   "source": [
    "# Change in deliveries figure\n",
    "fs=8\n",
    "fig,ax=plt.subplots(3,1,figsize=(4,9),gridspec_kw = {'wspace':0, 'hspace':0.05})\n",
    "for i,(t,m) in enumerate(zip(['Average difference in water\\ndelivery rate (feet per year)',\n",
    "                              'Average difference in total water\\ndelivery (acre-feet per year)',\n",
    "                              'Average percent difference\\nin deliveries'],[[well,sw,tot],[vwell,vsw,vtot],[pwell,psw,ptot]])):\n",
    "    pd.DataFrame(m[0]).plot(kind='bar',ax=ax[i],legend=False,color='b',edgecolor='k',sharex=True,fontsize=fs,width=0.75)\n",
    "    pd.DataFrame(m[1]).plot(kind='bar',ax=ax[i],legend=False,color='c',edgecolor='k',sharex=True,fontsize=fs,width=0.75)\n",
    "    pd.DataFrame(m[2]).plot(kind='bar',ax=ax[i],legend=False,color='c',edgecolor='k',hatch='//',sharex=True,fontsize=fs,width=0.75)\n",
    "\n",
    "    ax[i].grid(True,which='major',axis='y')\n",
    "    ax[i].set_axisbelow(True)\n",
    "    \n",
    "    ax[i].set_ylabel(t,fontsize=fs)\n",
    "\n",
    "#ax[0].set_title('Difference in deliveries to water rights by decade',fontsize=fs+2)\n",
    "for x,y,dtlab in zip([-0.45,-0.3,-0.15,0,0.16],[-0.23,-0.27,-0.31,-0.35,-0.39],['1C','2C','3C','4C','5C']):\n",
    "    ax[0].text(x,y,dtlab,fontsize=fs-2,rotation=0)\n",
    "h,l = ax[0].get_legend_handles_labels()\n",
    "ax[0].legend(h[0:len(h):5],['well delivery','surface delivery','total delivery'],loc=3,fontsize=fs)\n",
    "ax[i].xaxis.set_major_formatter(ticker.FixedFormatter(wrdeclab))        \n",
    "plt.setp(ax[i].get_xticklabels(), rotation=0)\n",
    "ax[i].set_xlabel('priority decade',fontsize=fs,labelpad=0)"
   ]
  },
  {
   "cell_type": "markdown",
   "metadata": {},
   "source": [
    "# get actual demand time series for each scenario\n",
    "dmd={}\n",
    "for scen in scenlist:\n",
    "    for fn in os.listdir(os.path.join(modir,'MSGSF','MSGSF_'+scen,'tabfiles_'+scen)):\n",
    "        if 'demand' in fn:\n",
    "            data=fn.split('-')\n",
    "            if len(data)==7:\n",
    "                wr=data[4].lower()\n",
    "            elif len(data)==8:\n",
    "                wr='-'.join(data[4:6]).lower()\n",
    "            else:\n",
    "                print('yerdum {}'.format(derp))\n",
    "            ts=pd.read_csv(os.path.join(modir,'MSGSF','MSGSF_'+scen,'tabfiles_'+scen,fn),delim_whitespace=True, usecols=[0,1,3],names=['simday','dmd','date'])\n",
    "            ts['date']=pd.to_datetime(ts['date'])\n",
    "            ts.set_index('date',inplace=True)\n",
    "            ats=ts.resample('D').interpolate(method='backfill')\n",
    "            dmd[wr]=ats['dmd'].mean()\n",
    "dmddf=pd.DataFrame.from_dict(dmd,orient='index',columns=['dmd'])"
   ]
  },
  {
   "cell_type": "code",
   "execution_count": 28,
   "metadata": {
    "scrolled": true
   },
   "outputs": [],
   "source": [
    "# convert to hectare-meters\n",
    "hmdflist=[]\n",
    "hetdf={}\n",
    "cuft2ham=1/((3.28084**3)*10000)\n",
    "wrcols=['acres','tot_del','sw_del','well_del','total_et','swet','wellet','gwet','pcpet','pctsup','wryr','wrdec',\n",
    "        'tot_del_scen_hist','sw_del_scen_hist','well_del_scen_hist',\n",
    "        'tot_del_mpy_scen_hist','sw_del_mpy_scen_hist','sw_del_pct_scen_hist','well_del_mpy_scen_hist',\n",
    "        'tot_et_mpy_scen_hist','tot_et_volume_scen_hist','tot_et_pct_scen_hist']\n",
    "\n",
    "for scen in scenlist:\n",
    "    hetdf[scen]=etdf[scen].copy(deep=True)\n",
    "    hetdf[scen]['ha']=etdf[scen]['acres'].multiply(43560/(3.28084**2)/10000) #convert acres to ha\n",
    "    hetdf[scen][['tot_del','sw_del','well_del','total_et','swet','wellet','gwet','pcpet',\n",
    "                'tot_del_scen_hist','sw_del_scen_hist','well_del_scen_hist',\n",
    "                'tot_et_volume_scen_hist']]=etdf[scen][['tot_del','sw_del','well_del',\n",
    "                'total_et','swet','wellet','gwet','pcpet',\n",
    "                'tot_del_scen_hist','sw_del_scen_hist','well_del_scen_hist',\n",
    "                'tot_et_volume_scen_hist']].multiply(cuft2ham)\n",
    "    hetdf[scen][['tot_del_mpy_scen_hist','sw_del_mpy_scen_hist','well_del_mpy_scen_hist',\n",
    "                'tot_et_mpy_scen_hist']]=etdf[scen][['tot_del_fpy_scen_hist','sw_del_fpy_scen_hist',\n",
    "                'well_del_fpy_scen_hist','tot_et_fpy_scen_hist']].divide(3.28084)\n",
    "    \n",
    "for scen in scenlist:\n",
    "    hetdf[scen]['sw_del_pct_scen_hist']=hetdf[scen]['sw_del_scen_hist'].divide(hetdf['hist']['sw_del'])\n",
    "    hetdf[scen]['tot_et_pct_scen_hist']=hetdf[scen]['tot_et_volume_scen_hist'].divide(hetdf['hist']['total_et'])\n",
    "    hetdf[scen].to_csv(os.path.join(resdir,scen,'dT'+scen+'_etdf_hamy.csv'),columns=[c for c in wrcols])\n",
    "    hmdf=hetdf[scen].groupby('wr').mean() # mean value for wr. wr becomes index, don't include in cols\n",
    "    \n",
    "    # as fraction of demand\n",
    "    #hmdf['swdmd']=dmddf['dmd'].multiply(365.25).multiply(0.000002832) #mean cfd to hampy\n",
    "    #hmdf['swdmd_frac_scen_hist']=hmdf['sw_del_scen_hist'].divide(hmdf['swdmd'])\n",
    "    #hmdf['swdmd_frac_scen']=hmdf['sw_del'].divide(hmdf['swdmd'])\n",
    "    \n",
    "    hmdf.to_csv(os.path.join(resdir,scen,'dT'+scen+'_mean_etdf_hamy.csv'),float_format='%.4f',columns=[c for c in wrcols])#+['swdmd_frac_scen_hist','swdmd_frac_scen'])\n",
    "    hmdf.columns=['dT'+scen+'_'+c for c in hmdf.columns]\n",
    "    hmdflist.append(hmdf[['dT'+scen+'_sw_del_mpy_scen_hist','dT'+scen+'_sw_del_pct_scen_hist','dT'+scen+'_tot_et_pct_scen_hist','dT'+scen+'_well_del_mpy_scen_hist','dT'+scen+'_tot_del_mpy_scen_hist','dT'+scen+'_tot_et_mpy_scen_hist']])#,'dT'+scen+'_swdmd_frac_scen_hist','dT'+scen+'_swdmd_frac_scen']])"
   ]
  },
  {
   "cell_type": "code",
   "execution_count": 118,
   "metadata": {},
   "outputs": [
    {
     "data": {
      "text/plain": [
       "Index(['tot_del', 'sw_del', 'well_del', 'obnme', 'total_et', 'gwet', 'wellet',\n",
       "       'swet', 'pcpet', 'yr', 'wr', 'iseg', 'wellnum', 'welllay', 'wellrow',\n",
       "       'wellcol', 'startyr', 'dpt', 'swu', 'swufrac', 'pctsup', 'swfrfrac',\n",
       "       'swfr', 'welleff', 'wryr', 'row', 'col', 'acres', 'tot_et_fpy',\n",
       "       'tot_del_fpy', 'sw_del_fpy', 'well_del_fpy', 'tot_et_fpy_scen_hist',\n",
       "       'tot_et_volume_scen_hist', 'tot_del_scen_hist', 'sw_del_scen_hist',\n",
       "       'well_del_scen_hist', 'tot_del_fpy_scen_hist', 'sw_del_fpy_scen_hist',\n",
       "       'well_del_fpy_scen_hist', 'wrdec', 'wrdecade', 'ha',\n",
       "       'tot_del_mpy_scen_hist', 'sw_del_mpy_scen_hist',\n",
       "       'well_del_mpy_scen_hist', 'tot_et_mpy_scen_hist',\n",
       "       'sw_del_pct_scen_hist', 'tot_et_pct_scen_hist', 'swr', 'tot_swd',\n",
       "       'swu_vol', 'swr_vol'],\n",
       "      dtype='object')"
      ]
     },
     "execution_count": 118,
     "metadata": {},
     "output_type": "execute_result"
    }
   ],
   "source": [
    "hetdf[scen].columns"
   ]
  },
  {
   "cell_type": "code",
   "execution_count": 114,
   "metadata": {},
   "outputs": [],
   "source": [
    "decreed=[i for i in wrdf.index if wrdf.loc[i,'wryr']>1800]\n",
    "decet=[i for i in hetdf[scen].index if hetdf[scen].loc[i,'wr'] in decreed]"
   ]
  },
  {
   "cell_type": "code",
   "execution_count": 116,
   "metadata": {},
   "outputs": [
    {
     "name": "stdout",
     "output_type": "stream",
     "text": [
      "\n",
      "mean annual sw_del\n",
      "\n",
      "11640.713680218156\n",
      "11280.206542446767\n",
      "10870.677612620997\n",
      "10437.41846143784\n",
      "10005.810639152054\n",
      "9563.135581384078\n",
      "\n",
      "mean annual swet\n",
      "\n",
      "2642.0991465020575\n",
      "2559.8474418341566\n",
      "2475.3287446942295\n",
      "2398.6295244784496\n",
      "2307.1366951128402\n",
      "2214.4555924748147\n",
      "\n",
      "mean annual tot_del\n",
      "\n",
      "13099.649308799555\n",
      "12832.033062628449\n",
      "12524.82703571052\n",
      "12201.15676349207\n",
      "11872.402699362292\n",
      "11537.872662501246\n",
      "\n",
      "mean annual total_et\n",
      "\n",
      "10423.639037936971\n",
      "10198.152128726979\n",
      "9945.02848449556\n",
      "9675.20577955127\n",
      "9391.767947706834\n",
      "9095.578090895266\n",
      "\n",
      "mean annual well_del\n",
      "\n",
      "1458.9356285814044\n",
      "1551.8265201816803\n",
      "1654.149423089518\n",
      "1763.7383020542325\n",
      "1866.5920602102367\n",
      "1974.7370811171686\n",
      "\n",
      "mean annual wellet\n",
      "\n",
      "658.3761021671785\n",
      "697.2265989112028\n",
      "741.2630634986496\n",
      "788.6226369442813\n",
      "832.916263903297\n",
      "879.8116191022572\n",
      "\n",
      "mean annual gwet\n",
      "\n",
      "6885.246653028559\n",
      "6703.160951742441\n",
      "6490.519540063506\n",
      "6250.036481889365\n",
      "6013.7978524515165\n",
      "5763.393743079017\n"
     ]
    }
   ],
   "source": [
    "for q in ['sw_del','swet','tot_del','total_et','well_del','wellet','gwet']:    \n",
    "    print('\\nmean annual {}\\n'.format(q))\n",
    "    for scen in scenlist:\n",
    "        print('{}'.format(float(hetdf[scen].loc[decet,['yr',q]].groupby('yr').sum().mean())))"
   ]
  },
  {
   "cell_type": "code",
   "execution_count": 70,
   "metadata": {},
   "outputs": [
    {
     "data": {
      "text/plain": [
       "datetime.timedelta(182)"
      ]
     },
     "execution_count": 70,
     "metadata": {},
     "output_type": "execute_result"
    }
   ],
   "source": [
    "datetime.date(2020,9,30)-datetime.date(2020,4,1)"
   ]
  },
  {
   "cell_type": "code",
   "execution_count": 86,
   "metadata": {},
   "outputs": [
    {
     "data": {
      "text/plain": [
       "4.534759355537334"
      ]
     },
     "execution_count": 86,
     "metadata": {},
     "output_type": "execute_result"
    }
   ],
   "source": [
    "hetdf[scen].loc[:,'swu'].mean()*182"
   ]
  },
  {
   "cell_type": "code",
   "execution_count": 115,
   "metadata": {},
   "outputs": [
    {
     "name": "stdout",
     "output_type": "stream",
     "text": [
      "\n",
      "mean annual sw demand\n",
      "\n",
      "36715.37183131711\n",
      "36715.37183131711\n",
      "36715.37183131711\n",
      "36715.37183131711\n",
      "36715.37183131711\n",
      "36715.37183131711\n"
     ]
    }
   ],
   "source": [
    "# too big, mask only decreed\n",
    "print('\\nmean annual {}\\n'.format('sw demand'))\n",
    "for scen in scenlist:\n",
    "    #f/d to ac-ft/day to ac-ft/yr to ha-m/yr\n",
    "    hetdf[scen]['swu_vol']=hetdf[scen].swu.multiply(hetdf[scen].acres.multiply(43560)).multiply(182/(3.28084**3)/10000)\n",
    "    hetdf[scen]['swr_vol']=hetdf[scen].swu_vol.multiply(hetdf[scen].swufrac)\n",
    "    hetdf[scen]['tot_swd']=hetdf[scen].swu_vol+hetdf[scen].swr_vol\n",
    "    print('{}'.format(float(hetdf[scen].loc[decet,['yr','tot_swd']].groupby('yr').sum().mean())))"
   ]
  },
  {
   "cell_type": "code",
   "execution_count": 56,
   "metadata": {},
   "outputs": [],
   "source": [
    "sw={}\n",
    "well={}\n",
    "tot={}\n",
    "vsw={}\n",
    "vwell={}\n",
    "vtot={}\n",
    "psw={}\n",
    "pwell={}\n",
    "ptot={}\n",
    "for scen in scenlist[1:]:\n",
    "    #depth based, mean of all WR in decade\n",
    "    decdf=hetdf[scen].loc[:,:].groupby('wrdec').mean()\n",
    "    \n",
    "    well[scen]=decdf.loc[:,'well_del_mpy_scen_hist']\n",
    "    sw[scen]=decdf.loc[:,'sw_del_mpy_scen_hist']\n",
    "    tot[scen]=decdf.loc[:,'tot_del_mpy_scen_hist']\n",
    "    \n",
    "#volumne based total delivery, sum of all WR in decade\n",
    "histdf=hetdf['hist'].loc[:,:].groupby('wrdec').sum()/nyrs\n",
    "for scen in scenlist[1:]:\n",
    "    decdf=hetdf[scen].loc[:,:].groupby('wrdec').sum()/nyrs #hetdf in ha-m, divide sum by 36 year sim period\n",
    "    \n",
    "    vwell[scen]=decdf.loc[:,'well_del_scen_hist']\n",
    "    vsw[scen]=decdf.loc[:,'sw_del_scen_hist']\n",
    "    vtot[scen]=decdf.loc[:,'tot_del_scen_hist']\n",
    "\n",
    "    pwell[scen]=(decdf.loc[:,'well_del_scen_hist'].divide(histdf.loc[:,'well_del']))*100\n",
    "    psw[scen]=(decdf.loc[:,'sw_del_scen_hist'].divide(histdf.loc[:,'sw_del']))*100\n",
    "    ptot[scen]=(decdf.loc[:,'tot_del_scen_hist'].divide(histdf.loc[:,'tot_del']))*100\n"
   ]
  },
  {
   "cell_type": "code",
   "execution_count": 57,
   "metadata": {},
   "outputs": [
    {
     "data": {
      "image/png": "[encoded data removed]",
      "text/plain": [
       "<Figure size 360x576 with 3 Axes>"
      ]
     },
     "metadata": {
      "needs_background": "light"
     },
     "output_type": "display_data"
    }
   ],
   "source": [
    "# Change in deliveries ha-m/yr\n",
    "fs=8\n",
    "fig,ax=plt.subplots(3,1,figsize=(5,8),gridspec_kw = {'wspace':0.0, 'hspace':0.05})\n",
    "for i,(t,m) in enumerate(zip(['Average difference in\\nwater delivery rates\\n(meters per year)',\n",
    "                              'Average percent difference\\nin deliveries\\n',\n",
    "                              'Average difference in\\ntotal water delivery\\n(hectare-meters per year)'],[[well,sw,tot],[pwell,psw,ptot],[vwell,vsw,vtot]])):\n",
    "    pd.DataFrame(m[0]).plot(kind='bar',ax=ax[i],legend=False,color='b',edgecolor='k',sharex=True,fontsize=fs,width=0.75)\n",
    "    pd.DataFrame(m[1]).plot(kind='bar',ax=ax[i],legend=False,color='c',edgecolor='k',sharex=True,fontsize=fs,width=0.75)\n",
    "    pd.DataFrame(m[2]).plot(kind='bar',ax=ax[i],legend=False,color='c',edgecolor='k',hatch='//',sharex=True,fontsize=fs,width=0.75)\n",
    "\n",
    "    ax[i].grid(True,which='major',axis='y')\n",
    "    ax[i].set_axisbelow(True)\n",
    "    \n",
    "    ax[i].set_ylabel(t,fontsize=fs,labelpad=0)\n",
    "\n",
    "#ax[0].set_title('Difference in deliveries to water rights by decade',fontsize=fs+2)\n",
    "xstart=-0.46\n",
    "xinc=0.165\n",
    "ystart=-0.038\n",
    "yinc=0.018\n",
    "for x,y,dtlab in zip([xstart+i*xinc for i in range(0,5)],[ystart-j*yinc for j in range(0,5)],['1C','2C','3C','4C','5C']):\n",
    "    t=ax[0].text(x,y,dtlab,fontsize=fs-2,rotation=0,bbox=dict(boxstyle='square,pad=0',facecolor='white',edgecolor='white'))\n",
    "h,l = ax[0].get_legend_handles_labels()\n",
    "ax[0].legend(h[0:len(h):5],['well delivery','surface delivery','total delivery'],loc=3,fontsize=fs)\n",
    "ax[i].xaxis.set_major_formatter(ticker.FixedFormatter(wrdeclab))        \n",
    "plt.setp(ax[i].get_xticklabels(), rotation=0)\n",
    "ax[i].set_xlabel('priority decade',fontsize=fs,labelpad=0)\n",
    "fig.savefig(os.path.join(resdir,'dT_delivery.png'), dpi=600,bbox_inches='tight')"
   ]
  },
  {
   "cell_type": "code",
   "execution_count": 36,
   "metadata": {},
   "outputs": [
    {
     "name": "stdout",
     "output_type": "stream",
     "text": [
      "1C 539140.318260802 71621.61895476154\n",
      "2C 522280.69651518954 -31701.04648312513\n",
      "3C 504316.28215499315 -34824.0361058088\n",
      "4C 486117.68324047665 -36163.013274712896\n",
      "5C 467518.6993060404 -36797.582848952734\n"
     ]
    }
   ],
   "source": [
    "a=[]\n",
    "for i,scen in enumerate(scenlist[1:]):\n",
    "    a.append(hetdf[scen]['sw_del'].sum()-hetdf[scenlist[i-1]]['sw_del'].sum())\n",
    "    print(scen,hetdf[scen]['sw_del'].sum(),(hetdf[scen]['sw_del'].sum()-hetdf[scenlist[i-1]]['sw_del'].sum()))"
   ]
  },
  {
   "cell_type": "code",
   "execution_count": null,
   "metadata": {},
   "outputs": [],
   "source": [
    "hetdf[scen]['sw_del'].keys()"
   ]
  },
  {
   "cell_type": "code",
   "execution_count": null,
   "metadata": {},
   "outputs": [],
   "source": [
    "# concat and save select means\n",
    "mdf=pd.concat(mdflist,axis=1,sort=True)\n",
    "hmdf=pd.concat(hmdflist,axis=1,sort=True)\n",
    "hmdf['wr']=hmdf.index\n",
    "hmdf['wr']=hmdf['wr'].apply(lambda x:'wr_'+x)\n",
    "hmdf.set_index('wr',inplace=True)\n",
    "\n",
    "mdf.to_csv(os.path.join(resdir,'mean_wrdf.csv'))\n",
    "hmdf.to_csv(os.path.join(resdir,'mean_wrdf_hamy.csv'))"
   ]
  },
  {
   "cell_type": "code",
   "execution_count": null,
   "metadata": {},
   "outputs": [],
   "source": [
    "hmdf.loc[:,'dT5C_swdmd_frac_scen_hist'].hist()\n",
    "plt.ylabel('count')\n",
    "plt.xlabel('change in SW delivery\\n(SW_scenario-SW_hist)/(demand)')"
   ]
  },
  {
   "cell_type": "code",
   "execution_count": null,
   "metadata": {},
   "outputs": [],
   "source": [
    "#difference in total_et to explain wells mitigating SW shortfalls\n",
    "# sum for each wr, divide by years\n",
    "df={}\n",
    "wdel={}\n",
    "wet={}\n",
    "tet={}\n",
    "nyrs=36.22221218331232\n",
    "for scen in scenlist:\n",
    "    # get average annual depths\n",
    "    dfsum=hetdf[scen].loc[:,['wr','well_del','wellet','total_et']].groupby('wr').mean()\n",
    "    dfsum['ha']=hetdf[scen].loc[:,['wr','ha']].groupby('wr').mean()\n",
    "    df[scen]=dfsum[['well_del','wellet','total_et']].divide(dfsum.ha,axis=0)\n",
    "for scen in scenlist:\n",
    "    # difference average annual volumes from historical average annual volumes\n",
    "    wdel[scen]=(df[scen]['well_del']-df['hist']['well_del'])\n",
    "    wet[scen]=(df[scen]['wellet']-df['hist']['wellet'])\n",
    "    tet[scen]=(df[scen]['total_et']-df['hist']['total_et'])\n",
    "welldel=pd.concat(wdel,axis=1)\n",
    "wellet=pd.concat(wet,axis=1)\n",
    "totalet=pd.concat(tet,axis=1)"
   ]
  },
  {
   "cell_type": "code",
   "execution_count": null,
   "metadata": {
    "scrolled": false
   },
   "outputs": [],
   "source": [
    "out=[w for w in totalet.index if totalet.loc[w,['1C','2C','3C','4C','5C']].max()>0.01] #outliers\n",
    "print(out)\n",
    "pmask=[w for w in wrdf.index if wrdf.loc[w,'wellnum']>0 and w not in out and 'gw' not in w]\n",
    "npmask=[w for w in wrdf.index if w not in pmask and w not in out]\n",
    "print(len(pmask),len(npmask))\n",
    "\n",
    "for scen in scenlist:\n",
    "    print('\\n'+scen)\n",
    "    df=pd.concat([wellet.loc[:,scen],totalet.loc[:,scen]],axis=1)\n",
    "    df.columns=['wellet','total_et']\n",
    "    print('mean decrease in total_et')\n",
    "    print('pmp: {}, nopmp: {}'.format(df.loc[pmask,'total_et'].mean(),df.loc[npmask,'total_et'].mean()))\n",
    "    print('decrease in pmp et is {} of nopmp'.format(df.loc[pmask,'total_et'].mean()/df.loc[npmask,'total_et'].mean()))\n",
    "    \n",
    "    \n",
    "    \n",
    "    p=df.loc[pmask,'wellet'].divide(df.loc[pmask,'total_et'])\n",
    "    print(p.loc[pmask].mean())\n",
    "    p.hist()\n",
    "    \n"
   ]
  },
  {
   "cell_type": "code",
   "execution_count": null,
   "metadata": {},
   "outputs": [],
   "source": [
    "#ratio of wellet and total_et to explain wells mitigating SW shortfalls\n",
    "# sum for each wr, divide by years\n",
    "wdel={}\n",
    "wet={}\n",
    "tet={}\n",
    "nyrs=36.22221218331232\n",
    "  \n",
    "for scen in scenlist:\n",
    "    df=hetdf[scen].loc[:,['wr','well_del','wellet','total_et']].groupby('wr').sum()\n",
    "    wdel[scen]=df['well_del']/nyrs\n",
    "    wet[scen]=df['wellet']/nyrs\n",
    "    tet[scen]=df['total_et']/nyrs\n",
    "welldel=pd.concat(wdel,axis=1)\n",
    "wellet=pd.concat(wet,axis=1)\n",
    "totalet=pd.concat(tet,axis=1)"
   ]
  },
  {
   "cell_type": "code",
   "execution_count": null,
   "metadata": {},
   "outputs": [],
   "source": [
    "for scen in scenlist:\n",
    "    print(scen,(totalet['hist'].sum()-totalet[scen].sum())/totalet['hist'].sum())"
   ]
  },
  {
   "cell_type": "code",
   "execution_count": null,
   "metadata": {
    "scrolled": false
   },
   "outputs": [],
   "source": [
    "out=[]#[w for w in totalet.index if totalet.loc[w,['1C','2C','3C','4C','5C']].max()>300] #outliers\n",
    "print(out)\n",
    "pmask=[w for w in wrdf.index if wrdf.loc[w,'wellnum']>0 and w not in out and 'gw' not in w]\n",
    "npmask=[w for w in wrdf.index if w not in pmask and w not in out]\n",
    "print(len(pmask),len(npmask))\n",
    "\n",
    "for scen in scenlist:\n",
    "    \n",
    "    fig,ax=plt.subplots(1,2,figsize=(10,5))\n",
    "    df=pd.concat([wellet.loc[:,scen],totalet.loc[:,scen]],axis=1)\n",
    "    df.columns=['wellet','total_et']\n",
    "    \n",
    "    print(' fraction of total_et from wellet')\n",
    "    p=df.loc[pmask,'wellet'].divide(df.loc[pmask,'total_et'])\n",
    "    print(p.loc[pmask].max(),p.loc[pmask].mean(),p.loc[pmask].min())\n",
    "    \n",
    "    df.plot(x='total_et',y='wellet',kind='scatter',ax=ax[0],color='g',title=scen+' with pmp',grid='on')\n",
    "    p.hist(ax=ax[1])\n",
    "    "
   ]
  },
  {
   "cell_type": "code",
   "execution_count": null,
   "metadata": {},
   "outputs": [],
   "source": []
  },
  {
   "cell_type": "code",
   "execution_count": null,
   "metadata": {},
   "outputs": [],
   "source": [
    "#ET in fpy by decade\n",
    "wrdec=[1,1000,1850,1860,1870,1880,1890,1900,2000]\n",
    "\n",
    "dic={}\n",
    "for i,wd in enumerate(wrdec[:-1]):\n",
    "    dic[wd]={}\n",
    "    for scen in scenlist:\n",
    "        #mask=[o for o in etdf[scen].index]# if etdf[scen].loc[o,'wr'] not in rotwr]\n",
    "        wryr=etdf[scen].groupby('wryr').mean()\n",
    "        mask=[d for d in wryr.index if wrdec[i]<=d<wrdec[i+1]]\n",
    "        dic[wd][scen]=wryr.loc[mask,'tot_del_fpy_scen_hist'].mean()"
   ]
  },
  {
   "cell_type": "code",
   "execution_count": null,
   "metadata": {},
   "outputs": [],
   "source": [
    "pd.DataFrame(dic).T.plot(kind='bar')\n",
    "plt.grid()\n",
    "plt.title('ET by priority decade')\n",
    "plt.ylabel('ET (feet per year)')\n",
    "plt.xlabel('priority decade')"
   ]
  },
  {
   "cell_type": "code",
   "execution_count": null,
   "metadata": {},
   "outputs": [],
   "source": [
    "mask=[o for o in etdf[scen].index if etdf[scen].loc[o,'wryr']<1000]\n",
    "etdf['1C'].loc[mask,['tot_del_scen_hist','sw_del_scen_hist','well_del_scen_hist',\n",
    "        'tot_del_fpy_scen_hist','sw_del_fpy_scen_hist','well_del_fpy_scen_hist',\n",
    "        'tot_et_fpy_scen_hist','tot_et_volume_scen_hist']].head()"
   ]
  },
  {
   "cell_type": "markdown",
   "metadata": {},
   "source": [
    "# Now do wells"
   ]
  },
  {
   "cell_type": "code",
   "execution_count": null,
   "metadata": {},
   "outputs": [],
   "source": [
    "# get well areas\n",
    "welltable=os.path.join(extdir,'CV_PMP_POU_area.csv')\n",
    "wellarea=pd.read_csv(welltable, dtype={'app': 'object'})\n",
    "wellarea.app='pmp_'+wellarea.app.str.rjust(5,'0')\n",
    "wellarea.set_index(wellarea.app,inplace=True)\n",
    "wellarea.drop('app',inplace=True,axis=1)\n"
   ]
  },
  {
   "cell_type": "code",
   "execution_count": null,
   "metadata": {},
   "outputs": [],
   "source": [
    "welldf={}\n",
    "\n",
    "scenlist,scens=get_scens()\n",
    "    \n",
    "#get well deliveries from post-processor\n",
    "for scen in scenlist:\n",
    "    if not os.path.exists(os.path.join(outdir,scen)):\n",
    "        os.mkdir(os.path.join(outdir,scen))\n",
    "    df=pd.read_csv(os.path.join(scens[scen],'sim_pmp_ts.txt'),delim_whitespace=True,index_col=False)\n",
    "    d8str=df.loc[:,'obnme'].str.split('_').str.get(-1)+'0101'\n",
    "    df['yr']=pd.to_datetime(d8str,format='%y%m%d')\n",
    "    df['well']='pmp_'+df.loc[:,'obnme'].str.split('_',1).str.get(0)\n",
    "    welldf[scen]=df.copy(deep=True)\n"
   ]
  },
  {
   "cell_type": "code",
   "execution_count": null,
   "metadata": {},
   "outputs": [],
   "source": [
    "# group and write\n",
    "mdflist=[]\n",
    "whmdflist=[]\n",
    "for scen in scenlist:\n",
    "    print(scen)\n",
    "    if 'MAR' in scen:\n",
    "        #base scenario... ie no mar\n",
    "        bscen=scen.replace('MAR','')\n",
    "        \n",
    "        welldf[scen].index=welldf[scen].obnme\n",
    "        welldf[bscen].index=welldf[bscen].obnme\n",
    "        welldf[scen]['wypmp_mar_nomar']=welldf[scen]['wypmp']-welldf[bscen]['wypmp']\n",
    "        \n",
    "        mdf=welldf[scen].groupby('well').mean() #well becomes index, don't include in cols\n",
    "        mdf.columns=['dT'+scen+'_'+c for c in mdf.columns]\n",
    "        mdflist.append(mdf) #well becomes index, don't include in cols\n",
    "        \n",
    "        # convert wrpmp to ha-m\n",
    "        whmdf=mdf.divide((3.28084**3)*10000)\n",
    "        whmdf['area']= wellarea['Shape_Area_m2']\n",
    "        whmdf['dT'+scen+'_wypmp_mpy_mar_nomar']=mdf['dT'+scen+'_wypmp_mar_nomar'].divide(3.28084**3).divide(whmdf['area'])\n",
    "        whmdflist.append(whmdf)\n",
    "    if 'MAR' not in scen:\n",
    "        #base scenario... ie hist\n",
    "        bscen='hist'\n",
    "        \n",
    "        welldf[scen].index=welldf[scen].obnme\n",
    "        welldf[bscen].index=welldf[bscen].obnme\n",
    "        welldf[scen]['wypmp_scen_hist']=welldf[scen]['wypmp']-welldf[bscen]['wypmp']\n",
    "        \n",
    "        mdf=welldf[scen].groupby('well').mean() #well becomes index, don't include in cols\n",
    "        mdf.columns=['dT'+scen+'_'+c for c in mdf.columns]\n",
    "        mdflist.append(mdf)\n",
    "        \n",
    "        # convert wrpmp to ha-m\n",
    "        whmdf=mdf.divide((3.28084**3)*10000)\n",
    "        whmdf['area']= wellarea['Shape_Area_m2']\n",
    "        whmdf['dT'+scen+'_wypmp_mpy_scen_hist']=mdf['dT'+scen+'_wypmp_scen_hist'].divide(3.28084**3).divide(whmdf['area'])\n",
    "        whmdflist.append(whmdf)\n",
    "        \n"
   ]
  },
  {
   "cell_type": "code",
   "execution_count": null,
   "metadata": {},
   "outputs": [],
   "source": [
    "# concat and save means\n",
    "mdf=pd.concat(mdflist,axis=1,sort=True)\n",
    "whmdf=pd.concat(whmdflist,axis=1,sort=True)\n",
    "\n",
    "mdf.to_csv(os.path.join(outdir,'mean_welldf.csv'))\n",
    "whmdf.to_csv(os.path.join(outdir,'mean_welldf_hamy.csv'))"
   ]
  },
  {
   "cell_type": "markdown",
   "metadata": {},
   "source": [
    "# Surface water analysis - historical (w PRMS and without)\n",
    "Accretion/depletion (outflow-(EF+WF))\n",
    "\n",
    "Cummulative measured and simulated\n",
    "    \n",
    "    A couple sites throughout the basin, but not enough continuous record at any given site \n",
    "\n",
    "Average monthly outflows"
   ]
  },
  {
   "cell_type": "code",
   "execution_count": null,
   "metadata": {},
   "outputs": [],
   "source": [
    "modir"
   ]
  },
  {
   "cell_type": "code",
   "execution_count": null,
   "metadata": {},
   "outputs": [],
   "source": [
    "scenlist,scens=get_scens()"
   ]
  },
  {
   "cell_type": "code",
   "execution_count": null,
   "metadata": {},
   "outputs": [],
   "source": [
    "#load measured data from ssf\n",
    "ssf=pd.read_csv(os.path.join('..\\pest','tsproc','CV-wes-8015trans-flows.ssf'),names=['site','date','time','flow'],\n",
    "                low_memory=False,delim_whitespace=True,comment='#')\n",
    "ssf.index=pd.to_datetime(ssf['date'])\n",
    "ssf.flow=ssf.flow"
   ]
  },
  {
   "cell_type": "code",
   "execution_count": null,
   "metadata": {},
   "outputs": [],
   "source": [
    "#data inflow and outflow\n",
    "outflow=ssf[ssf['site']=='10311000']\n",
    "outflow=outflow.resample('D').mean().interpolate('backfill')\n",
    "\n",
    "efin=ssf[ssf['site']=='10309000']\n",
    "efin=efin.resample('D').mean().interpolate('backfill')\n",
    "\n",
    "wfin=ssf[ssf['site']=='10310000']\n",
    "wfin=wfin.resample('D').mean().interpolate('backfill')\n",
    "\n",
    "accdep=outflow-(efin+wfin)"
   ]
  },
  {
   "cell_type": "code",
   "execution_count": null,
   "metadata": {},
   "outputs": [],
   "source": [
    "import CV_tools\n",
    "cft2ham=1/(3.28084**3)/10000\n",
    "simstart=datetime.date(1979,7,2)\n",
    "#sim inflow and outflow\n",
    "sim={}\n",
    "for scen in scenlist:\n",
    "    print(scen)\n",
    "    serlist=[]\n",
    "    sites=['10311000','10309000','10310000']\n",
    "    names=['outflow','efin','wfin']\n",
    "    for name,site in zip(names,sites):\n",
    "        ser=CV_tools.ts2df(site,'.sgag',simstart,rpath=os.path.join(scens[scen])).flow\n",
    "        ser=ser.resample('D').mean().interpolate('backfill')\n",
    "        #convert immediately\n",
    "        serlist.append(ser.multiply(cft2ham))\n",
    "    sim[scen]=pd.concat(serlist,axis=1)\n",
    "    sim[scen].columns=names\n",
    "    sim[scen]['accdep']=sim[scen]['outflow']-(sim[scen]['efin']+sim[scen]['wfin'])"
   ]
  },
  {
   "cell_type": "code",
   "execution_count": null,
   "metadata": {},
   "outputs": [],
   "source": []
  },
  {
   "cell_type": "code",
   "execution_count": null,
   "metadata": {},
   "outputs": [],
   "source": [
    "for scen in sim:  \n",
    "    ax=sim[scen]['accdep'].plot(fontsize=14)\n",
    "    ax=plt.title('Accretion and Depletion: {}'.format(scen))\n",
    "    ax=plt.ylabel('hectare-meters per day')\n",
    "    ax=plt.legend(['Measured','Simulated'])"
   ]
  },
  {
   "cell_type": "code",
   "execution_count": null,
   "metadata": {},
   "outputs": [],
   "source": [
    "def water_year(m,y):\n",
    "    if m<10:\n",
    "        return(str(y))\n",
    "    else:\n",
    "        return(str(y+1))"
   ]
  },
  {
   "cell_type": "code",
   "execution_count": null,
   "metadata": {},
   "outputs": [],
   "source": [
    "def water_yrmo(m,y):\n",
    "    return(y*100+m)"
   ]
  },
  {
   "cell_type": "code",
   "execution_count": null,
   "metadata": {},
   "outputs": [],
   "source": [
    "figsize=(10,5)\n",
    "annout={}\n",
    "dif={}\n",
    "cum={}\n",
    "cumdif={}\n",
    "mout={}\n",
    "mdif={}\n",
    "ymout={}\n",
    "ymdif={}\n",
    "#historical first\n",
    "scen='hist'\n",
    "sim[scen]['date']=sim[scen].index\n",
    "sim[scen]['month']=sim[scen]['date'].dt.month\n",
    "sim[scen]['year']=sim[scen]['date'].dt.year\n",
    "sim[scen]['wy']=sim[scen].apply(lambda x: water_year(x['month'],x['year']),axis=1)\n",
    "sim[scen]['wymo']=sim[scen].apply(lambda x: water_yrmo(x['month'],x['year']),axis=1)\n",
    "cum[scen]=sim[scen]['outflow'].cumsum()\n",
    "annout[scen]=sim[scen].loc[:,['outflow','wy']].groupby('wy').sum()\n",
    "mout[scen]=sim[scen].loc[:,['outflow','month']].groupby('month').sum()\n",
    "ymout[scen]=sim[scen].loc[:,['outflow','wymo']].groupby('wymo').sum()\n",
    "#now scenarios\n",
    "for scen in scenlist:\n",
    "    sim[scen]['date']=sim[scen].index\n",
    "    sim[scen]['month']=sim[scen]['date'].dt.month\n",
    "    sim[scen]['year']=sim[scen]['date'].dt.year\n",
    "    sim[scen]['wy']=sim[scen].apply(lambda x: water_year(x['month'],x['year']),axis=1)\n",
    "    sim[scen]['wymo']=sim[scen].apply(lambda x: water_yrmo(x['month'],x['year']),axis=1)\n",
    "    \n",
    "    cum[scen]=sim[scen]['outflow'].cumsum()\n",
    "    cumdif[scen]=cum[scen]-cum['hist']\n",
    "    annout[scen]=sim[scen].loc[:,['outflow','wy']].groupby('wy').sum()\n",
    "    dif[scen]=annout[scen]-annout['hist']\n",
    "    mout[scen]=sim[scen].loc[:,['outflow','month']].groupby('month').sum()\n",
    "    mdif[scen]=mout[scen]-mout['hist']\n",
    "    ymout[scen]=sim[scen].loc[:,['outflow','wymo']].groupby('wymo').sum()\n",
    "    ymdif[scen]=ymout[scen]-ymout['hist']"
   ]
  },
  {
   "cell_type": "code",
   "execution_count": null,
   "metadata": {
    "scrolled": true
   },
   "outputs": [],
   "source": [
    "efwy=sim['hist'].loc[:,['wy','efin']].groupby('wy').mean()\n",
    "print(efwy.divide(efwy.mean()))"
   ]
  },
  {
   "cell_type": "code",
   "execution_count": null,
   "metadata": {},
   "outputs": [],
   "source": [
    "a=pd.concat(dif,axis=1,ignore_index=True)\n",
    "a.columns=scenlist"
   ]
  },
  {
   "cell_type": "code",
   "execution_count": null,
   "metadata": {},
   "outputs": [],
   "source": [
    "leg=[]\n",
    "fig,ax=plt.subplots(1,1,figsize=figsize)\n",
    "a.loc[a.index!=1979,['1C','2C','3C','4C','5C']].plot(kind='bar',width=1,ax=ax,figsize=figsize,color=['b','c','g','m','r'])\n",
    "ax.set(xlabel='Simulation water year',ylabel='Difference in annual outflow\\nUSGS gage 10311000 (hectare-meters)')\n",
    "ytick = range(-2500,7500,500)\n",
    "#ax.set_yticks(ytick, minor=True )\n",
    "ax.grid('on', which='both', axis='both' )\n",
    "ax.tick_params(labelsize=14)\n",
    "ax.set_axisbelow(True)"
   ]
  },
  {
   "cell_type": "code",
   "execution_count": null,
   "metadata": {},
   "outputs": [],
   "source": [
    "nyrs=(sim['hist'].index[-1]-sim['hist'].index[0]).days/365.2455"
   ]
  },
  {
   "cell_type": "code",
   "execution_count": null,
   "metadata": {},
   "outputs": [],
   "source": [
    "# 35-year average change in annual inflow\n",
    "for scen in mdif:\n",
    "    hist=(sim['hist'].loc[:,'efin']+sim['hist'].loc[:,'wfin']).sum()/nyrs\n",
    "    fd=(sim[scen].loc[:,'efin']+sim[scen].loc[:,'wfin']-((sim['hist'].loc[:,'efin']+sim['hist'].loc[:,'wfin']))).sum()/nyrs\n",
    "    print(scen,hist,fd,fd/hist)"
   ]
  },
  {
   "cell_type": "code",
   "execution_count": null,
   "metadata": {},
   "outputs": [],
   "source": [
    "# 35-year average change in annual outflow\n",
    "for scen in sim:\n",
    "    hist=sim['hist'].loc[:,'outflow'].sum()/nyrs\n",
    "    fd=(sim[scen].loc[:,'outflow']-sim['hist'].loc[:,'outflow']).sum()/nyrs\n",
    "    print(scen,hist,fd,fd/hist)"
   ]
  },
  {
   "cell_type": "code",
   "execution_count": null,
   "metadata": {},
   "outputs": [],
   "source": [
    "# 35-year average change in irrigation season inflow\n",
    "mask=[m for m in sim['hist'].index if sim['hist'].loc[m,'month']>3 and sim['hist'].loc[m,'month']<10]\n",
    "   \n",
    "for scen in sim:\n",
    "    hist=(sim['hist'].loc[mask,'efin']+sim['hist'].loc[mask,'wfin']).sum()/nyrs\n",
    "    fd=(sim[scen].loc[mask,'efin']+sim[scen].loc[mask,'wfin']-((sim['hist'].loc[mask,'efin']+sim['hist'].loc[mask,'wfin']))).sum()/nyrs\n",
    "    print(scen,hist,fd,fd/hist)"
   ]
  },
  {
   "cell_type": "code",
   "execution_count": null,
   "metadata": {},
   "outputs": [],
   "source": [
    "# 35-year average change in irrigation season outflow\n",
    "mask=[m for m in sim['1C'].index if sim['1C'].loc[m,'month']>3 and sim['1C'].loc[m,'month']<10]\n",
    "   \n",
    "for scen in sim:\n",
    "    hist=sim['hist'].loc[mask,'outflow'].sum()/nyrs\n",
    "    fd=(sim[scen].loc[mask,'outflow']-sim['hist'].loc[mask,'outflow']).sum()/nyrs\n",
    "    print(scen,hist,fd,fd/hist)"
   ]
  },
  {
   "cell_type": "code",
   "execution_count": null,
   "metadata": {
    "scrolled": true
   },
   "outputs": [],
   "source": [
    "dates=[datetime.date(1982,10,1),datetime.date(1986,10,1)]\n",
    "yrmos=[i.year*100+i.month for i in dates]\n",
    "\n",
    "fig,ax=plt.subplots(1,1,figsize=(10,5))\n",
    "b=pd.concat([ymdif['1C'],ymdif['3C'],ymdif['5C']],axis=1,ignore_index=True)\n",
    "b.columns=['1C','3C','5C']\n",
    "\n",
    "b.loc[yrmos[0]:yrmos[1]].plot(ax=ax,kind='bar',figsize=(10,5),width=0.75)\n",
    "ax.grid('on', which='both', axis='both' )\n",
    "ax.set_axisbelow(True)\n",
    "ax.set(xlabel='Simulation year and month (YEARMO)',ylabel='Difference in cumulative montly outlfow\\nUSGS gage 10311000 (hectare-meters)')"
   ]
  },
  {
   "cell_type": "code",
   "execution_count": null,
   "metadata": {
    "scrolled": true
   },
   "outputs": [],
   "source": [
    "fig,ax=plt.subplots(1,1,figsize=(10,5))\n",
    "b=pd.concat([ymout['hist'],ymout['1C'],ymout['3C'],ymout['5C']],axis=1,ignore_index=True)\n",
    "b.columns=['hist','1C','3C','5C']\n",
    "\n",
    "b.loc[yrmos[0]:yrmos[1]].plot(ax=ax,kind='bar',figsize=(10,5),width=0.75)\n",
    "ax.grid('on', which='both', axis='both' )\n",
    "ax.set_axisbelow(True)\n",
    "ax.set(xlabel='Simulation year and month (YEARMO)',ylabel='Cumulative monthly outlfow\\nUSGS gage 10311000 (hectare-meters)')"
   ]
  },
  {
   "cell_type": "code",
   "execution_count": null,
   "metadata": {
    "scrolled": true
   },
   "outputs": [],
   "source": [
    "fig,ax=plt.subplots(1,1,figsize=figsize)\n",
    "sim['hist'].loc[dates[0]:dates[1],'efin'].plot(ax=ax)\n",
    "sim['3C'].loc[dates[0]:dates[1],'efin'].plot(ax=ax)\n",
    "sim['5C'].loc[dates[0]:dates[1],'efin'].plot(ax=ax)\n",
    "ax.legend(['historical','3C','5C'])\n",
    "ax.set(xlabel='Simulation date',ylabel='East Fork Flows\\nUSGS gage 10309000\\n(hectare-meters per day)')"
   ]
  },
  {
   "cell_type": "code",
   "execution_count": null,
   "metadata": {},
   "outputs": [],
   "source": [
    "fig,ax=plt.subplots(1,1,figsize=figsize)\n",
    "mo=pd.concat([mdif[s].divide(nyrs) for s in mdif if 'hist' not in s],axis=1,ignore_index=True)\n",
    "mo.columns=[s for s in scenlist if 'hist' not in s]\n",
    "\n",
    "mo.plot(ax=ax,kind='bar',figsize=(10,5),width=0.75,color=['b','g','c','m','r'])\n",
    "ax.grid('on', which='both', axis='both' )\n",
    "ax.set_axisbelow(True)\n",
    "ax.set(xlabel='Simulation month',ylabel='Difference in monthly outlfow\\nscenario minus historical\\nUSGS gage 10311000 (hectare-meters)')\n",
    "\n",
    "fig.savefig(os.path.join(resdir,'dT_out_dif.png'), dpi=600,bbox_inches='tight')"
   ]
  },
  {
   "cell_type": "code",
   "execution_count": null,
   "metadata": {},
   "outputs": [],
   "source": [
    "for scen in mo:\n",
    "    print(scen,mo[scen])"
   ]
  },
  {
   "cell_type": "code",
   "execution_count": null,
   "metadata": {
    "scrolled": true
   },
   "outputs": [],
   "source": [
    "cumsum=pd.concat(cum,axis=1,ignore_index=True)\n",
    "cumsum.columns=scenlist\n",
    "\n",
    "fig,ax=plt.subplots(1,1,figsize=figsize)\n",
    "cumsum.plot(ax=ax)\n",
    "ax.set(xlabel='Simulation date',ylabel='Cumulative outlfow\\nUSGS gage 10311000 (hectare-meters)')"
   ]
  },
  {
   "cell_type": "code",
   "execution_count": null,
   "metadata": {},
   "outputs": [],
   "source": [
    "cd=[]\n",
    "col=[]\n",
    "fig,ax=plt.subplots(1,1,figsize=figsize)\n",
    "for scen in cumsum:\n",
    "    if scen!='hist':\n",
    "        cd.append(cumsum[scen]-cumsum['hist'])\n",
    "        col.append(scen)\n",
    "cumdif=pd.concat(cd,axis=1,ignore_index=True)\n",
    "cumdif.columns=col\n",
    "cumdif.plot(ax=ax,color=['b','g','c','m','r'])\n",
    "ax.legend(bbox_to_anchor=(.5, .95),loc='center',ncol=len(scenlist)-1)\n",
    "ax.grid('on', which='both', axis='both' )\n",
    "ax.set(xlabel='Simulation water year',ylabel='Difference in cumulative outflow from historical\\nUSGS gage 10311000 (hectare-meters)')\n",
    "\n",
    "fig.savefig(os.path.join(resdir,'dT_cumout_dif.png'), dpi=600,bbox_inches='tight')"
   ]
  },
  {
   "cell_type": "code",
   "execution_count": null,
   "metadata": {
    "scrolled": false
   },
   "outputs": [],
   "source": [
    "cumdif.iloc[-1,:]"
   ]
  },
  {
   "cell_type": "code",
   "execution_count": null,
   "metadata": {},
   "outputs": [],
   "source": []
  },
  {
   "cell_type": "markdown",
   "metadata": {},
   "source": [
    "# AG delivery analysis\n",
    "Stacked bar graph of ag deliveries (SW+GW+GWET) binned by priority decade\n",
    "Histogram of annual deliveries in feet"
   ]
  },
  {
   "cell_type": "code",
   "execution_count": null,
   "metadata": {},
   "outputs": [],
   "source": [
    "pmp=[o for o in obs.index if obs.loc[o,'obgnme']=='pmp']\n",
    "obs.loc[pmp,'rwell']=obs.loc[pmp,'obsnme'].apply(lambda x: x.split('_')[0])\n",
    "obs.loc[pmp,:].head()"
   ]
  },
  {
   "cell_type": "code",
   "execution_count": null,
   "metadata": {},
   "outputs": [],
   "source": [
    "wlist=list(set(obs.loc[:,'rwell']))\n",
    "df=obs.loc[obs['rwell'].isin(wlist),:]       "
   ]
  },
  {
   "cell_type": "code",
   "execution_count": null,
   "metadata": {},
   "outputs": [],
   "source": [
    "df.head() "
   ]
  },
  {
   "cell_type": "code",
   "execution_count": null,
   "metadata": {},
   "outputs": [],
   "source": [
    "wrdf.head()"
   ]
  },
  {
   "cell_type": "code",
   "execution_count": null,
   "metadata": {},
   "outputs": [],
   "source": [
    "df.loc[df>1800].hist(bins=range(1850,1930,10))\n",
    "plt.ylabel('number of wells')\n",
    "plt.xlabel('WR priority year')"
   ]
  },
  {
   "cell_type": "code",
   "execution_count": null,
   "metadata": {},
   "outputs": [],
   "source": [
    "k='fracsup_sw'\n",
    "ps=[p for p in pars.index if k in pars.loc[p,'pargp']]\n",
    "pen['9'].loc[ps,:].mean(axis=1).hist()\n",
    "plt.xlabel('calibrated {} parameter'.format(k))\n",
    "plt.ylabel('number of values')"
   ]
  },
  {
   "cell_type": "code",
   "execution_count": null,
   "metadata": {},
   "outputs": [],
   "source": []
  },
  {
   "cell_type": "code",
   "execution_count": null,
   "metadata": {},
   "outputs": [],
   "source": []
  },
  {
   "cell_type": "code",
   "execution_count": null,
   "metadata": {},
   "outputs": [],
   "source": []
  },
  {
   "cell_type": "code",
   "execution_count": null,
   "metadata": {},
   "outputs": [],
   "source": []
  }
 ],
 "metadata": {
  "kernelspec": {
   "display_name": "Python 3",
   "language": "python",
   "name": "python3"
  },
  "language_info": {
   "codemirror_mode": {
    "name": "ipython",
    "version": 3
   },
   "file_extension": ".py",
   "mimetype": "text/x-python",
   "name": "python",
   "nbconvert_exporter": "python",
   "pygments_lexer": "ipython3",
   "version": "3.6.6"
  }
 },
 "nbformat": 4,
 "nbformat_minor": 2
}
